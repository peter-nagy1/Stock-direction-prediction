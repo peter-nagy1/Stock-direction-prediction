{
  "nbformat": 4,
  "nbformat_minor": 0,
  "metadata": {
    "language_info": {
      "codemirror_mode": {
        "name": "ipython",
        "version": 3
      },
      "file_extension": ".py",
      "mimetype": "text/x-python",
      "name": "python",
      "nbconvert_exporter": "python",
      "pygments_lexer": "ipython3",
      "version": "3.7.2"
    },
    "orig_nbformat": 2,
    "kernelspec": {
      "name": "python37264bitc69858c3cc064b3a811d50b9ddeffc56",
      "display_name": "Python 3.7.2 64-bit"
    },
    "colab": {
      "name": "project.ipynb",
      "provenance": [],
      "collapsed_sections": []
    },
    "accelerator": "GPU",
    "metadata": {
      "interpreter": {
        "hash": "5163c4f78c61f41f5bea3570cd2b8132cf5ff719c06498f8f1e41128c011b2cc"
      }
    }
  },
  "cells": [
    {
      "cell_type": "markdown",
      "metadata": {
        "id": "BZgP-yFNzfK8"
      },
      "source": [
        "# Stock price direction prediction\n",
        "\n",
        "##Absract\n",
        "For this project, we decided to work on the prediction of future stock price using custom built Keras densely-connected Neural Network models and long short-term memory (LSTM) models. We present our data's source and libraries to retrieve the data. We clean our data and apply some preprocessing on it. We mention the possible hyper-parameters that can be used in our case, and tweak them in order to find the best hyper-parameters for this task. Finally, we create a multi-input model where inputs are different size sequences of price data."
      ]
    },
    {
      "cell_type": "code",
      "metadata": {
        "colab": {
          "base_uri": "https://localhost:8080/",
          "height": 0
        },
        "id": "N713PRCmvpKS",
        "outputId": "f94ada8d-e85f-477d-ab34-0fdc295ed726"
      },
      "source": [
        "# Necessary dependencies\n",
        "!pip install yfinance\n",
        "!pip install finvizfinance"
      ],
      "execution_count": 1,
      "outputs": [
        {
          "output_type": "stream",
          "name": "stdout",
          "text": [
            "Requirement already satisfied: yfinance in c:\\users\\peter\\appdata\\local\\programs\\python\\python37\\lib\\site-packages (0.1.54)\n",
            "Requirement already satisfied: multitasking>=0.0.7 in c:\\users\\peter\\appdata\\local\\programs\\python\\python37\\lib\\site-packages (from yfinance) (0.0.9)\n",
            "Requirement already satisfied: requests>=2.20 in c:\\users\\peter\\appdata\\local\\programs\\python\\python37\\lib\\site-packages (from yfinance) (2.23.0)\n",
            "Requirement already satisfied: numpy>=1.15 in c:\\users\\peter\\appdata\\local\\programs\\python\\python37\\lib\\site-packages (from yfinance) (1.19.4)\n",
            "Requirement already satisfied: pandas>=0.24 in c:\\users\\peter\\appdata\\local\\programs\\python\\python37\\lib\\site-packages (from yfinance) (0.25.1)\n",
            "Requirement already satisfied: pytz>=2017.2 in c:\\users\\peter\\appdata\\local\\programs\\python\\python37\\lib\\site-packages (from pandas>=0.24->yfinance) (2019.2)\n",
            "Requirement already satisfied: python-dateutil>=2.6.1 in c:\\users\\peter\\appdata\\local\\programs\\python\\python37\\lib\\site-packages (from pandas>=0.24->yfinance) (2.8.1)\n",
            "Requirement already satisfied: six>=1.5 in c:\\users\\peter\\appdata\\local\\programs\\python\\python37\\lib\\site-packages (from python-dateutil>=2.6.1->pandas>=0.24->yfinance) (1.15.0)\n",
            "Requirement already satisfied: idna<3,>=2.5 in c:\\users\\peter\\appdata\\local\\programs\\python\\python37\\lib\\site-packages (from requests>=2.20->yfinance) (2.9)\n",
            "Requirement already satisfied: chardet<4,>=3.0.2 in c:\\users\\peter\\appdata\\local\\programs\\python\\python37\\lib\\site-packages (from requests>=2.20->yfinance) (3.0.4)\n",
            "Requirement already satisfied: certifi>=2017.4.17 in c:\\users\\peter\\appdata\\local\\programs\\python\\python37\\lib\\site-packages (from requests>=2.20->yfinance) (2019.11.28)\n",
            "Requirement already satisfied: urllib3!=1.25.0,!=1.25.1,<1.26,>=1.21.1 in c:\\users\\peter\\appdata\\local\\programs\\python\\python37\\lib\\site-packages (from requests>=2.20->yfinance) (1.25.8)\n",
            "WARNING: You are using pip version 20.3.3; however, version 21.1.1 is available.\n",
            "You should consider upgrading via the 'c:\\users\\peter\\appdata\\local\\programs\\python\\python37\\python.exe -m pip install --upgrade pip' command.\n",
            "Requirement already satisfied: finvizfinance in c:\\users\\peter\\appdata\\local\\programs\\python\\python37\\lib\\site-packages (0.9.2)\n",
            "Requirement already satisfied: requests in c:\\users\\peter\\appdata\\local\\programs\\python\\python37\\lib\\site-packages (from finvizfinance) (2.23.0)\n",
            "Requirement already satisfied: bs4 in c:\\users\\peter\\appdata\\local\\programs\\python\\python37\\lib\\site-packages (from finvizfinance) (0.0.1)\n",
            "Requirement already satisfied: pandas in c:\\users\\peter\\appdata\\local\\programs\\python\\python37\\lib\\site-packages (from finvizfinance) (0.25.1)\n",
            "Requirement already satisfied: datetime in c:\\users\\peter\\appdata\\local\\programs\\python\\python37\\lib\\site-packages (from finvizfinance) (4.3)\n",
            "Requirement already satisfied: lxml in c:\\users\\peter\\appdata\\local\\programs\\python\\python37\\lib\\site-packages (from finvizfinance) (4.4.2)\n",
            "Requirement already satisfied: beautifulsoup4 in c:\\users\\peter\\appdata\\local\\programs\\python\\python37\\lib\\site-packages (from bs4->finvizfinance) (4.9.0)\n",
            "Requirement already satisfied: soupsieve>1.2 in c:\\users\\peter\\appdata\\local\\programs\\python\\python37\\lib\\site-packages (from beautifulsoup4->bs4->finvizfinance) (2.0)\n",
            "Requirement already satisfied: pytz in c:\\users\\peter\\appdata\\local\\programs\\python\\python37\\lib\\site-packages (from datetime->finvizfinance) (2019.2)\n",
            "Requirement already satisfied: zope.interface in c:\\users\\peter\\appdata\\local\\programs\\python\\python37\\lib\\site-packages (from datetime->finvizfinance) (5.2.0)\n",
            "Requirement already satisfied: python-dateutil>=2.6.1 in c:\\users\\peter\\appdata\\local\\programs\\python\\python37\\lib\\site-packages (from pandas->finvizfinance) (2.8.1)\n",
            "Requirement already satisfied: numpy>=1.13.3 in c:\\users\\peter\\appdata\\local\\programs\\python\\python37\\lib\\site-packages (from pandas->finvizfinance) (1.19.4)\n",
            "Requirement already satisfied: six>=1.5 in c:\\users\\peter\\appdata\\local\\programs\\python\\python37\\lib\\site-packages (from python-dateutil>=2.6.1->pandas->finvizfinance) (1.15.0)\n",
            "Requirement already satisfied: urllib3!=1.25.0,!=1.25.1,<1.26,>=1.21.1 in c:\\users\\peter\\appdata\\local\\programs\\python\\python37\\lib\\site-packages (from requests->finvizfinance) (1.25.8)\n",
            "Requirement already satisfied: certifi>=2017.4.17 in c:\\users\\peter\\appdata\\local\\programs\\python\\python37\\lib\\site-packages (from requests->finvizfinance) (2019.11.28)\n",
            "Requirement already satisfied: chardet<4,>=3.0.2 in c:\\users\\peter\\appdata\\local\\programs\\python\\python37\\lib\\site-packages (from requests->finvizfinance) (3.0.4)\n",
            "Requirement already satisfied: idna<3,>=2.5 in c:\\users\\peter\\appdata\\local\\programs\\python\\python37\\lib\\site-packages (from requests->finvizfinance) (2.9)\n",
            "Requirement already satisfied: setuptools in c:\\users\\peter\\appdata\\local\\programs\\python\\python37\\lib\\site-packages (from zope.interface->datetime->finvizfinance) (42.0.2)\n",
            "WARNING: You are using pip version 20.3.3; however, version 21.1.1 is available.\n",
            "You should consider upgrading via the 'c:\\users\\peter\\appdata\\local\\programs\\python\\python37\\python.exe -m pip install --upgrade pip' command.\n"
          ]
        }
      ]
    },
    {
      "cell_type": "code",
      "metadata": {
        "id": "WoH2RLouzfLC"
      },
      "source": [
        "import numpy as np\n",
        "from tensorflow.keras import *\n",
        "import yfinance as yf\n",
        "from finvizfinance.screener.overview import Overview\n",
        "import matplotlib.pyplot as pl"
      ],
      "execution_count": 2,
      "outputs": []
    },
    {
      "cell_type": "markdown",
      "metadata": {
        "id": "VlN1WfPKzfLD"
      },
      "source": [
        "### API Docs\n",
        "\n",
        "\"yfinance\" library is used to download historical data\n",
        " - https://pypi.org/project/yfinance/\n",
        "\n",
        "\"finvizfinance\" library is used to get ticker names\n",
        " - https://pypi.org/project/finvizfinance/"
      ]
    },
    {
      "cell_type": "markdown",
      "metadata": {
        "id": "8b83ibCrzfLE"
      },
      "source": [
        "## Get Data"
      ]
    },
    {
      "cell_type": "code",
      "metadata": {
        "id": "WYt1InKHzfLE"
      },
      "source": [
        "# Get an overview of the screener\n",
        "overview = Overview()"
      ],
      "execution_count": 3,
      "outputs": []
    },
    {
      "cell_type": "code",
      "metadata": {
        "colab": {
          "base_uri": "https://localhost:8080/",
          "height": 0
        },
        "id": "dbi553FCzfLE",
        "outputId": "b5e28379-85c0-415a-837b-6d264cfe4bc8"
      },
      "source": [
        "# Here are the options for filters to use to filter stocks\n",
        "overview.getFilters()"
      ],
      "execution_count": 4,
      "outputs": [
        {
          "output_type": "execute_result",
          "data": {
            "text/plain": [
              "['Exchange',\n",
              " 'Index',\n",
              " 'Sector',\n",
              " 'Industry',\n",
              " 'Country',\n",
              " 'Market Cap.',\n",
              " 'P/E',\n",
              " 'Forward P/E',\n",
              " 'PEG',\n",
              " 'P/S',\n",
              " 'P/B',\n",
              " 'Price/Cash',\n",
              " 'Price/Free Cash Flow',\n",
              " 'EPS growththis year',\n",
              " 'EPS growthnext year',\n",
              " 'EPS growthpast 5 years',\n",
              " 'EPS growthnext 5 years',\n",
              " 'Sales growthpast 5 years',\n",
              " 'EPS growthqtr over qtr',\n",
              " 'Sales growthqtr over qtr',\n",
              " 'Dividend Yield',\n",
              " 'Return on Assets',\n",
              " 'Return on Equity',\n",
              " 'Return on Investment',\n",
              " 'Current Ratio',\n",
              " 'Quick Ratio',\n",
              " 'LT Debt/Equity',\n",
              " 'Debt/Equity',\n",
              " 'Gross Margin',\n",
              " 'Operating Margin',\n",
              " 'Net Profit Margin',\n",
              " 'Payout Ratio',\n",
              " 'InsiderOwnership',\n",
              " 'InsiderTransactions',\n",
              " 'InstitutionalOwnership',\n",
              " 'InstitutionalTransactions',\n",
              " 'Float Short',\n",
              " 'Analyst Recom.',\n",
              " 'Option/Short',\n",
              " 'Earnings Date',\n",
              " 'Performance',\n",
              " 'Performance 2',\n",
              " 'Volatility',\n",
              " 'RSI (14)',\n",
              " 'Gap',\n",
              " '20-Day Simple Moving Average',\n",
              " '50-Day Simple Moving Average',\n",
              " '200-Day Simple Moving Average',\n",
              " 'Change',\n",
              " 'Change from Open',\n",
              " '20-Day High/Low',\n",
              " '50-Day High/Low',\n",
              " '52-Week High/Low',\n",
              " 'Pattern',\n",
              " 'Candlestick',\n",
              " 'Beta',\n",
              " 'Average True Range',\n",
              " 'Average Volume',\n",
              " 'Relative Volume',\n",
              " 'Current Volume',\n",
              " 'Price',\n",
              " 'Target Price',\n",
              " 'IPO Date',\n",
              " 'Shares Outstanding',\n",
              " 'Float']"
            ]
          },
          "metadata": {},
          "execution_count": 4
        }
      ]
    },
    {
      "cell_type": "code",
      "metadata": {
        "colab": {
          "base_uri": "https://localhost:8080/",
          "height": 0
        },
        "id": "bGJPz2qAzfLG",
        "outputId": "c896dfe9-4fbb-4b98-9096-fc0510c58872"
      },
      "source": [
        "# We would like to retrieve stocks with the highest Market Capitalization.\n",
        "# \"Market capitalization refers to the total dollar market value of a company's outstanding shares of stock.\"\n",
        "# In other words, these are the most valued stocks. The reasoning behind selecting this filter is simply that\n",
        "# these are strong stocks that are traded by most investors or hedge funds.\n",
        "overview.getFilterOptions('Market Cap.')"
      ],
      "execution_count": 5,
      "outputs": [
        {
          "output_type": "execute_result",
          "data": {
            "text/plain": [
              "['Any',\n",
              " 'Mega ($200bln and more)',\n",
              " 'Large ($10bln to $200bln)',\n",
              " 'Mid ($2bln to $10bln)',\n",
              " 'Small ($300mln to $2bln)',\n",
              " 'Micro ($50mln to $300mln)',\n",
              " 'Nano (under $50mln)',\n",
              " '+Large (over $10bln)',\n",
              " '+Mid (over $2bln)',\n",
              " '+Small (over $300mln)',\n",
              " '+Micro (over $50mln)',\n",
              " '-Large (under $200bln)',\n",
              " '-Mid (under $10bln)',\n",
              " '-Small (under $2bln)',\n",
              " '-Micro (under $300mln)']"
            ]
          },
          "metadata": {},
          "execution_count": 5
        }
      ]
    },
    {
      "cell_type": "code",
      "metadata": {
        "colab": {
          "base_uri": "https://localhost:8080/",
          "height": 0
        },
        "id": "GUdykmplzfLG",
        "outputId": "99be9b4e-c0d6-4927-c6ec-f425738dff90"
      },
      "source": [
        "filters = {'Market Cap.':'+Large (over $10bln)'}\n",
        "overview.set_filter(filters_dict=filters)\n",
        "df = overview.ScreenerView()"
      ],
      "execution_count": 6,
      "outputs": [
        {
          "output_type": "stream",
          "name": "stdout",
          "text": []
        }
      ]
    },
    {
      "cell_type": "code",
      "metadata": {
        "colab": {
          "base_uri": "https://localhost:8080/",
          "height": 419
        },
        "id": "KwmUXfNVzfLH",
        "outputId": "d4ac86bf-c5ea-437f-90d2-294ba9aeaf2a"
      },
      "source": [
        "df"
      ],
      "execution_count": 7,
      "outputs": [
        {
          "output_type": "execute_result",
          "data": {
            "text/plain": [
              "    Ticker                                  Company                  Sector  \\\n",
              "0        A               Agilent Technologies, Inc.              Healthcare   \n",
              "1      AAL             American Airlines Group Inc.             Industrials   \n",
              "2      AAP                 Advance Auto Parts, Inc.       Consumer Cyclical   \n",
              "3     AAPL                               Apple Inc.              Technology   \n",
              "4      ABB                                  ABB Ltd             Industrials   \n",
              "..     ...                                      ...                     ...   \n",
              "878   ZNGA                               Zynga Inc.  Communication Services   \n",
              "879    ZNH  China Southern Airlines Company Limited             Industrials   \n",
              "880     ZS                            Zscaler, Inc.              Technology   \n",
              "881    ZTO                ZTO Express (Cayman) Inc.             Industrials   \n",
              "882    ZTS                              Zoetis Inc.              Healthcare   \n",
              "\n",
              "                                     Industry      Country    Market Cap  \\\n",
              "0                      Diagnostics & Research          USA  3.962000e+10   \n",
              "1                                    Airlines          USA  1.360000e+10   \n",
              "2                            Specialty Retail          USA  1.338000e+10   \n",
              "3                        Consumer Electronics          USA  2.085450e+12   \n",
              "4              Specialty Industrial Machinery  Switzerland  7.178000e+10   \n",
              "..                                        ...          ...           ...   \n",
              "878            Electronic Gaming & Multimedia          USA  1.075000e+10   \n",
              "879                                  Airlines        China  1.342000e+10   \n",
              "880                 Software - Infrastructure          USA  2.188000e+10   \n",
              "881            Integrated Freight & Logistics        China  2.566000e+10   \n",
              "882  Drug Manufacturers - Specialty & Generic          USA  8.111000e+10   \n",
              "\n",
              "        P/E   Price  Change      Volume  \n",
              "0     50.35  130.45 -0.0053    150881.0  \n",
              "1      None   22.83  0.0192  12984725.0  \n",
              "2     28.38  203.96  0.0057     79507.0  \n",
              "3      28.6  126.10 -0.0106  22937746.0  \n",
              "4    139.11   33.86 -0.0105    454878.0  \n",
              "..      ...     ...     ...         ...  \n",
              "878    None   10.09 -0.0142   2999781.0  \n",
              "879    None   33.01  0.0003      1077.0  \n",
              "880    None  164.24 -0.0067    316464.0  \n",
              "881   36.79   30.92  0.0029    545857.0  \n",
              "882   46.45  170.85 -0.0084    156803.0  \n",
              "\n",
              "[883 rows x 10 columns]"
            ],
            "text/html": "<div>\n<style scoped>\n    .dataframe tbody tr th:only-of-type {\n        vertical-align: middle;\n    }\n\n    .dataframe tbody tr th {\n        vertical-align: top;\n    }\n\n    .dataframe thead th {\n        text-align: right;\n    }\n</style>\n<table border=\"1\" class=\"dataframe\">\n  <thead>\n    <tr style=\"text-align: right;\">\n      <th></th>\n      <th>Ticker</th>\n      <th>Company</th>\n      <th>Sector</th>\n      <th>Industry</th>\n      <th>Country</th>\n      <th>Market Cap</th>\n      <th>P/E</th>\n      <th>Price</th>\n      <th>Change</th>\n      <th>Volume</th>\n    </tr>\n  </thead>\n  <tbody>\n    <tr>\n      <td>0</td>\n      <td>A</td>\n      <td>Agilent Technologies, Inc.</td>\n      <td>Healthcare</td>\n      <td>Diagnostics &amp; Research</td>\n      <td>USA</td>\n      <td>3.962000e+10</td>\n      <td>50.35</td>\n      <td>130.45</td>\n      <td>-0.0053</td>\n      <td>150881.0</td>\n    </tr>\n    <tr>\n      <td>1</td>\n      <td>AAL</td>\n      <td>American Airlines Group Inc.</td>\n      <td>Industrials</td>\n      <td>Airlines</td>\n      <td>USA</td>\n      <td>1.360000e+10</td>\n      <td>None</td>\n      <td>22.83</td>\n      <td>0.0192</td>\n      <td>12984725.0</td>\n    </tr>\n    <tr>\n      <td>2</td>\n      <td>AAP</td>\n      <td>Advance Auto Parts, Inc.</td>\n      <td>Consumer Cyclical</td>\n      <td>Specialty Retail</td>\n      <td>USA</td>\n      <td>1.338000e+10</td>\n      <td>28.38</td>\n      <td>203.96</td>\n      <td>0.0057</td>\n      <td>79507.0</td>\n    </tr>\n    <tr>\n      <td>3</td>\n      <td>AAPL</td>\n      <td>Apple Inc.</td>\n      <td>Technology</td>\n      <td>Consumer Electronics</td>\n      <td>USA</td>\n      <td>2.085450e+12</td>\n      <td>28.6</td>\n      <td>126.10</td>\n      <td>-0.0106</td>\n      <td>22937746.0</td>\n    </tr>\n    <tr>\n      <td>4</td>\n      <td>ABB</td>\n      <td>ABB Ltd</td>\n      <td>Industrials</td>\n      <td>Specialty Industrial Machinery</td>\n      <td>Switzerland</td>\n      <td>7.178000e+10</td>\n      <td>139.11</td>\n      <td>33.86</td>\n      <td>-0.0105</td>\n      <td>454878.0</td>\n    </tr>\n    <tr>\n      <td>...</td>\n      <td>...</td>\n      <td>...</td>\n      <td>...</td>\n      <td>...</td>\n      <td>...</td>\n      <td>...</td>\n      <td>...</td>\n      <td>...</td>\n      <td>...</td>\n      <td>...</td>\n    </tr>\n    <tr>\n      <td>878</td>\n      <td>ZNGA</td>\n      <td>Zynga Inc.</td>\n      <td>Communication Services</td>\n      <td>Electronic Gaming &amp; Multimedia</td>\n      <td>USA</td>\n      <td>1.075000e+10</td>\n      <td>None</td>\n      <td>10.09</td>\n      <td>-0.0142</td>\n      <td>2999781.0</td>\n    </tr>\n    <tr>\n      <td>879</td>\n      <td>ZNH</td>\n      <td>China Southern Airlines Company Limited</td>\n      <td>Industrials</td>\n      <td>Airlines</td>\n      <td>China</td>\n      <td>1.342000e+10</td>\n      <td>None</td>\n      <td>33.01</td>\n      <td>0.0003</td>\n      <td>1077.0</td>\n    </tr>\n    <tr>\n      <td>880</td>\n      <td>ZS</td>\n      <td>Zscaler, Inc.</td>\n      <td>Technology</td>\n      <td>Software - Infrastructure</td>\n      <td>USA</td>\n      <td>2.188000e+10</td>\n      <td>None</td>\n      <td>164.24</td>\n      <td>-0.0067</td>\n      <td>316464.0</td>\n    </tr>\n    <tr>\n      <td>881</td>\n      <td>ZTO</td>\n      <td>ZTO Express (Cayman) Inc.</td>\n      <td>Industrials</td>\n      <td>Integrated Freight &amp; Logistics</td>\n      <td>China</td>\n      <td>2.566000e+10</td>\n      <td>36.79</td>\n      <td>30.92</td>\n      <td>0.0029</td>\n      <td>545857.0</td>\n    </tr>\n    <tr>\n      <td>882</td>\n      <td>ZTS</td>\n      <td>Zoetis Inc.</td>\n      <td>Healthcare</td>\n      <td>Drug Manufacturers - Specialty &amp; Generic</td>\n      <td>USA</td>\n      <td>8.111000e+10</td>\n      <td>46.45</td>\n      <td>170.85</td>\n      <td>-0.0084</td>\n      <td>156803.0</td>\n    </tr>\n  </tbody>\n</table>\n<p>883 rows × 10 columns</p>\n</div>"
          },
          "metadata": {},
          "execution_count": 7
        }
      ]
    },
    {
      "cell_type": "code",
      "metadata": {
        "id": "Kk5hjEAfzfLH"
      },
      "source": [
        "tickers = df['Ticker'].values.tolist()"
      ],
      "execution_count": 8,
      "outputs": []
    },
    {
      "cell_type": "code",
      "metadata": {
        "colab": {
          "base_uri": "https://localhost:8080/",
          "height": 0
        },
        "id": "NPwmddCYzfLH",
        "outputId": "d386549c-9eb2-46d2-9c4c-ad8c098126c8"
      },
      "source": [
        "# Now that we have the tickers, we can download historical data for these tickers.\n",
        "# We will download daily data from 2019 to 2021 (2 years).\n",
        "data = yf.download(tickers, start='2018-01-02', end='2021-05-03')"
      ],
      "execution_count": 23,
      "outputs": [
        {
          "output_type": "stream",
          "name": "stdout",
          "text": [
            "[*********************100%***********************]  883 of 883 completed\n"
          ]
        }
      ]
    },
    {
      "cell_type": "code",
      "metadata": {
        "colab": {
          "base_uri": "https://localhost:8080/",
          "height": 671
        },
        "id": "eqUs2NtYzfLI",
        "outputId": "d8555a3b-e1fb-4ddd-bcb7-2ebda9e72ed7"
      },
      "source": [
        "data"
      ],
      "execution_count": 24,
      "outputs": [
        {
          "output_type": "execute_result",
          "data": {
            "text/plain": [
              "             Adj Close                                                \\\n",
              "                     A        AAL         AAP        AAPL        ABB   \n",
              "Date                                                                   \n",
              "2018-01-02   65.777748  51.647556  104.796822   41.310070  23.338377   \n",
              "2018-01-03   67.451401  51.014027  105.745117   41.302879  23.511126   \n",
              "2018-01-04   66.945419  51.335667  109.646957   41.494736  23.709787   \n",
              "2018-01-05   68.015762  51.316177  110.812576   41.967163  23.865261   \n",
              "2018-01-08   68.161713  50.809345  110.032219   41.811283  23.839348   \n",
              "...                ...        ...         ...         ...        ...   \n",
              "2021-04-27  136.479996  21.760000  197.279999  134.162109  33.060001   \n",
              "2021-04-28  134.800003  21.700001  197.630005  133.353485  33.290001   \n",
              "2021-04-29  134.149994  21.299999  200.679993  133.253662  33.240002   \n",
              "2021-04-30  133.639999  21.719999  200.160004  131.237091  32.430000   \n",
              "2021-05-03         NaN        NaN         NaN         NaN        NaN   \n",
              "\n",
              "                                                                      ...  \\\n",
              "                  ABBV         ABC      ABEV        ABMD        ABNB  ...   \n",
              "Date                                                                  ...   \n",
              "2018-01-02   82.956924   88.406036  6.048749  192.490005         NaN  ...   \n",
              "2018-01-03   84.255081   88.735046  6.085353  195.820007         NaN  ...   \n",
              "2018-01-04   83.774597   88.537621  6.076201  199.250000         NaN  ...   \n",
              "2018-01-05   85.232941   89.609322  6.103654  202.320007         NaN  ...   \n",
              "2018-01-08   83.867310   91.094681  6.057900  207.800003         NaN  ...   \n",
              "...                ...         ...       ...         ...         ...  ...   \n",
              "2021-04-27  111.440002  118.362434  2.820000  340.630005  177.940002  ...   \n",
              "2021-04-28  111.930000  118.890480  2.850000  351.170013  180.000000  ...   \n",
              "2021-04-29  110.889999  120.803406  2.890000  322.940002  177.679993  ...   \n",
              "2021-04-30  111.500000  120.355064  2.780000  320.730011  172.710007  ...   \n",
              "2021-05-03         NaN         NaN       NaN         NaN         NaN  ...   \n",
              "\n",
              "               Volume                                                        \\\n",
              "                  ZEN        ZG         ZI      ZLAB         ZM        ZNGA   \n",
              "Date                                                                          \n",
              "2018-01-02   840300.0  277300.0        NaN   72300.0        NaN  12411100.0   \n",
              "2018-01-03   860000.0  372700.0        NaN   79100.0        NaN  23113000.0   \n",
              "2018-01-04   441200.0  255100.0        NaN   58000.0        NaN  10648300.0   \n",
              "2018-01-05   490300.0  127300.0        NaN   48300.0        NaN   9962100.0   \n",
              "2018-01-08   549900.0  218600.0        NaN   92600.0        NaN   8992800.0   \n",
              "...               ...       ...        ...       ...        ...         ...   \n",
              "2021-04-27   866100.0  317800.0  1608900.0  394200.0  2208300.0  17700700.0   \n",
              "2021-04-28  1164100.0  399000.0  1174500.0  353100.0  1437600.0  12559000.0   \n",
              "2021-04-29  1849400.0  303300.0   918100.0  420700.0  3121100.0   8748300.0   \n",
              "2021-04-30  2576300.0  353800.0  1110200.0  421500.0  2147200.0  11300800.0   \n",
              "2021-05-03        NaN       NaN        NaN       NaN        NaN         NaN   \n",
              "\n",
              "                                                      \n",
              "                ZNH         ZS        ZTO        ZTS  \n",
              "Date                                                  \n",
              "2018-01-02  38200.0        NaN  4857000.0  2135600.0  \n",
              "2018-01-03  36300.0        NaN  2629800.0  2328200.0  \n",
              "2018-01-04  14800.0        NaN  2320200.0  2534000.0  \n",
              "2018-01-05  72700.0        NaN  1770800.0  2166100.0  \n",
              "2018-01-08  55200.0        NaN  1337700.0  3631400.0  \n",
              "...             ...        ...        ...        ...  \n",
              "2021-04-27  10600.0  1365900.0  3011500.0  1323100.0  \n",
              "2021-04-28   4700.0  2200000.0  3514300.0  1394600.0  \n",
              "2021-04-29   9800.0  2168500.0  3063100.0  1686200.0  \n",
              "2021-04-30   9200.0  1173800.0  2652200.0  2151000.0  \n",
              "2021-05-03      NaN        NaN        NaN        NaN  \n",
              "\n",
              "[841 rows x 5298 columns]"
            ],
            "text/html": "<div>\n<style scoped>\n    .dataframe tbody tr th:only-of-type {\n        vertical-align: middle;\n    }\n\n    .dataframe tbody tr th {\n        vertical-align: top;\n    }\n\n    .dataframe thead tr th {\n        text-align: left;\n    }\n\n    .dataframe thead tr:last-of-type th {\n        text-align: right;\n    }\n</style>\n<table border=\"1\" class=\"dataframe\">\n  <thead>\n    <tr>\n      <th></th>\n      <th colspan=\"10\" halign=\"left\">Adj Close</th>\n      <th>...</th>\n      <th colspan=\"10\" halign=\"left\">Volume</th>\n    </tr>\n    <tr>\n      <th></th>\n      <th>A</th>\n      <th>AAL</th>\n      <th>AAP</th>\n      <th>AAPL</th>\n      <th>ABB</th>\n      <th>ABBV</th>\n      <th>ABC</th>\n      <th>ABEV</th>\n      <th>ABMD</th>\n      <th>ABNB</th>\n      <th>...</th>\n      <th>ZEN</th>\n      <th>ZG</th>\n      <th>ZI</th>\n      <th>ZLAB</th>\n      <th>ZM</th>\n      <th>ZNGA</th>\n      <th>ZNH</th>\n      <th>ZS</th>\n      <th>ZTO</th>\n      <th>ZTS</th>\n    </tr>\n    <tr>\n      <th>Date</th>\n      <th></th>\n      <th></th>\n      <th></th>\n      <th></th>\n      <th></th>\n      <th></th>\n      <th></th>\n      <th></th>\n      <th></th>\n      <th></th>\n      <th></th>\n      <th></th>\n      <th></th>\n      <th></th>\n      <th></th>\n      <th></th>\n      <th></th>\n      <th></th>\n      <th></th>\n      <th></th>\n      <th></th>\n    </tr>\n  </thead>\n  <tbody>\n    <tr>\n      <td>2018-01-02</td>\n      <td>65.777748</td>\n      <td>51.647556</td>\n      <td>104.796822</td>\n      <td>41.310070</td>\n      <td>23.338377</td>\n      <td>82.956924</td>\n      <td>88.406036</td>\n      <td>6.048749</td>\n      <td>192.490005</td>\n      <td>NaN</td>\n      <td>...</td>\n      <td>840300.0</td>\n      <td>277300.0</td>\n      <td>NaN</td>\n      <td>72300.0</td>\n      <td>NaN</td>\n      <td>12411100.0</td>\n      <td>38200.0</td>\n      <td>NaN</td>\n      <td>4857000.0</td>\n      <td>2135600.0</td>\n    </tr>\n    <tr>\n      <td>2018-01-03</td>\n      <td>67.451401</td>\n      <td>51.014027</td>\n      <td>105.745117</td>\n      <td>41.302879</td>\n      <td>23.511126</td>\n      <td>84.255081</td>\n      <td>88.735046</td>\n      <td>6.085353</td>\n      <td>195.820007</td>\n      <td>NaN</td>\n      <td>...</td>\n      <td>860000.0</td>\n      <td>372700.0</td>\n      <td>NaN</td>\n      <td>79100.0</td>\n      <td>NaN</td>\n      <td>23113000.0</td>\n      <td>36300.0</td>\n      <td>NaN</td>\n      <td>2629800.0</td>\n      <td>2328200.0</td>\n    </tr>\n    <tr>\n      <td>2018-01-04</td>\n      <td>66.945419</td>\n      <td>51.335667</td>\n      <td>109.646957</td>\n      <td>41.494736</td>\n      <td>23.709787</td>\n      <td>83.774597</td>\n      <td>88.537621</td>\n      <td>6.076201</td>\n      <td>199.250000</td>\n      <td>NaN</td>\n      <td>...</td>\n      <td>441200.0</td>\n      <td>255100.0</td>\n      <td>NaN</td>\n      <td>58000.0</td>\n      <td>NaN</td>\n      <td>10648300.0</td>\n      <td>14800.0</td>\n      <td>NaN</td>\n      <td>2320200.0</td>\n      <td>2534000.0</td>\n    </tr>\n    <tr>\n      <td>2018-01-05</td>\n      <td>68.015762</td>\n      <td>51.316177</td>\n      <td>110.812576</td>\n      <td>41.967163</td>\n      <td>23.865261</td>\n      <td>85.232941</td>\n      <td>89.609322</td>\n      <td>6.103654</td>\n      <td>202.320007</td>\n      <td>NaN</td>\n      <td>...</td>\n      <td>490300.0</td>\n      <td>127300.0</td>\n      <td>NaN</td>\n      <td>48300.0</td>\n      <td>NaN</td>\n      <td>9962100.0</td>\n      <td>72700.0</td>\n      <td>NaN</td>\n      <td>1770800.0</td>\n      <td>2166100.0</td>\n    </tr>\n    <tr>\n      <td>2018-01-08</td>\n      <td>68.161713</td>\n      <td>50.809345</td>\n      <td>110.032219</td>\n      <td>41.811283</td>\n      <td>23.839348</td>\n      <td>83.867310</td>\n      <td>91.094681</td>\n      <td>6.057900</td>\n      <td>207.800003</td>\n      <td>NaN</td>\n      <td>...</td>\n      <td>549900.0</td>\n      <td>218600.0</td>\n      <td>NaN</td>\n      <td>92600.0</td>\n      <td>NaN</td>\n      <td>8992800.0</td>\n      <td>55200.0</td>\n      <td>NaN</td>\n      <td>1337700.0</td>\n      <td>3631400.0</td>\n    </tr>\n    <tr>\n      <td>...</td>\n      <td>...</td>\n      <td>...</td>\n      <td>...</td>\n      <td>...</td>\n      <td>...</td>\n      <td>...</td>\n      <td>...</td>\n      <td>...</td>\n      <td>...</td>\n      <td>...</td>\n      <td>...</td>\n      <td>...</td>\n      <td>...</td>\n      <td>...</td>\n      <td>...</td>\n      <td>...</td>\n      <td>...</td>\n      <td>...</td>\n      <td>...</td>\n      <td>...</td>\n      <td>...</td>\n    </tr>\n    <tr>\n      <td>2021-04-27</td>\n      <td>136.479996</td>\n      <td>21.760000</td>\n      <td>197.279999</td>\n      <td>134.162109</td>\n      <td>33.060001</td>\n      <td>111.440002</td>\n      <td>118.362434</td>\n      <td>2.820000</td>\n      <td>340.630005</td>\n      <td>177.940002</td>\n      <td>...</td>\n      <td>866100.0</td>\n      <td>317800.0</td>\n      <td>1608900.0</td>\n      <td>394200.0</td>\n      <td>2208300.0</td>\n      <td>17700700.0</td>\n      <td>10600.0</td>\n      <td>1365900.0</td>\n      <td>3011500.0</td>\n      <td>1323100.0</td>\n    </tr>\n    <tr>\n      <td>2021-04-28</td>\n      <td>134.800003</td>\n      <td>21.700001</td>\n      <td>197.630005</td>\n      <td>133.353485</td>\n      <td>33.290001</td>\n      <td>111.930000</td>\n      <td>118.890480</td>\n      <td>2.850000</td>\n      <td>351.170013</td>\n      <td>180.000000</td>\n      <td>...</td>\n      <td>1164100.0</td>\n      <td>399000.0</td>\n      <td>1174500.0</td>\n      <td>353100.0</td>\n      <td>1437600.0</td>\n      <td>12559000.0</td>\n      <td>4700.0</td>\n      <td>2200000.0</td>\n      <td>3514300.0</td>\n      <td>1394600.0</td>\n    </tr>\n    <tr>\n      <td>2021-04-29</td>\n      <td>134.149994</td>\n      <td>21.299999</td>\n      <td>200.679993</td>\n      <td>133.253662</td>\n      <td>33.240002</td>\n      <td>110.889999</td>\n      <td>120.803406</td>\n      <td>2.890000</td>\n      <td>322.940002</td>\n      <td>177.679993</td>\n      <td>...</td>\n      <td>1849400.0</td>\n      <td>303300.0</td>\n      <td>918100.0</td>\n      <td>420700.0</td>\n      <td>3121100.0</td>\n      <td>8748300.0</td>\n      <td>9800.0</td>\n      <td>2168500.0</td>\n      <td>3063100.0</td>\n      <td>1686200.0</td>\n    </tr>\n    <tr>\n      <td>2021-04-30</td>\n      <td>133.639999</td>\n      <td>21.719999</td>\n      <td>200.160004</td>\n      <td>131.237091</td>\n      <td>32.430000</td>\n      <td>111.500000</td>\n      <td>120.355064</td>\n      <td>2.780000</td>\n      <td>320.730011</td>\n      <td>172.710007</td>\n      <td>...</td>\n      <td>2576300.0</td>\n      <td>353800.0</td>\n      <td>1110200.0</td>\n      <td>421500.0</td>\n      <td>2147200.0</td>\n      <td>11300800.0</td>\n      <td>9200.0</td>\n      <td>1173800.0</td>\n      <td>2652200.0</td>\n      <td>2151000.0</td>\n    </tr>\n    <tr>\n      <td>2021-05-03</td>\n      <td>NaN</td>\n      <td>NaN</td>\n      <td>NaN</td>\n      <td>NaN</td>\n      <td>NaN</td>\n      <td>NaN</td>\n      <td>NaN</td>\n      <td>NaN</td>\n      <td>NaN</td>\n      <td>NaN</td>\n      <td>...</td>\n      <td>NaN</td>\n      <td>NaN</td>\n      <td>NaN</td>\n      <td>NaN</td>\n      <td>NaN</td>\n      <td>NaN</td>\n      <td>NaN</td>\n      <td>NaN</td>\n      <td>NaN</td>\n      <td>NaN</td>\n    </tr>\n  </tbody>\n</table>\n<p>841 rows × 5298 columns</p>\n</div>"
          },
          "metadata": {},
          "execution_count": 24
        }
      ]
    },
    {
      "cell_type": "code",
      "metadata": {
        "colab": {
          "base_uri": "https://localhost:8080/",
          "height": 0
        },
        "id": "slcJeRubzfLI",
        "outputId": "9ffbb3bc-0f1d-4df8-9452-d014a92dcc76"
      },
      "source": [
        "# The data contains multiple columns for each ticker including: open, close, low, and high price data.\n",
        "# We will only need one of them.\n",
        "data = data['Close']\n",
        "data.shape"
      ],
      "execution_count": 25,
      "outputs": [
        {
          "output_type": "execute_result",
          "data": {
            "text/plain": [
              "(841, 883)"
            ]
          },
          "metadata": {},
          "execution_count": 25
        }
      ]
    },
    {
      "cell_type": "markdown",
      "metadata": {
        "id": "qh7NMjh8zfLJ"
      },
      "source": [
        "## Preprocessing"
      ]
    },
    {
      "cell_type": "code",
      "metadata": {
        "colab": {
          "base_uri": "https://localhost:8080/",
          "height": 433
        },
        "id": "j0VEBH3jzfLJ",
        "outputId": "7b6dbcbd-fd5f-4b9e-905d-cbb82b9cbe1c"
      },
      "source": [
        "# First, we see that data for some tickers at some time is unavaiable/missing ('NaN').\n",
        "# To keep the price data in its original form it is best to not replace the unavailable data with zeros or averages.\n",
        "# Additionally, to preserve the size of the data for each ticker, we decided to remove tickers that contain unavailable data.\n",
        "data.dropna(axis=1)"
      ],
      "execution_count": 26,
      "outputs": [
        {
          "output_type": "execute_result",
          "data": {
            "text/plain": [
              "Empty DataFrame\n",
              "Columns: []\n",
              "Index: [2018-01-02 00:00:00, 2018-01-03 00:00:00, 2018-01-04 00:00:00, 2018-01-05 00:00:00, 2018-01-08 00:00:00, 2018-01-09 00:00:00, 2018-01-10 00:00:00, 2018-01-11 00:00:00, 2018-01-12 00:00:00, 2018-01-16 00:00:00, 2018-01-17 00:00:00, 2018-01-18 00:00:00, 2018-01-19 00:00:00, 2018-01-22 00:00:00, 2018-01-23 00:00:00, 2018-01-24 00:00:00, 2018-01-25 00:00:00, 2018-01-26 00:00:00, 2018-01-29 00:00:00, 2018-01-30 00:00:00, 2018-01-31 00:00:00, 2018-02-01 00:00:00, 2018-02-02 00:00:00, 2018-02-05 00:00:00, 2018-02-06 00:00:00, 2018-02-07 00:00:00, 2018-02-08 00:00:00, 2018-02-09 00:00:00, 2018-02-12 00:00:00, 2018-02-13 00:00:00, 2018-02-14 00:00:00, 2018-02-15 00:00:00, 2018-02-16 00:00:00, 2018-02-20 00:00:00, 2018-02-21 00:00:00, 2018-02-22 00:00:00, 2018-02-23 00:00:00, 2018-02-26 00:00:00, 2018-02-27 00:00:00, 2018-02-28 00:00:00, 2018-03-01 00:00:00, 2018-03-02 00:00:00, 2018-03-05 00:00:00, 2018-03-06 00:00:00, 2018-03-07 00:00:00, 2018-03-08 00:00:00, 2018-03-09 00:00:00, 2018-03-12 00:00:00, 2018-03-13 00:00:00, 2018-03-14 00:00:00, 2018-03-15 00:00:00, 2018-03-16 00:00:00, 2018-03-19 00:00:00, 2018-03-20 00:00:00, 2018-03-21 00:00:00, 2018-03-22 00:00:00, 2018-03-23 00:00:00, 2018-03-26 00:00:00, 2018-03-27 00:00:00, 2018-03-28 00:00:00, 2018-03-29 00:00:00, 2018-04-02 00:00:00, 2018-04-03 00:00:00, 2018-04-04 00:00:00, 2018-04-05 00:00:00, 2018-04-06 00:00:00, 2018-04-09 00:00:00, 2018-04-10 00:00:00, 2018-04-11 00:00:00, 2018-04-12 00:00:00, 2018-04-13 00:00:00, 2018-04-16 00:00:00, 2018-04-17 00:00:00, 2018-04-18 00:00:00, 2018-04-19 00:00:00, 2018-04-20 00:00:00, 2018-04-23 00:00:00, 2018-04-24 00:00:00, 2018-04-25 00:00:00, 2018-04-26 00:00:00, 2018-04-27 00:00:00, 2018-04-30 00:00:00, 2018-05-01 00:00:00, 2018-05-02 00:00:00, 2018-05-03 00:00:00, 2018-05-04 00:00:00, 2018-05-07 00:00:00, 2018-05-08 00:00:00, 2018-05-09 00:00:00, 2018-05-10 00:00:00, 2018-05-11 00:00:00, 2018-05-14 00:00:00, 2018-05-15 00:00:00, 2018-05-16 00:00:00, 2018-05-17 00:00:00, 2018-05-18 00:00:00, 2018-05-21 00:00:00, 2018-05-22 00:00:00, 2018-05-23 00:00:00, 2018-05-24 00:00:00, ...]\n",
              "\n",
              "[841 rows x 0 columns]"
            ],
            "text/html": "<div>\n<style scoped>\n    .dataframe tbody tr th:only-of-type {\n        vertical-align: middle;\n    }\n\n    .dataframe tbody tr th {\n        vertical-align: top;\n    }\n\n    .dataframe thead th {\n        text-align: right;\n    }\n</style>\n<table border=\"1\" class=\"dataframe\">\n  <thead>\n    <tr style=\"text-align: right;\">\n      <th></th>\n    </tr>\n    <tr>\n      <th>Date</th>\n    </tr>\n  </thead>\n  <tbody>\n    <tr>\n      <td>2018-01-02</td>\n    </tr>\n    <tr>\n      <td>2018-01-03</td>\n    </tr>\n    <tr>\n      <td>2018-01-04</td>\n    </tr>\n    <tr>\n      <td>2018-01-05</td>\n    </tr>\n    <tr>\n      <td>2018-01-08</td>\n    </tr>\n    <tr>\n      <td>...</td>\n    </tr>\n    <tr>\n      <td>2021-04-27</td>\n    </tr>\n    <tr>\n      <td>2021-04-28</td>\n    </tr>\n    <tr>\n      <td>2021-04-29</td>\n    </tr>\n    <tr>\n      <td>2021-04-30</td>\n    </tr>\n    <tr>\n      <td>2021-05-03</td>\n    </tr>\n  </tbody>\n</table>\n<p>841 rows × 0 columns</p>\n</div>"
          },
          "metadata": {},
          "execution_count": 26
        }
      ]
    },
    {
      "cell_type": "code",
      "metadata": {
        "colab": {
          "base_uri": "https://localhost:8080/",
          "height": 0
        },
        "id": "hrgo-B3XzfLJ",
        "outputId": "caed54ac-955b-4941-fd68-6923d2af72d8"
      },
      "source": [
        "# We find that all tickers contain at least one 'NaN' value. Thus, we experiment by setting a treshold.\n",
        "# And we find that most tickers contain a single missing value. Thus, by setting the treshold to the row length - 1,\n",
        "# we obtain an almost perfect data containing only one missing value.\n",
        "data = data.dropna(axis=1, thresh=len(data)-10)\n",
        "data.shape"
      ],
      "execution_count": 27,
      "outputs": [
        {
          "output_type": "execute_result",
          "data": {
            "text/plain": [
              "(841, 803)"
            ]
          },
          "metadata": {},
          "execution_count": 27
        }
      ]
    },
    {
      "cell_type": "code",
      "metadata": {
        "colab": {
          "base_uri": "https://localhost:8080/",
          "height": 0
        },
        "id": "JdBdukFzzfLK",
        "outputId": "5b71f1ea-b0d9-4852-b48c-151b17b1f347"
      },
      "source": [
        "# By removing rows that contain missing values, we discover that each ticker had a missing value row at the same index.\n",
        "# Thus, now our data is 'NaN' value free and we preserved the most of our data without modifying values.\n",
        "data = data.dropna(axis=0)\n",
        "data.shape"
      ],
      "execution_count": 28,
      "outputs": [
        {
          "output_type": "execute_result",
          "data": {
            "text/plain": [
              "(838, 803)"
            ]
          },
          "metadata": {},
          "execution_count": 28
        }
      ]
    },
    {
      "cell_type": "code",
      "metadata": {
        "id": "zdFpon25zfLK"
      },
      "source": [
        "# We must scale the data since different tickers have different prices\n",
        "data -= data.min()\n",
        "data /= data.max()"
      ],
      "execution_count": 29,
      "outputs": []
    },
    {
      "cell_type": "code",
      "metadata": {
        "colab": {
          "base_uri": "https://localhost:8080/",
          "height": 369
        },
        "id": "DQTT7DXEzfLK",
        "outputId": "c605bb1c-4f43-4b7a-a0fc-9b94e5b31e44"
      },
      "source": [
        "data.head(5)"
      ],
      "execution_count": 30,
      "outputs": [
        {
          "output_type": "execute_result",
          "data": {
            "text/plain": [
              "                   A       AAL       AAP      AAPL       ABB      ABBV  \\\n",
              "Date                                                                     \n",
              "2018-01-02  0.084897  0.889136  0.247195  0.069857  0.656773  0.588245   \n",
              "2018-01-03  0.107466  0.875986  0.254835  0.069787  0.667566  0.613814   \n",
              "2018-01-04  0.100643  0.882662  0.286271  0.071646  0.679978  0.604350   \n",
              "2018-01-05  0.115077  0.882258  0.295663  0.076223  0.689692  0.633073   \n",
              "2018-01-08  0.117045  0.871738  0.289375  0.074713  0.688073  0.606176   \n",
              "\n",
              "                 ABC      ABEV      ABMD       ABT  ...         Z       ZBH  \\\n",
              "Date                                                ...                       \n",
              "2018-01-02  0.457457  0.856881  0.194149  0.035019  ...  0.099891  0.443254   \n",
              "2018-01-03  0.464335  0.864220  0.204580  0.036826  ...  0.102693  0.452031   \n",
              "2018-01-04  0.460208  0.862385  0.215324  0.035436  ...  0.097890  0.450194   \n",
              "2018-01-05  0.482610  0.867890  0.224941  0.037799  ...  0.100635  0.462850   \n",
              "2018-01-08  0.513657  0.858716  0.242106  0.035436  ...  0.101492  0.465299   \n",
              "\n",
              "                ZBRA       ZEN        ZG      ZLAB      ZNGA       ZNH  \\\n",
              "Date                                                                     \n",
              "2018-01-02  0.000000  0.000000  0.104227  0.041356  0.068771  0.612565   \n",
              "2018-01-03  0.005027  0.004518  0.106612  0.041865  0.080045  0.675781   \n",
              "2018-01-04  0.010127  0.006374  0.102618  0.040450  0.065389  0.684507   \n",
              "2018-01-05  0.014227  0.007342  0.104449  0.044467  0.065389  0.757223   \n",
              "2018-01-08  0.016887  0.009359  0.106002  0.045429  0.067644  0.741516   \n",
              "\n",
              "                 ZTO       ZTS  \n",
              "Date                            \n",
              "2018-01-02  0.074167  0.002524  \n",
              "2018-01-03  0.069583  0.005728  \n",
              "2018-01-04  0.061667  0.009902  \n",
              "2018-01-05  0.058750  0.017959  \n",
              "2018-01-08  0.044167  0.026502  \n",
              "\n",
              "[5 rows x 803 columns]"
            ],
            "text/html": "<div>\n<style scoped>\n    .dataframe tbody tr th:only-of-type {\n        vertical-align: middle;\n    }\n\n    .dataframe tbody tr th {\n        vertical-align: top;\n    }\n\n    .dataframe thead th {\n        text-align: right;\n    }\n</style>\n<table border=\"1\" class=\"dataframe\">\n  <thead>\n    <tr style=\"text-align: right;\">\n      <th></th>\n      <th>A</th>\n      <th>AAL</th>\n      <th>AAP</th>\n      <th>AAPL</th>\n      <th>ABB</th>\n      <th>ABBV</th>\n      <th>ABC</th>\n      <th>ABEV</th>\n      <th>ABMD</th>\n      <th>ABT</th>\n      <th>...</th>\n      <th>Z</th>\n      <th>ZBH</th>\n      <th>ZBRA</th>\n      <th>ZEN</th>\n      <th>ZG</th>\n      <th>ZLAB</th>\n      <th>ZNGA</th>\n      <th>ZNH</th>\n      <th>ZTO</th>\n      <th>ZTS</th>\n    </tr>\n    <tr>\n      <th>Date</th>\n      <th></th>\n      <th></th>\n      <th></th>\n      <th></th>\n      <th></th>\n      <th></th>\n      <th></th>\n      <th></th>\n      <th></th>\n      <th></th>\n      <th></th>\n      <th></th>\n      <th></th>\n      <th></th>\n      <th></th>\n      <th></th>\n      <th></th>\n      <th></th>\n      <th></th>\n      <th></th>\n      <th></th>\n    </tr>\n  </thead>\n  <tbody>\n    <tr>\n      <td>2018-01-02</td>\n      <td>0.084897</td>\n      <td>0.889136</td>\n      <td>0.247195</td>\n      <td>0.069857</td>\n      <td>0.656773</td>\n      <td>0.588245</td>\n      <td>0.457457</td>\n      <td>0.856881</td>\n      <td>0.194149</td>\n      <td>0.035019</td>\n      <td>...</td>\n      <td>0.099891</td>\n      <td>0.443254</td>\n      <td>0.000000</td>\n      <td>0.000000</td>\n      <td>0.104227</td>\n      <td>0.041356</td>\n      <td>0.068771</td>\n      <td>0.612565</td>\n      <td>0.074167</td>\n      <td>0.002524</td>\n    </tr>\n    <tr>\n      <td>2018-01-03</td>\n      <td>0.107466</td>\n      <td>0.875986</td>\n      <td>0.254835</td>\n      <td>0.069787</td>\n      <td>0.667566</td>\n      <td>0.613814</td>\n      <td>0.464335</td>\n      <td>0.864220</td>\n      <td>0.204580</td>\n      <td>0.036826</td>\n      <td>...</td>\n      <td>0.102693</td>\n      <td>0.452031</td>\n      <td>0.005027</td>\n      <td>0.004518</td>\n      <td>0.106612</td>\n      <td>0.041865</td>\n      <td>0.080045</td>\n      <td>0.675781</td>\n      <td>0.069583</td>\n      <td>0.005728</td>\n    </tr>\n    <tr>\n      <td>2018-01-04</td>\n      <td>0.100643</td>\n      <td>0.882662</td>\n      <td>0.286271</td>\n      <td>0.071646</td>\n      <td>0.679978</td>\n      <td>0.604350</td>\n      <td>0.460208</td>\n      <td>0.862385</td>\n      <td>0.215324</td>\n      <td>0.035436</td>\n      <td>...</td>\n      <td>0.097890</td>\n      <td>0.450194</td>\n      <td>0.010127</td>\n      <td>0.006374</td>\n      <td>0.102618</td>\n      <td>0.040450</td>\n      <td>0.065389</td>\n      <td>0.684507</td>\n      <td>0.061667</td>\n      <td>0.009902</td>\n    </tr>\n    <tr>\n      <td>2018-01-05</td>\n      <td>0.115077</td>\n      <td>0.882258</td>\n      <td>0.295663</td>\n      <td>0.076223</td>\n      <td>0.689692</td>\n      <td>0.633073</td>\n      <td>0.482610</td>\n      <td>0.867890</td>\n      <td>0.224941</td>\n      <td>0.037799</td>\n      <td>...</td>\n      <td>0.100635</td>\n      <td>0.462850</td>\n      <td>0.014227</td>\n      <td>0.007342</td>\n      <td>0.104449</td>\n      <td>0.044467</td>\n      <td>0.065389</td>\n      <td>0.757223</td>\n      <td>0.058750</td>\n      <td>0.017959</td>\n    </tr>\n    <tr>\n      <td>2018-01-08</td>\n      <td>0.117045</td>\n      <td>0.871738</td>\n      <td>0.289375</td>\n      <td>0.074713</td>\n      <td>0.688073</td>\n      <td>0.606176</td>\n      <td>0.513657</td>\n      <td>0.858716</td>\n      <td>0.242106</td>\n      <td>0.035436</td>\n      <td>...</td>\n      <td>0.101492</td>\n      <td>0.465299</td>\n      <td>0.016887</td>\n      <td>0.009359</td>\n      <td>0.106002</td>\n      <td>0.045429</td>\n      <td>0.067644</td>\n      <td>0.741516</td>\n      <td>0.044167</td>\n      <td>0.026502</td>\n    </tr>\n  </tbody>\n</table>\n<p>5 rows × 803 columns</p>\n</div>"
          },
          "metadata": {},
          "execution_count": 30
        }
      ]
    },
    {
      "cell_type": "markdown",
      "metadata": {
        "id": "4Z6gnFd4zfLL"
      },
      "source": [
        "### Setup"
      ]
    },
    {
      "cell_type": "markdown",
      "metadata": {
        "id": "DR28xOxmzfLL"
      },
      "source": [
        "The idea behind our learning is to provide sequences of prices to a model and make the model predict\n",
        "the stock's future direction. We define this direction by the average of the 'n' future prices in contrast\n",
        "to the last price in the sequence.\n",
        "\n",
        "We define parameters such as SEQ_LEN for the length of sequences that go into the model, and N_FUTURE for the number of future prices that we aggregate to compute the labels for the sequences."
      ]
    },
    {
      "cell_type": "code",
      "metadata": {
        "id": "PN6i-rJfzfLL"
      },
      "source": [
        "SEQ_LEN = 10        # Previous 10 days\n",
        "N_FUTURE = 10       # Next 10 days\n",
        "SPLIT = 0.3"
      ],
      "execution_count": 31,
      "outputs": []
    },
    {
      "cell_type": "code",
      "metadata": {
        "id": "4K1n49YdzfLL"
      },
      "source": [
        "def processData(data, SEQ_LEN, N_FUTURE):\n",
        "    train_data, test_data = [], []\n",
        "\n",
        "    for ticker in data.columns:\n",
        "        prices = data[ticker].values\n",
        "        seqs = []\n",
        "        \n",
        "        for i in range(SEQ_LEN, len(prices)-N_FUTURE):\n",
        "            seq = prices[i-SEQ_LEN:i]\n",
        "\n",
        "            # Next, we want to compute the price direction from the current index\n",
        "            future_price_avg = np.mean(prices[i:i+N_FUTURE])\n",
        "            # direction is 0 (negative) if the future price average is below the current price, otherwise direction is 1 (positive)\n",
        "            price_dir = 0 if future_price_avg < prices[i] else 1       \n",
        "            \n",
        "            # Next, we append the direction as the label to the sequences\n",
        "            # We include the price direction with the sequences so that we can shuffle the data while maintaining the labels corresponding\n",
        "            # to the sequences.\n",
        "            seqs.append([seq, price_dir])\n",
        "\n",
        "        split_index = int(len(seqs) * (1 - SPLIT))\n",
        "        train_data.extend(seqs[:split_index])\n",
        "        # We ignore the overlap of sequences between the train data and the test data\n",
        "        test_data.extend(seqs[split_index + SEQ_LEN:])\n",
        "\n",
        "    # Shuffling\n",
        "    np.random.seed(0)\n",
        "    np.random.shuffle(train_data)\n",
        "    np.random.shuffle(test_data)\n",
        "\n",
        "    # Separating features and labels\n",
        "    X_train = []\n",
        "    y_train = []\n",
        "    for features, label in train_data:\n",
        "        X_train.append(features)\n",
        "        y_train.append(label)\n",
        "    X_train = np.array(X_train)\n",
        "    y_train = np.array(y_train)\n",
        "\n",
        "    X_test = []\n",
        "    y_test = []\n",
        "    for features, label in test_data:\n",
        "        X_test.append(features)\n",
        "        y_test.append(label)\n",
        "    X_test = np.array(X_test)\n",
        "    y_test = np.array(y_test)\n",
        "\n",
        "    return (X_train, y_train), (X_test, y_test)"
      ],
      "execution_count": 32,
      "outputs": []
    },
    {
      "cell_type": "code",
      "metadata": {
        "id": "Ci4jdcnCzfLM"
      },
      "source": [
        "(X_train, y_train), (X_test, y_test) = processData(data, SEQ_LEN, N_FUTURE)"
      ],
      "execution_count": 33,
      "outputs": []
    },
    {
      "cell_type": "markdown",
      "metadata": {
        "id": "A4VQnKEizfLM"
      },
      "source": [
        "## Model"
      ]
    },
    {
      "cell_type": "markdown",
      "metadata": {
        "id": "fHe2GpjszfLM"
      },
      "source": [
        "### Linear model"
      ]
    },
    {
      "cell_type": "code",
      "metadata": {
        "colab": {
          "base_uri": "https://localhost:8080/",
          "height": 0
        },
        "id": "BpWXLU3WzfLM",
        "outputId": "bb9fc44f-c3dd-46c5-96ac-326f100360ce"
      },
      "source": [
        "model1 = models.Sequential([\n",
        "    layers.Input(shape=(SEQ_LEN,)),\n",
        "    layers.Dense(128, activation='relu'),\n",
        "    layers.Dense(128, activation='relu'),\n",
        "    layers.Dense(64, activation='relu'),\n",
        "    layers.Dense(64, activation='relu'),\n",
        "    layers.Dense(32, activation='relu'),\n",
        "    layers.Dense(1, activation='sigmoid')\n",
        "])\n",
        "model1.compile(optimizer='adam', loss='binary_crossentropy', metrics=['acc'])\n",
        "model1.summary()"
      ],
      "execution_count": 34,
      "outputs": [
        {
          "output_type": "stream",
          "name": "stdout",
          "text": [
            "Model: \"sequential_1\"\n_________________________________________________________________\nLayer (type)                 Output Shape              Param #   \n=================================================================\ndense_6 (Dense)              (None, 128)               1408      \n_________________________________________________________________\ndense_7 (Dense)              (None, 128)               16512     \n_________________________________________________________________\ndense_8 (Dense)              (None, 64)                8256      \n_________________________________________________________________\ndense_9 (Dense)              (None, 64)                4160      \n_________________________________________________________________\ndense_10 (Dense)             (None, 32)                2080      \n_________________________________________________________________\ndense_11 (Dense)             (None, 1)                 33        \n=================================================================\nTotal params: 32,449\nTrainable params: 32,449\nNon-trainable params: 0\n_________________________________________________________________\n"
          ]
        }
      ]
    },
    {
      "cell_type": "code",
      "metadata": {
        "colab": {
          "base_uri": "https://localhost:8080/",
          "height": 0
        },
        "id": "ndnie2nmzfLN",
        "outputId": "948c0c91-e888-4f0f-eb7f-d2bcf8480f9d"
      },
      "source": [
        "log1 = model1.fit(X_train, y_train, validation_data=(X_test, y_test), epochs=50, batch_size=128)"
      ],
      "execution_count": 35,
      "outputs": [
        {
          "output_type": "stream",
          "name": "stdout",
          "text": [
            "Epoch 1/50\n",
            "3589/3589 [==============================] - 33s 9ms/step - loss: 0.6831 - acc: 0.5528 - val_loss: 0.6798 - val_acc: 0.5894\n",
            "Epoch 2/50\n",
            "3589/3589 [==============================] - 30s 8ms/step - loss: 0.6804 - acc: 0.5567 - val_loss: 0.6959 - val_acc: 0.5299\n",
            "Epoch 3/50\n",
            "3589/3589 [==============================] - 30s 8ms/step - loss: 0.6799 - acc: 0.5566 - val_loss: 0.6886 - val_acc: 0.5272\n",
            "Epoch 4/50\n",
            "3589/3589 [==============================] - 30s 8ms/step - loss: 0.6786 - acc: 0.5562 - val_loss: 0.6893 - val_acc: 0.5309\n",
            "Epoch 5/50\n",
            "3589/3589 [==============================] - 30s 8ms/step - loss: 0.6775 - acc: 0.5601 - val_loss: 0.6967 - val_acc: 0.5130\n",
            "Epoch 6/50\n",
            "3589/3589 [==============================] - 30s 8ms/step - loss: 0.6769 - acc: 0.5601 - val_loss: 0.6914 - val_acc: 0.5574\n",
            "Epoch 7/50\n",
            "3589/3589 [==============================] - 30s 8ms/step - loss: 0.6764 - acc: 0.5613 - val_loss: 0.6848 - val_acc: 0.5481\n",
            "Epoch 8/50\n",
            "3589/3589 [==============================] - 30s 8ms/step - loss: 0.6758 - acc: 0.5607 - val_loss: 0.6845 - val_acc: 0.5569\n",
            "Epoch 9/50\n",
            "3589/3589 [==============================] - 30s 8ms/step - loss: 0.6751 - acc: 0.5625 - val_loss: 0.6879 - val_acc: 0.5470\n",
            "Epoch 10/50\n",
            "3589/3589 [==============================] - 30s 8ms/step - loss: 0.6756 - acc: 0.5617 - val_loss: 0.6875 - val_acc: 0.5507\n",
            "Epoch 11/50\n",
            "3589/3589 [==============================] - 30s 8ms/step - loss: 0.6749 - acc: 0.5628 - val_loss: 0.6829 - val_acc: 0.5701\n",
            "Epoch 12/50\n",
            "3589/3589 [==============================] - 30s 8ms/step - loss: 0.6748 - acc: 0.5627 - val_loss: 0.6934 - val_acc: 0.5395\n",
            "Epoch 13/50\n",
            "3589/3589 [==============================] - 30s 8ms/step - loss: 0.6738 - acc: 0.5633 - val_loss: 0.6933 - val_acc: 0.5290\n",
            "Epoch 14/50\n",
            "3589/3589 [==============================] - 30s 8ms/step - loss: 0.6743 - acc: 0.5625 - val_loss: 0.6831 - val_acc: 0.5650\n",
            "Epoch 15/50\n",
            "3589/3589 [==============================] - 30s 8ms/step - loss: 0.6743 - acc: 0.5628 - val_loss: 0.6913 - val_acc: 0.5213\n",
            "Epoch 16/50\n",
            "3589/3589 [==============================] - 31s 9ms/step - loss: 0.6737 - acc: 0.5634 - val_loss: 0.6914 - val_acc: 0.5485\n",
            "Epoch 17/50\n",
            "3589/3589 [==============================] - 31s 9ms/step - loss: 0.6734 - acc: 0.5638 - val_loss: 0.6876 - val_acc: 0.5444\n",
            "Epoch 18/50\n",
            "3589/3589 [==============================] - 30s 8ms/step - loss: 0.6736 - acc: 0.5627 - val_loss: 0.6863 - val_acc: 0.5583\n",
            "Epoch 19/50\n",
            "3589/3589 [==============================] - 32s 9ms/step - loss: 0.6731 - acc: 0.5649 - val_loss: 0.6928 - val_acc: 0.5377\n",
            "Epoch 20/50\n",
            "3589/3589 [==============================] - 31s 9ms/step - loss: 0.6726 - acc: 0.5648 - val_loss: 0.6917 - val_acc: 0.5432\n",
            "Epoch 21/50\n",
            "3589/3589 [==============================] - 30s 8ms/step - loss: 0.6724 - acc: 0.5652 - val_loss: 0.6863 - val_acc: 0.5599\n",
            "Epoch 22/50\n",
            "3589/3589 [==============================] - 30s 8ms/step - loss: 0.6725 - acc: 0.5644 - val_loss: 0.6878 - val_acc: 0.5418\n",
            "Epoch 23/50\n",
            "3589/3589 [==============================] - 30s 8ms/step - loss: 0.6721 - acc: 0.5654 - val_loss: 0.6857 - val_acc: 0.5694\n",
            "Epoch 24/50\n",
            "3589/3589 [==============================] - 29s 8ms/step - loss: 0.6718 - acc: 0.5663 - val_loss: 0.6951 - val_acc: 0.5226\n",
            "Epoch 25/50\n",
            "3589/3589 [==============================] - 30s 8ms/step - loss: 0.6717 - acc: 0.5663 - val_loss: 0.6962 - val_acc: 0.5364\n",
            "Epoch 26/50\n",
            "3589/3589 [==============================] - 30s 8ms/step - loss: 0.6719 - acc: 0.5649 - val_loss: 0.6917 - val_acc: 0.5455\n",
            "Epoch 27/50\n",
            "3589/3589 [==============================] - 30s 8ms/step - loss: 0.6715 - acc: 0.5647 - val_loss: 0.6907 - val_acc: 0.5365\n",
            "Epoch 28/50\n",
            "3589/3589 [==============================] - 30s 8ms/step - loss: 0.6712 - acc: 0.5667 - val_loss: 0.6876 - val_acc: 0.5459\n",
            "Epoch 29/50\n",
            "3589/3589 [==============================] - 30s 8ms/step - loss: 0.6708 - acc: 0.5654 - val_loss: 0.6858 - val_acc: 0.5547\n",
            "Epoch 30/50\n",
            "3589/3589 [==============================] - 29s 8ms/step - loss: 0.6706 - acc: 0.5652 - val_loss: 0.6931 - val_acc: 0.5187\n",
            "Epoch 31/50\n",
            "3589/3589 [==============================] - 30s 8ms/step - loss: 0.6708 - acc: 0.5664 - val_loss: 0.6866 - val_acc: 0.5475\n",
            "Epoch 32/50\n",
            "3589/3589 [==============================] - 30s 8ms/step - loss: 0.6708 - acc: 0.5655 - val_loss: 0.6885 - val_acc: 0.5373\n",
            "Epoch 33/50\n",
            "3589/3589 [==============================] - 30s 8ms/step - loss: 0.6704 - acc: 0.5665 - val_loss: 0.6880 - val_acc: 0.5558\n",
            "Epoch 34/50\n",
            "3589/3589 [==============================] - 30s 8ms/step - loss: 0.6699 - acc: 0.5682 - val_loss: 0.6954 - val_acc: 0.4982\n",
            "Epoch 35/50\n",
            "3589/3589 [==============================] - 30s 8ms/step - loss: 0.6700 - acc: 0.5661 - val_loss: 0.6880 - val_acc: 0.5567\n",
            "Epoch 36/50\n",
            "3589/3589 [==============================] - 30s 8ms/step - loss: 0.6689 - acc: 0.5684 - val_loss: 0.6926 - val_acc: 0.5310\n",
            "Epoch 37/50\n",
            "3589/3589 [==============================] - 30s 8ms/step - loss: 0.6693 - acc: 0.5676 - val_loss: 0.6954 - val_acc: 0.5477\n",
            "Epoch 38/50\n",
            "3589/3589 [==============================] - 30s 8ms/step - loss: 0.6696 - acc: 0.5671 - val_loss: 0.6929 - val_acc: 0.5357\n",
            "Epoch 39/50\n",
            "3589/3589 [==============================] - 30s 8ms/step - loss: 0.6688 - acc: 0.5695 - val_loss: 0.6953 - val_acc: 0.5219\n",
            "Epoch 40/50\n",
            "3589/3589 [==============================] - 30s 8ms/step - loss: 0.6691 - acc: 0.5674 - val_loss: 0.6912 - val_acc: 0.5421\n",
            "Epoch 41/50\n",
            "3589/3589 [==============================] - 30s 8ms/step - loss: 0.6676 - acc: 0.5693 - val_loss: 0.6936 - val_acc: 0.5262\n",
            "Epoch 42/50\n",
            "3589/3589 [==============================] - 32s 9ms/step - loss: 0.6683 - acc: 0.5679 - val_loss: 0.6959 - val_acc: 0.5133\n",
            "Epoch 43/50\n",
            "3589/3589 [==============================] - 31s 8ms/step - loss: 0.6681 - acc: 0.5678 - val_loss: 0.7017 - val_acc: 0.5260\n",
            "Epoch 44/50\n",
            "3589/3589 [==============================] - 30s 8ms/step - loss: 0.6676 - acc: 0.5693 - val_loss: 0.6953 - val_acc: 0.5169\n",
            "Epoch 45/50\n",
            "3589/3589 [==============================] - 30s 8ms/step - loss: 0.6676 - acc: 0.5689 - val_loss: 0.6904 - val_acc: 0.5397\n",
            "Epoch 46/50\n",
            "3589/3589 [==============================] - 30s 8ms/step - loss: 0.6669 - acc: 0.5709 - val_loss: 0.6899 - val_acc: 0.5441\n",
            "Epoch 47/50\n",
            "3589/3589 [==============================] - 31s 9ms/step - loss: 0.6665 - acc: 0.5703 - val_loss: 0.6959 - val_acc: 0.5271\n",
            "Epoch 48/50\n",
            "3589/3589 [==============================] - 31s 9ms/step - loss: 0.6670 - acc: 0.5679 - val_loss: 0.6871 - val_acc: 0.5458\n",
            "Epoch 49/50\n",
            "3589/3589 [==============================] - 31s 9ms/step - loss: 0.6659 - acc: 0.5713 - val_loss: 0.6889 - val_acc: 0.5500\n",
            "Epoch 50/50\n",
            "3589/3589 [==============================] - 30s 8ms/step - loss: 0.6665 - acc: 0.5703 - val_loss: 0.6966 - val_acc: 0.5420\n"
          ]
        }
      ]
    },
    {
      "cell_type": "code",
      "metadata": {
        "colab": {
          "base_uri": "https://localhost:8080/",
          "height": 282
        },
        "id": "5zIr_tQhzfLN",
        "outputId": "140a0734-228d-4f76-c36c-ca63592332ba"
      },
      "source": [
        "pl.plot(log1.history['acc'])\n",
        "pl.plot(log1.history['val_acc'])\n",
        "pl.legend(['train acc', \"test acc\"])\n",
        "print(f\"Best test acc: {max(log1.history['val_acc'])}\")"
      ],
      "execution_count": 36,
      "outputs": [
        {
          "output_type": "stream",
          "name": "stdout",
          "text": [
            "Best test acc: 0.5894104838371277\n"
          ]
        },
        {
          "output_type": "display_data",
          "data": {
            "text/plain": "<Figure size 432x288 with 1 Axes>",
            "image/svg+xml": "<?xml version=\"1.0\" encoding=\"utf-8\" standalone=\"no\"?>\r\n<!DOCTYPE svg PUBLIC \"-//W3C//DTD SVG 1.1//EN\"\r\n  \"http://www.w3.org/Graphics/SVG/1.1/DTD/svg11.dtd\">\r\n<!-- Created with matplotlib (https://matplotlib.org/) -->\r\n<svg height=\"252.018125pt\" version=\"1.1\" viewBox=\"0 0 381.965625 252.018125\" width=\"381.965625pt\" xmlns=\"http://www.w3.org/2000/svg\" xmlns:xlink=\"http://www.w3.org/1999/xlink\">\r\n <defs>\r\n  <style type=\"text/css\">\r\n*{stroke-linecap:butt;stroke-linejoin:round;}\r\n  </style>\r\n </defs>\r\n <g id=\"figure_1\">\r\n  <g id=\"patch_1\">\r\n   <path d=\"M 0 252.018125 \r\nL 381.965625 252.018125 \r\nL 381.965625 0 \r\nL 0 0 \r\nz\r\n\" style=\"fill:none;\"/>\r\n  </g>\r\n  <g id=\"axes_1\">\r\n   <g id=\"patch_2\">\r\n    <path d=\"M 36.465625 228.14 \r\nL 371.265625 228.14 \r\nL 371.265625 10.7 \r\nL 36.465625 10.7 \r\nz\r\n\" style=\"fill:#ffffff;\"/>\r\n   </g>\r\n   <g id=\"matplotlib.axis_1\">\r\n    <g id=\"xtick_1\">\r\n     <g id=\"line2d_1\">\r\n      <defs>\r\n       <path d=\"M 0 0 \r\nL 0 3.5 \r\n\" id=\"m02027d3570\" style=\"stroke:#000000;stroke-width:0.8;\"/>\r\n      </defs>\r\n      <g>\r\n       <use style=\"stroke:#000000;stroke-width:0.8;\" x=\"51.683807\" xlink:href=\"#m02027d3570\" y=\"228.14\"/>\r\n      </g>\r\n     </g>\r\n     <g id=\"text_1\">\r\n      <!-- 0 -->\r\n      <defs>\r\n       <path d=\"M 31.78125 66.40625 \r\nQ 24.171875 66.40625 20.328125 58.90625 \r\nQ 16.5 51.421875 16.5 36.375 \r\nQ 16.5 21.390625 20.328125 13.890625 \r\nQ 24.171875 6.390625 31.78125 6.390625 \r\nQ 39.453125 6.390625 43.28125 13.890625 \r\nQ 47.125 21.390625 47.125 36.375 \r\nQ 47.125 51.421875 43.28125 58.90625 \r\nQ 39.453125 66.40625 31.78125 66.40625 \r\nz\r\nM 31.78125 74.21875 \r\nQ 44.046875 74.21875 50.515625 64.515625 \r\nQ 56.984375 54.828125 56.984375 36.375 \r\nQ 56.984375 17.96875 50.515625 8.265625 \r\nQ 44.046875 -1.421875 31.78125 -1.421875 \r\nQ 19.53125 -1.421875 13.0625 8.265625 \r\nQ 6.59375 17.96875 6.59375 36.375 \r\nQ 6.59375 54.828125 13.0625 64.515625 \r\nQ 19.53125 74.21875 31.78125 74.21875 \r\nz\r\n\" id=\"DejaVuSans-48\"/>\r\n      </defs>\r\n      <g transform=\"translate(48.502557 242.738437)scale(0.1 -0.1)\">\r\n       <use xlink:href=\"#DejaVuSans-48\"/>\r\n      </g>\r\n     </g>\r\n    </g>\r\n    <g id=\"xtick_2\">\r\n     <g id=\"line2d_2\">\r\n      <g>\r\n       <use style=\"stroke:#000000;stroke-width:0.8;\" x=\"113.798835\" xlink:href=\"#m02027d3570\" y=\"228.14\"/>\r\n      </g>\r\n     </g>\r\n     <g id=\"text_2\">\r\n      <!-- 10 -->\r\n      <defs>\r\n       <path d=\"M 12.40625 8.296875 \r\nL 28.515625 8.296875 \r\nL 28.515625 63.921875 \r\nL 10.984375 60.40625 \r\nL 10.984375 69.390625 \r\nL 28.421875 72.90625 \r\nL 38.28125 72.90625 \r\nL 38.28125 8.296875 \r\nL 54.390625 8.296875 \r\nL 54.390625 0 \r\nL 12.40625 0 \r\nz\r\n\" id=\"DejaVuSans-49\"/>\r\n      </defs>\r\n      <g transform=\"translate(107.436335 242.738437)scale(0.1 -0.1)\">\r\n       <use xlink:href=\"#DejaVuSans-49\"/>\r\n       <use x=\"63.623047\" xlink:href=\"#DejaVuSans-48\"/>\r\n      </g>\r\n     </g>\r\n    </g>\r\n    <g id=\"xtick_3\">\r\n     <g id=\"line2d_3\">\r\n      <g>\r\n       <use style=\"stroke:#000000;stroke-width:0.8;\" x=\"175.913862\" xlink:href=\"#m02027d3570\" y=\"228.14\"/>\r\n      </g>\r\n     </g>\r\n     <g id=\"text_3\">\r\n      <!-- 20 -->\r\n      <defs>\r\n       <path d=\"M 19.1875 8.296875 \r\nL 53.609375 8.296875 \r\nL 53.609375 0 \r\nL 7.328125 0 \r\nL 7.328125 8.296875 \r\nQ 12.9375 14.109375 22.625 23.890625 \r\nQ 32.328125 33.6875 34.8125 36.53125 \r\nQ 39.546875 41.84375 41.421875 45.53125 \r\nQ 43.3125 49.21875 43.3125 52.78125 \r\nQ 43.3125 58.59375 39.234375 62.25 \r\nQ 35.15625 65.921875 28.609375 65.921875 \r\nQ 23.96875 65.921875 18.8125 64.3125 \r\nQ 13.671875 62.703125 7.8125 59.421875 \r\nL 7.8125 69.390625 \r\nQ 13.765625 71.78125 18.9375 73 \r\nQ 24.125 74.21875 28.421875 74.21875 \r\nQ 39.75 74.21875 46.484375 68.546875 \r\nQ 53.21875 62.890625 53.21875 53.421875 \r\nQ 53.21875 48.921875 51.53125 44.890625 \r\nQ 49.859375 40.875 45.40625 35.40625 \r\nQ 44.1875 33.984375 37.640625 27.21875 \r\nQ 31.109375 20.453125 19.1875 8.296875 \r\nz\r\n\" id=\"DejaVuSans-50\"/>\r\n      </defs>\r\n      <g transform=\"translate(169.551362 242.738437)scale(0.1 -0.1)\">\r\n       <use xlink:href=\"#DejaVuSans-50\"/>\r\n       <use x=\"63.623047\" xlink:href=\"#DejaVuSans-48\"/>\r\n      </g>\r\n     </g>\r\n    </g>\r\n    <g id=\"xtick_4\">\r\n     <g id=\"line2d_4\">\r\n      <g>\r\n       <use style=\"stroke:#000000;stroke-width:0.8;\" x=\"238.02889\" xlink:href=\"#m02027d3570\" y=\"228.14\"/>\r\n      </g>\r\n     </g>\r\n     <g id=\"text_4\">\r\n      <!-- 30 -->\r\n      <defs>\r\n       <path d=\"M 40.578125 39.3125 \r\nQ 47.65625 37.796875 51.625 33 \r\nQ 55.609375 28.21875 55.609375 21.1875 \r\nQ 55.609375 10.40625 48.1875 4.484375 \r\nQ 40.765625 -1.421875 27.09375 -1.421875 \r\nQ 22.515625 -1.421875 17.65625 -0.515625 \r\nQ 12.796875 0.390625 7.625 2.203125 \r\nL 7.625 11.71875 \r\nQ 11.71875 9.328125 16.59375 8.109375 \r\nQ 21.484375 6.890625 26.8125 6.890625 \r\nQ 36.078125 6.890625 40.9375 10.546875 \r\nQ 45.796875 14.203125 45.796875 21.1875 \r\nQ 45.796875 27.640625 41.28125 31.265625 \r\nQ 36.765625 34.90625 28.71875 34.90625 \r\nL 20.21875 34.90625 \r\nL 20.21875 43.015625 \r\nL 29.109375 43.015625 \r\nQ 36.375 43.015625 40.234375 45.921875 \r\nQ 44.09375 48.828125 44.09375 54.296875 \r\nQ 44.09375 59.90625 40.109375 62.90625 \r\nQ 36.140625 65.921875 28.71875 65.921875 \r\nQ 24.65625 65.921875 20.015625 65.03125 \r\nQ 15.375 64.15625 9.8125 62.3125 \r\nL 9.8125 71.09375 \r\nQ 15.4375 72.65625 20.34375 73.4375 \r\nQ 25.25 74.21875 29.59375 74.21875 \r\nQ 40.828125 74.21875 47.359375 69.109375 \r\nQ 53.90625 64.015625 53.90625 55.328125 \r\nQ 53.90625 49.265625 50.4375 45.09375 \r\nQ 46.96875 40.921875 40.578125 39.3125 \r\nz\r\n\" id=\"DejaVuSans-51\"/>\r\n      </defs>\r\n      <g transform=\"translate(231.66639 242.738437)scale(0.1 -0.1)\">\r\n       <use xlink:href=\"#DejaVuSans-51\"/>\r\n       <use x=\"63.623047\" xlink:href=\"#DejaVuSans-48\"/>\r\n      </g>\r\n     </g>\r\n    </g>\r\n    <g id=\"xtick_5\">\r\n     <g id=\"line2d_5\">\r\n      <g>\r\n       <use style=\"stroke:#000000;stroke-width:0.8;\" x=\"300.143918\" xlink:href=\"#m02027d3570\" y=\"228.14\"/>\r\n      </g>\r\n     </g>\r\n     <g id=\"text_5\">\r\n      <!-- 40 -->\r\n      <defs>\r\n       <path d=\"M 37.796875 64.3125 \r\nL 12.890625 25.390625 \r\nL 37.796875 25.390625 \r\nz\r\nM 35.203125 72.90625 \r\nL 47.609375 72.90625 \r\nL 47.609375 25.390625 \r\nL 58.015625 25.390625 \r\nL 58.015625 17.1875 \r\nL 47.609375 17.1875 \r\nL 47.609375 0 \r\nL 37.796875 0 \r\nL 37.796875 17.1875 \r\nL 4.890625 17.1875 \r\nL 4.890625 26.703125 \r\nz\r\n\" id=\"DejaVuSans-52\"/>\r\n      </defs>\r\n      <g transform=\"translate(293.781418 242.738437)scale(0.1 -0.1)\">\r\n       <use xlink:href=\"#DejaVuSans-52\"/>\r\n       <use x=\"63.623047\" xlink:href=\"#DejaVuSans-48\"/>\r\n      </g>\r\n     </g>\r\n    </g>\r\n    <g id=\"xtick_6\">\r\n     <g id=\"line2d_6\">\r\n      <g>\r\n       <use style=\"stroke:#000000;stroke-width:0.8;\" x=\"362.258946\" xlink:href=\"#m02027d3570\" y=\"228.14\"/>\r\n      </g>\r\n     </g>\r\n     <g id=\"text_6\">\r\n      <!-- 50 -->\r\n      <defs>\r\n       <path d=\"M 10.796875 72.90625 \r\nL 49.515625 72.90625 \r\nL 49.515625 64.59375 \r\nL 19.828125 64.59375 \r\nL 19.828125 46.734375 \r\nQ 21.96875 47.46875 24.109375 47.828125 \r\nQ 26.265625 48.1875 28.421875 48.1875 \r\nQ 40.625 48.1875 47.75 41.5 \r\nQ 54.890625 34.8125 54.890625 23.390625 \r\nQ 54.890625 11.625 47.5625 5.09375 \r\nQ 40.234375 -1.421875 26.90625 -1.421875 \r\nQ 22.3125 -1.421875 17.546875 -0.640625 \r\nQ 12.796875 0.140625 7.71875 1.703125 \r\nL 7.71875 11.625 \r\nQ 12.109375 9.234375 16.796875 8.0625 \r\nQ 21.484375 6.890625 26.703125 6.890625 \r\nQ 35.15625 6.890625 40.078125 11.328125 \r\nQ 45.015625 15.765625 45.015625 23.390625 \r\nQ 45.015625 31 40.078125 35.4375 \r\nQ 35.15625 39.890625 26.703125 39.890625 \r\nQ 22.75 39.890625 18.8125 39.015625 \r\nQ 14.890625 38.140625 10.796875 36.28125 \r\nz\r\n\" id=\"DejaVuSans-53\"/>\r\n      </defs>\r\n      <g transform=\"translate(355.896446 242.738437)scale(0.1 -0.1)\">\r\n       <use xlink:href=\"#DejaVuSans-53\"/>\r\n       <use x=\"63.623047\" xlink:href=\"#DejaVuSans-48\"/>\r\n      </g>\r\n     </g>\r\n    </g>\r\n   </g>\r\n   <g id=\"matplotlib.axis_2\">\r\n    <g id=\"ytick_1\">\r\n     <g id=\"line2d_7\">\r\n      <defs>\r\n       <path d=\"M 0 0 \r\nL -3.5 0 \r\n\" id=\"mb769077393\" style=\"stroke:#000000;stroke-width:0.8;\"/>\r\n      </defs>\r\n      <g>\r\n       <use style=\"stroke:#000000;stroke-width:0.8;\" x=\"36.465625\" xlink:href=\"#mb769077393\" y=\"214.26703\"/>\r\n      </g>\r\n     </g>\r\n     <g id=\"text_7\">\r\n      <!-- 0.50 -->\r\n      <defs>\r\n       <path d=\"M 10.6875 12.40625 \r\nL 21 12.40625 \r\nL 21 0 \r\nL 10.6875 0 \r\nz\r\n\" id=\"DejaVuSans-46\"/>\r\n      </defs>\r\n      <g transform=\"translate(7.2 218.066249)scale(0.1 -0.1)\">\r\n       <use xlink:href=\"#DejaVuSans-48\"/>\r\n       <use x=\"63.623047\" xlink:href=\"#DejaVuSans-46\"/>\r\n       <use x=\"95.410156\" xlink:href=\"#DejaVuSans-53\"/>\r\n       <use x=\"159.033203\" xlink:href=\"#DejaVuSans-48\"/>\r\n      </g>\r\n     </g>\r\n    </g>\r\n    <g id=\"ytick_2\">\r\n     <g id=\"line2d_8\">\r\n      <g>\r\n       <use style=\"stroke:#000000;stroke-width:0.8;\" x=\"36.465625\" xlink:href=\"#mb769077393\" y=\"170.942492\"/>\r\n      </g>\r\n     </g>\r\n     <g id=\"text_8\">\r\n      <!-- 0.52 -->\r\n      <g transform=\"translate(7.2 174.741711)scale(0.1 -0.1)\">\r\n       <use xlink:href=\"#DejaVuSans-48\"/>\r\n       <use x=\"63.623047\" xlink:href=\"#DejaVuSans-46\"/>\r\n       <use x=\"95.410156\" xlink:href=\"#DejaVuSans-53\"/>\r\n       <use x=\"159.033203\" xlink:href=\"#DejaVuSans-50\"/>\r\n      </g>\r\n     </g>\r\n    </g>\r\n    <g id=\"ytick_3\">\r\n     <g id=\"line2d_9\">\r\n      <g>\r\n       <use style=\"stroke:#000000;stroke-width:0.8;\" x=\"36.465625\" xlink:href=\"#mb769077393\" y=\"127.617955\"/>\r\n      </g>\r\n     </g>\r\n     <g id=\"text_9\">\r\n      <!-- 0.54 -->\r\n      <g transform=\"translate(7.2 131.417173)scale(0.1 -0.1)\">\r\n       <use xlink:href=\"#DejaVuSans-48\"/>\r\n       <use x=\"63.623047\" xlink:href=\"#DejaVuSans-46\"/>\r\n       <use x=\"95.410156\" xlink:href=\"#DejaVuSans-53\"/>\r\n       <use x=\"159.033203\" xlink:href=\"#DejaVuSans-52\"/>\r\n      </g>\r\n     </g>\r\n    </g>\r\n    <g id=\"ytick_4\">\r\n     <g id=\"line2d_10\">\r\n      <g>\r\n       <use style=\"stroke:#000000;stroke-width:0.8;\" x=\"36.465625\" xlink:href=\"#mb769077393\" y=\"84.293417\"/>\r\n      </g>\r\n     </g>\r\n     <g id=\"text_10\">\r\n      <!-- 0.56 -->\r\n      <defs>\r\n       <path d=\"M 33.015625 40.375 \r\nQ 26.375 40.375 22.484375 35.828125 \r\nQ 18.609375 31.296875 18.609375 23.390625 \r\nQ 18.609375 15.53125 22.484375 10.953125 \r\nQ 26.375 6.390625 33.015625 6.390625 \r\nQ 39.65625 6.390625 43.53125 10.953125 \r\nQ 47.40625 15.53125 47.40625 23.390625 \r\nQ 47.40625 31.296875 43.53125 35.828125 \r\nQ 39.65625 40.375 33.015625 40.375 \r\nz\r\nM 52.59375 71.296875 \r\nL 52.59375 62.3125 \r\nQ 48.875 64.0625 45.09375 64.984375 \r\nQ 41.3125 65.921875 37.59375 65.921875 \r\nQ 27.828125 65.921875 22.671875 59.328125 \r\nQ 17.53125 52.734375 16.796875 39.40625 \r\nQ 19.671875 43.65625 24.015625 45.921875 \r\nQ 28.375 48.1875 33.59375 48.1875 \r\nQ 44.578125 48.1875 50.953125 41.515625 \r\nQ 57.328125 34.859375 57.328125 23.390625 \r\nQ 57.328125 12.15625 50.6875 5.359375 \r\nQ 44.046875 -1.421875 33.015625 -1.421875 \r\nQ 20.359375 -1.421875 13.671875 8.265625 \r\nQ 6.984375 17.96875 6.984375 36.375 \r\nQ 6.984375 53.65625 15.1875 63.9375 \r\nQ 23.390625 74.21875 37.203125 74.21875 \r\nQ 40.921875 74.21875 44.703125 73.484375 \r\nQ 48.484375 72.75 52.59375 71.296875 \r\nz\r\n\" id=\"DejaVuSans-54\"/>\r\n      </defs>\r\n      <g transform=\"translate(7.2 88.092636)scale(0.1 -0.1)\">\r\n       <use xlink:href=\"#DejaVuSans-48\"/>\r\n       <use x=\"63.623047\" xlink:href=\"#DejaVuSans-46\"/>\r\n       <use x=\"95.410156\" xlink:href=\"#DejaVuSans-53\"/>\r\n       <use x=\"159.033203\" xlink:href=\"#DejaVuSans-54\"/>\r\n      </g>\r\n     </g>\r\n    </g>\r\n    <g id=\"ytick_5\">\r\n     <g id=\"line2d_11\">\r\n      <g>\r\n       <use style=\"stroke:#000000;stroke-width:0.8;\" x=\"36.465625\" xlink:href=\"#mb769077393\" y=\"40.968879\"/>\r\n      </g>\r\n     </g>\r\n     <g id=\"text_11\">\r\n      <!-- 0.58 -->\r\n      <defs>\r\n       <path d=\"M 31.78125 34.625 \r\nQ 24.75 34.625 20.71875 30.859375 \r\nQ 16.703125 27.09375 16.703125 20.515625 \r\nQ 16.703125 13.921875 20.71875 10.15625 \r\nQ 24.75 6.390625 31.78125 6.390625 \r\nQ 38.8125 6.390625 42.859375 10.171875 \r\nQ 46.921875 13.96875 46.921875 20.515625 \r\nQ 46.921875 27.09375 42.890625 30.859375 \r\nQ 38.875 34.625 31.78125 34.625 \r\nz\r\nM 21.921875 38.8125 \r\nQ 15.578125 40.375 12.03125 44.71875 \r\nQ 8.5 49.078125 8.5 55.328125 \r\nQ 8.5 64.0625 14.71875 69.140625 \r\nQ 20.953125 74.21875 31.78125 74.21875 \r\nQ 42.671875 74.21875 48.875 69.140625 \r\nQ 55.078125 64.0625 55.078125 55.328125 \r\nQ 55.078125 49.078125 51.53125 44.71875 \r\nQ 48 40.375 41.703125 38.8125 \r\nQ 48.828125 37.15625 52.796875 32.3125 \r\nQ 56.78125 27.484375 56.78125 20.515625 \r\nQ 56.78125 9.90625 50.3125 4.234375 \r\nQ 43.84375 -1.421875 31.78125 -1.421875 \r\nQ 19.734375 -1.421875 13.25 4.234375 \r\nQ 6.78125 9.90625 6.78125 20.515625 \r\nQ 6.78125 27.484375 10.78125 32.3125 \r\nQ 14.796875 37.15625 21.921875 38.8125 \r\nz\r\nM 18.3125 54.390625 \r\nQ 18.3125 48.734375 21.84375 45.5625 \r\nQ 25.390625 42.390625 31.78125 42.390625 \r\nQ 38.140625 42.390625 41.71875 45.5625 \r\nQ 45.3125 48.734375 45.3125 54.390625 \r\nQ 45.3125 60.0625 41.71875 63.234375 \r\nQ 38.140625 66.40625 31.78125 66.40625 \r\nQ 25.390625 66.40625 21.84375 63.234375 \r\nQ 18.3125 60.0625 18.3125 54.390625 \r\nz\r\n\" id=\"DejaVuSans-56\"/>\r\n      </defs>\r\n      <g transform=\"translate(7.2 44.768098)scale(0.1 -0.1)\">\r\n       <use xlink:href=\"#DejaVuSans-48\"/>\r\n       <use x=\"63.623047\" xlink:href=\"#DejaVuSans-46\"/>\r\n       <use x=\"95.410156\" xlink:href=\"#DejaVuSans-53\"/>\r\n       <use x=\"159.033203\" xlink:href=\"#DejaVuSans-56\"/>\r\n      </g>\r\n     </g>\r\n    </g>\r\n   </g>\r\n   <g id=\"line2d_12\">\r\n    <path clip-path=\"url(#pe19f8a7ffb)\" d=\"M 51.683807 99.106768 \r\nL 57.89531 92.839033 \r\nL 64.106812 88.985789 \r\nL 70.318315 86.552317 \r\nL 76.529818 83.736659 \r\nL 82.741321 82.958598 \r\nL 88.952824 82.086025 \r\nL 95.164326 81.741798 \r\nL 101.375829 79.440284 \r\nL 107.587332 80.227899 \r\nL 113.798835 80.784394 \r\nL 120.010337 79.077078 \r\nL 126.22184 78.496954 \r\nL 132.433343 77.921608 \r\nL 138.644846 77.68584 \r\nL 144.856349 76.403061 \r\nL 151.067851 76.23792 \r\nL 157.279354 75.705053 \r\nL 163.490857 75.318347 \r\nL 169.70236 74.912661 \r\nL 175.913862 73.667584 \r\nL 182.125365 74.761723 \r\nL 188.336868 73.795023 \r\nL 194.548371 73.436594 \r\nL 200.759874 73.120515 \r\nL 206.971376 73.412965 \r\nL 213.182879 72.483838 \r\nL 219.394382 71.899066 \r\nL 225.605885 72.281124 \r\nL 231.817388 71.130302 \r\nL 238.02889 71.007641 \r\nL 244.240393 70.422869 \r\nL 250.451896 69.154164 \r\nL 256.663399 69.753138 \r\nL 262.874901 68.965524 \r\nL 269.086404 68.701479 \r\nL 275.297907 67.989269 \r\nL 281.50941 67.531806 \r\nL 287.720913 65.532169 \r\nL 293.932415 67.432774 \r\nL 300.143918 65.249144 \r\nL 306.355421 65.876524 \r\nL 312.566924 65.268124 \r\nL 318.778426 63.381593 \r\nL 324.989929 64.390902 \r\nL 331.201432 63.900386 \r\nL 337.412935 63.325039 \r\nL 343.624438 64.004067 \r\nL 349.83594 62.160144 \r\nL 356.047443 62.042131 \r\n\" style=\"fill:none;stroke:#1f77b4;stroke-linecap:square;stroke-width:1.5;\"/>\r\n   </g>\r\n   <g id=\"line2d_13\">\r\n    <path clip-path=\"url(#pe19f8a7ffb)\" d=\"M 51.683807 20.583636 \r\nL 57.89531 149.488681 \r\nL 64.106812 155.341304 \r\nL 70.318315 147.362637 \r\nL 76.529818 186.032975 \r\nL 82.741321 89.968629 \r\nL 88.952824 110.075402 \r\nL 95.164326 90.985943 \r\nL 101.375829 112.350059 \r\nL 107.587332 104.474299 \r\nL 113.798835 62.397462 \r\nL 120.010337 128.593259 \r\nL 126.22184 151.546292 \r\nL 132.433343 73.416839 \r\nL 138.644846 168.14379 \r\nL 144.856349 109.149503 \r\nL 151.067851 118.156976 \r\nL 157.279354 88.059631 \r\nL 163.490857 132.582593 \r\nL 169.70236 120.706007 \r\nL 175.913862 84.561847 \r\nL 182.125365 123.632319 \r\nL 188.336868 63.906325 \r\nL 194.548371 165.3546 \r\nL 200.759874 135.417361 \r\nL 206.971376 115.779283 \r\nL 213.182879 135.211677 \r\nL 219.394382 114.853383 \r\nL 225.605885 95.695363 \r\nL 231.817388 173.859162 \r\nL 238.02889 111.344108 \r\nL 244.240393 133.417077 \r\nL 250.451896 93.489267 \r\nL 256.663399 218.256364 \r\nL 262.874901 91.385948 \r\nL 269.086404 147.122608 \r\nL 275.297907 111.024155 \r\nL 281.50941 136.994915 \r\nL 287.720913 166.760686 \r\nL 293.932415 123.003518 \r\nL 300.143918 157.478839 \r\nL 306.355421 185.358596 \r\nL 312.566924 158.050441 \r\nL 318.778426 177.585613 \r\nL 324.989929 128.296032 \r\nL 331.201432 118.682741 \r\nL 337.412935 155.535626 \r\nL 343.624438 114.990635 \r\nL 349.83594 105.960308 \r\nL 356.047443 123.243676 \r\n\" style=\"fill:none;stroke:#ff7f0e;stroke-linecap:square;stroke-width:1.5;\"/>\r\n   </g>\r\n   <g id=\"patch_3\">\r\n    <path d=\"M 36.465625 228.14 \r\nL 36.465625 10.7 \r\n\" style=\"fill:none;stroke:#000000;stroke-linecap:square;stroke-linejoin:miter;stroke-width:0.8;\"/>\r\n   </g>\r\n   <g id=\"patch_4\">\r\n    <path d=\"M 371.265625 228.14 \r\nL 371.265625 10.7 \r\n\" style=\"fill:none;stroke:#000000;stroke-linecap:square;stroke-linejoin:miter;stroke-width:0.8;\"/>\r\n   </g>\r\n   <g id=\"patch_5\">\r\n    <path d=\"M 36.465625 228.14 \r\nL 371.265625 228.14 \r\n\" style=\"fill:none;stroke:#000000;stroke-linecap:square;stroke-linejoin:miter;stroke-width:0.8;\"/>\r\n   </g>\r\n   <g id=\"patch_6\">\r\n    <path d=\"M 36.465625 10.7 \r\nL 371.265625 10.7 \r\n\" style=\"fill:none;stroke:#000000;stroke-linecap:square;stroke-linejoin:miter;stroke-width:0.8;\"/>\r\n   </g>\r\n   <g id=\"legend_1\">\r\n    <g id=\"patch_7\">\r\n     <path d=\"M 288.6875 48.05625 \r\nL 364.265625 48.05625 \r\nQ 366.265625 48.05625 366.265625 46.05625 \r\nL 366.265625 17.7 \r\nQ 366.265625 15.7 364.265625 15.7 \r\nL 288.6875 15.7 \r\nQ 286.6875 15.7 286.6875 17.7 \r\nL 286.6875 46.05625 \r\nQ 286.6875 48.05625 288.6875 48.05625 \r\nz\r\n\" style=\"fill:#ffffff;opacity:0.8;stroke:#cccccc;stroke-linejoin:miter;\"/>\r\n    </g>\r\n    <g id=\"line2d_14\">\r\n     <path d=\"M 290.6875 23.798437 \r\nL 310.6875 23.798437 \r\n\" style=\"fill:none;stroke:#1f77b4;stroke-linecap:square;stroke-width:1.5;\"/>\r\n    </g>\r\n    <g id=\"line2d_15\"/>\r\n    <g id=\"text_12\">\r\n     <!-- train acc -->\r\n     <defs>\r\n      <path d=\"M 18.3125 70.21875 \r\nL 18.3125 54.6875 \r\nL 36.8125 54.6875 \r\nL 36.8125 47.703125 \r\nL 18.3125 47.703125 \r\nL 18.3125 18.015625 \r\nQ 18.3125 11.328125 20.140625 9.421875 \r\nQ 21.96875 7.515625 27.59375 7.515625 \r\nL 36.8125 7.515625 \r\nL 36.8125 0 \r\nL 27.59375 0 \r\nQ 17.1875 0 13.234375 3.875 \r\nQ 9.28125 7.765625 9.28125 18.015625 \r\nL 9.28125 47.703125 \r\nL 2.6875 47.703125 \r\nL 2.6875 54.6875 \r\nL 9.28125 54.6875 \r\nL 9.28125 70.21875 \r\nz\r\n\" id=\"DejaVuSans-116\"/>\r\n      <path d=\"M 41.109375 46.296875 \r\nQ 39.59375 47.171875 37.8125 47.578125 \r\nQ 36.03125 48 33.890625 48 \r\nQ 26.265625 48 22.1875 43.046875 \r\nQ 18.109375 38.09375 18.109375 28.8125 \r\nL 18.109375 0 \r\nL 9.078125 0 \r\nL 9.078125 54.6875 \r\nL 18.109375 54.6875 \r\nL 18.109375 46.1875 \r\nQ 20.953125 51.171875 25.484375 53.578125 \r\nQ 30.03125 56 36.53125 56 \r\nQ 37.453125 56 38.578125 55.875 \r\nQ 39.703125 55.765625 41.0625 55.515625 \r\nz\r\n\" id=\"DejaVuSans-114\"/>\r\n      <path d=\"M 34.28125 27.484375 \r\nQ 23.390625 27.484375 19.1875 25 \r\nQ 14.984375 22.515625 14.984375 16.5 \r\nQ 14.984375 11.71875 18.140625 8.90625 \r\nQ 21.296875 6.109375 26.703125 6.109375 \r\nQ 34.1875 6.109375 38.703125 11.40625 \r\nQ 43.21875 16.703125 43.21875 25.484375 \r\nL 43.21875 27.484375 \r\nz\r\nM 52.203125 31.203125 \r\nL 52.203125 0 \r\nL 43.21875 0 \r\nL 43.21875 8.296875 \r\nQ 40.140625 3.328125 35.546875 0.953125 \r\nQ 30.953125 -1.421875 24.3125 -1.421875 \r\nQ 15.921875 -1.421875 10.953125 3.296875 \r\nQ 6 8.015625 6 15.921875 \r\nQ 6 25.140625 12.171875 29.828125 \r\nQ 18.359375 34.515625 30.609375 34.515625 \r\nL 43.21875 34.515625 \r\nL 43.21875 35.40625 \r\nQ 43.21875 41.609375 39.140625 45 \r\nQ 35.0625 48.390625 27.6875 48.390625 \r\nQ 23 48.390625 18.546875 47.265625 \r\nQ 14.109375 46.140625 10.015625 43.890625 \r\nL 10.015625 52.203125 \r\nQ 14.9375 54.109375 19.578125 55.046875 \r\nQ 24.21875 56 28.609375 56 \r\nQ 40.484375 56 46.34375 49.84375 \r\nQ 52.203125 43.703125 52.203125 31.203125 \r\nz\r\n\" id=\"DejaVuSans-97\"/>\r\n      <path d=\"M 9.421875 54.6875 \r\nL 18.40625 54.6875 \r\nL 18.40625 0 \r\nL 9.421875 0 \r\nz\r\nM 9.421875 75.984375 \r\nL 18.40625 75.984375 \r\nL 18.40625 64.59375 \r\nL 9.421875 64.59375 \r\nz\r\n\" id=\"DejaVuSans-105\"/>\r\n      <path d=\"M 54.890625 33.015625 \r\nL 54.890625 0 \r\nL 45.90625 0 \r\nL 45.90625 32.71875 \r\nQ 45.90625 40.484375 42.875 44.328125 \r\nQ 39.84375 48.1875 33.796875 48.1875 \r\nQ 26.515625 48.1875 22.3125 43.546875 \r\nQ 18.109375 38.921875 18.109375 30.90625 \r\nL 18.109375 0 \r\nL 9.078125 0 \r\nL 9.078125 54.6875 \r\nL 18.109375 54.6875 \r\nL 18.109375 46.1875 \r\nQ 21.34375 51.125 25.703125 53.5625 \r\nQ 30.078125 56 35.796875 56 \r\nQ 45.21875 56 50.046875 50.171875 \r\nQ 54.890625 44.34375 54.890625 33.015625 \r\nz\r\n\" id=\"DejaVuSans-110\"/>\r\n      <path id=\"DejaVuSans-32\"/>\r\n      <path d=\"M 48.78125 52.59375 \r\nL 48.78125 44.1875 \r\nQ 44.96875 46.296875 41.140625 47.34375 \r\nQ 37.3125 48.390625 33.40625 48.390625 \r\nQ 24.65625 48.390625 19.8125 42.84375 \r\nQ 14.984375 37.3125 14.984375 27.296875 \r\nQ 14.984375 17.28125 19.8125 11.734375 \r\nQ 24.65625 6.203125 33.40625 6.203125 \r\nQ 37.3125 6.203125 41.140625 7.25 \r\nQ 44.96875 8.296875 48.78125 10.40625 \r\nL 48.78125 2.09375 \r\nQ 45.015625 0.34375 40.984375 -0.53125 \r\nQ 36.96875 -1.421875 32.421875 -1.421875 \r\nQ 20.0625 -1.421875 12.78125 6.34375 \r\nQ 5.515625 14.109375 5.515625 27.296875 \r\nQ 5.515625 40.671875 12.859375 48.328125 \r\nQ 20.21875 56 33.015625 56 \r\nQ 37.15625 56 41.109375 55.140625 \r\nQ 45.0625 54.296875 48.78125 52.59375 \r\nz\r\n\" id=\"DejaVuSans-99\"/>\r\n     </defs>\r\n     <g transform=\"translate(318.6875 27.298437)scale(0.1 -0.1)\">\r\n      <use xlink:href=\"#DejaVuSans-116\"/>\r\n      <use x=\"39.208984\" xlink:href=\"#DejaVuSans-114\"/>\r\n      <use x=\"80.322266\" xlink:href=\"#DejaVuSans-97\"/>\r\n      <use x=\"141.601562\" xlink:href=\"#DejaVuSans-105\"/>\r\n      <use x=\"169.384766\" xlink:href=\"#DejaVuSans-110\"/>\r\n      <use x=\"232.763672\" xlink:href=\"#DejaVuSans-32\"/>\r\n      <use x=\"264.550781\" xlink:href=\"#DejaVuSans-97\"/>\r\n      <use x=\"325.830078\" xlink:href=\"#DejaVuSans-99\"/>\r\n      <use x=\"380.810547\" xlink:href=\"#DejaVuSans-99\"/>\r\n     </g>\r\n    </g>\r\n    <g id=\"line2d_16\">\r\n     <path d=\"M 290.6875 38.476562 \r\nL 310.6875 38.476562 \r\n\" style=\"fill:none;stroke:#ff7f0e;stroke-linecap:square;stroke-width:1.5;\"/>\r\n    </g>\r\n    <g id=\"line2d_17\"/>\r\n    <g id=\"text_13\">\r\n     <!-- test acc -->\r\n     <defs>\r\n      <path d=\"M 56.203125 29.59375 \r\nL 56.203125 25.203125 \r\nL 14.890625 25.203125 \r\nQ 15.484375 15.921875 20.484375 11.0625 \r\nQ 25.484375 6.203125 34.421875 6.203125 \r\nQ 39.59375 6.203125 44.453125 7.46875 \r\nQ 49.3125 8.734375 54.109375 11.28125 \r\nL 54.109375 2.78125 \r\nQ 49.265625 0.734375 44.1875 -0.34375 \r\nQ 39.109375 -1.421875 33.890625 -1.421875 \r\nQ 20.796875 -1.421875 13.15625 6.1875 \r\nQ 5.515625 13.8125 5.515625 26.8125 \r\nQ 5.515625 40.234375 12.765625 48.109375 \r\nQ 20.015625 56 32.328125 56 \r\nQ 43.359375 56 49.78125 48.890625 \r\nQ 56.203125 41.796875 56.203125 29.59375 \r\nz\r\nM 47.21875 32.234375 \r\nQ 47.125 39.59375 43.09375 43.984375 \r\nQ 39.0625 48.390625 32.421875 48.390625 \r\nQ 24.90625 48.390625 20.390625 44.140625 \r\nQ 15.875 39.890625 15.1875 32.171875 \r\nz\r\n\" id=\"DejaVuSans-101\"/>\r\n      <path d=\"M 44.28125 53.078125 \r\nL 44.28125 44.578125 \r\nQ 40.484375 46.53125 36.375 47.5 \r\nQ 32.28125 48.484375 27.875 48.484375 \r\nQ 21.1875 48.484375 17.84375 46.4375 \r\nQ 14.5 44.390625 14.5 40.28125 \r\nQ 14.5 37.15625 16.890625 35.375 \r\nQ 19.28125 33.59375 26.515625 31.984375 \r\nL 29.59375 31.296875 \r\nQ 39.15625 29.25 43.1875 25.515625 \r\nQ 47.21875 21.78125 47.21875 15.09375 \r\nQ 47.21875 7.46875 41.1875 3.015625 \r\nQ 35.15625 -1.421875 24.609375 -1.421875 \r\nQ 20.21875 -1.421875 15.453125 -0.5625 \r\nQ 10.6875 0.296875 5.421875 2 \r\nL 5.421875 11.28125 \r\nQ 10.40625 8.6875 15.234375 7.390625 \r\nQ 20.0625 6.109375 24.8125 6.109375 \r\nQ 31.15625 6.109375 34.5625 8.28125 \r\nQ 37.984375 10.453125 37.984375 14.40625 \r\nQ 37.984375 18.0625 35.515625 20.015625 \r\nQ 33.0625 21.96875 24.703125 23.78125 \r\nL 21.578125 24.515625 \r\nQ 13.234375 26.265625 9.515625 29.90625 \r\nQ 5.8125 33.546875 5.8125 39.890625 \r\nQ 5.8125 47.609375 11.28125 51.796875 \r\nQ 16.75 56 26.8125 56 \r\nQ 31.78125 56 36.171875 55.265625 \r\nQ 40.578125 54.546875 44.28125 53.078125 \r\nz\r\n\" id=\"DejaVuSans-115\"/>\r\n     </defs>\r\n     <g transform=\"translate(318.6875 41.976562)scale(0.1 -0.1)\">\r\n      <use xlink:href=\"#DejaVuSans-116\"/>\r\n      <use x=\"39.208984\" xlink:href=\"#DejaVuSans-101\"/>\r\n      <use x=\"100.732422\" xlink:href=\"#DejaVuSans-115\"/>\r\n      <use x=\"152.832031\" xlink:href=\"#DejaVuSans-116\"/>\r\n      <use x=\"192.041016\" xlink:href=\"#DejaVuSans-32\"/>\r\n      <use x=\"223.828125\" xlink:href=\"#DejaVuSans-97\"/>\r\n      <use x=\"285.107422\" xlink:href=\"#DejaVuSans-99\"/>\r\n      <use x=\"340.087891\" xlink:href=\"#DejaVuSans-99\"/>\r\n     </g>\r\n    </g>\r\n   </g>\r\n  </g>\r\n </g>\r\n <defs>\r\n  <clipPath id=\"pe19f8a7ffb\">\r\n   <rect height=\"217.44\" width=\"334.8\" x=\"36.465625\" y=\"10.7\"/>\r\n  </clipPath>\r\n </defs>\r\n</svg>\r\n",
            "image/png": "[encoded data removed]"
          },
          "metadata": {
            "needs_background": "light"
          }
        }
      ]
    },
    {
      "cell_type": "markdown",
      "metadata": {
        "id": "f84Quw7uzfLN"
      },
      "source": [
        "The model's training accuracy is slowly rising, but the test accuracy is not improving over epochs."
      ]
    },
    {
      "cell_type": "markdown",
      "metadata": {
        "id": "QUmWgQRQnFli"
      },
      "source": [
        "### LSTM model"
      ]
    },
    {
      "cell_type": "code",
      "metadata": {
        "colab": {
          "base_uri": "https://localhost:8080/",
          "height": 0
        },
        "id": "6P4f-5vszfLO",
        "outputId": "a1bade1d-229d-4d62-b742-1d4f206c6d2e"
      },
      "source": [
        "model2 = models.Sequential([\n",
        "    layers.Input(shape=(SEQ_LEN,)),\n",
        "    layers.Reshape((SEQ_LEN, 1)),\n",
        "    layers.LSTM(64, return_sequences=True),\n",
        "    layers.LSTM(64),\n",
        "    layers.Dropout(0.2),\n",
        "    layers.Dense(10, activation='relu'),\n",
        "    layers.Dense(1, activation='sigmoid')\n",
        "])\n",
        "model2.compile(optimizer='adam', loss='binary_crossentropy', metrics=['acc'])\n",
        "model2.summary()"
      ],
      "execution_count": 37,
      "outputs": [
        {
          "output_type": "stream",
          "name": "stdout",
          "text": [
            "Model: \"sequential_2\"\n_________________________________________________________________\nLayer (type)                 Output Shape              Param #   \n=================================================================\nreshape (Reshape)            (None, 10, 1)             0         \n_________________________________________________________________\nlstm (LSTM)                  (None, 10, 64)            16896     \n_________________________________________________________________\nlstm_1 (LSTM)                (None, 64)                33024     \n_________________________________________________________________\ndropout (Dropout)            (None, 64)                0         \n_________________________________________________________________\ndense_12 (Dense)             (None, 10)                650       \n_________________________________________________________________\ndense_13 (Dense)             (None, 1)                 11        \n=================================================================\nTotal params: 50,581\nTrainable params: 50,581\nNon-trainable params: 0\n_________________________________________________________________\n"
          ]
        }
      ]
    },
    {
      "cell_type": "code",
      "metadata": {
        "colab": {
          "base_uri": "https://localhost:8080/",
          "height": 0
        },
        "id": "pytqMBHDzfLO",
        "outputId": "745aaf04-9f2c-49fb-afa1-0751234c499b"
      },
      "source": [
        "log2 = model2.fit(X_train, y_train, validation_data=(X_test, y_test), epochs=50, batch_size=128)"
      ],
      "execution_count": 38,
      "outputs": [
        {
          "output_type": "stream",
          "name": "stdout",
          "text": [
            "Epoch 1/50\n",
            "3589/3589 [==============================] - 62s 16ms/step - loss: 0.6854 - acc: 0.5498 - val_loss: 0.6861 - val_acc: 0.5300\n",
            "Epoch 2/50\n",
            "3589/3589 [==============================] - 57s 16ms/step - loss: 0.6839 - acc: 0.5538 - val_loss: 0.7015 - val_acc: 0.4932\n",
            "Epoch 3/50\n",
            "3589/3589 [==============================] - 57s 16ms/step - loss: 0.6833 - acc: 0.5522 - val_loss: 0.6842 - val_acc: 0.5574\n",
            "Epoch 4/50\n",
            "3589/3589 [==============================] - 57s 16ms/step - loss: 0.6824 - acc: 0.5519 - val_loss: 0.6845 - val_acc: 0.5411\n",
            "Epoch 5/50\n",
            "3589/3589 [==============================] - 58s 16ms/step - loss: 0.6812 - acc: 0.5525 - val_loss: 0.6809 - val_acc: 0.5740\n",
            "Epoch 6/50\n",
            "3589/3589 [==============================] - 57s 16ms/step - loss: 0.6802 - acc: 0.5547 - val_loss: 0.6846 - val_acc: 0.5319\n",
            "Epoch 7/50\n",
            "3589/3589 [==============================] - 57s 16ms/step - loss: 0.6794 - acc: 0.5552 - val_loss: 0.6838 - val_acc: 0.5483\n",
            "Epoch 8/50\n",
            "3589/3589 [==============================] - 57s 16ms/step - loss: 0.6789 - acc: 0.5585 - val_loss: 0.6845 - val_acc: 0.5569\n",
            "Epoch 9/50\n",
            "3589/3589 [==============================] - 57s 16ms/step - loss: 0.6771 - acc: 0.5618 - val_loss: 0.6840 - val_acc: 0.5554\n",
            "Epoch 10/50\n",
            "3589/3589 [==============================] - 58s 16ms/step - loss: 0.6772 - acc: 0.5597 - val_loss: 0.6901 - val_acc: 0.5376\n",
            "Epoch 11/50\n",
            "3589/3589 [==============================] - 57s 16ms/step - loss: 0.6764 - acc: 0.5611 - val_loss: 0.6852 - val_acc: 0.5507\n",
            "Epoch 12/50\n",
            "3589/3589 [==============================] - 57s 16ms/step - loss: 0.6757 - acc: 0.5627 - val_loss: 0.6916 - val_acc: 0.5221\n",
            "Epoch 13/50\n",
            "3589/3589 [==============================] - 57s 16ms/step - loss: 0.6751 - acc: 0.5631 - val_loss: 0.6967 - val_acc: 0.5158\n",
            "Epoch 14/50\n",
            "3589/3589 [==============================] - 57s 16ms/step - loss: 0.6742 - acc: 0.5629 - val_loss: 0.6857 - val_acc: 0.5577\n",
            "Epoch 15/50\n",
            "3589/3589 [==============================] - 57s 16ms/step - loss: 0.6730 - acc: 0.5655 - val_loss: 0.6926 - val_acc: 0.5299\n",
            "Epoch 16/50\n",
            "3589/3589 [==============================] - 57s 16ms/step - loss: 0.6719 - acc: 0.5658 - val_loss: 0.6866 - val_acc: 0.5510\n",
            "Epoch 17/50\n",
            "3589/3589 [==============================] - 57s 16ms/step - loss: 0.6711 - acc: 0.5659 - val_loss: 0.6938 - val_acc: 0.5016\n",
            "Epoch 18/50\n",
            "3589/3589 [==============================] - 56s 16ms/step - loss: 0.6698 - acc: 0.5665 - val_loss: 0.6914 - val_acc: 0.5270\n",
            "Epoch 19/50\n",
            "3589/3589 [==============================] - 57s 16ms/step - loss: 0.6686 - acc: 0.5703 - val_loss: 0.6869 - val_acc: 0.5481\n",
            "Epoch 20/50\n",
            "3589/3589 [==============================] - 57s 16ms/step - loss: 0.6688 - acc: 0.5689 - val_loss: 0.6917 - val_acc: 0.5455\n",
            "Epoch 21/50\n",
            "3589/3589 [==============================] - 57s 16ms/step - loss: 0.6674 - acc: 0.5695 - val_loss: 0.6862 - val_acc: 0.5527\n",
            "Epoch 22/50\n",
            "3589/3589 [==============================] - 57s 16ms/step - loss: 0.6663 - acc: 0.5722 - val_loss: 0.7002 - val_acc: 0.5097\n",
            "Epoch 23/50\n",
            "3589/3589 [==============================] - 57s 16ms/step - loss: 0.6657 - acc: 0.5719 - val_loss: 0.6935 - val_acc: 0.5157\n",
            "Epoch 24/50\n",
            "3589/3589 [==============================] - 57s 16ms/step - loss: 0.6643 - acc: 0.5750 - val_loss: 0.6895 - val_acc: 0.5417\n",
            "Epoch 25/50\n",
            "3589/3589 [==============================] - 56s 16ms/step - loss: 0.6642 - acc: 0.5750 - val_loss: 0.6947 - val_acc: 0.5279\n",
            "Epoch 26/50\n",
            "3589/3589 [==============================] - 57s 16ms/step - loss: 0.6631 - acc: 0.5759 - val_loss: 0.6908 - val_acc: 0.5463\n",
            "Epoch 27/50\n",
            "3589/3589 [==============================] - 57s 16ms/step - loss: 0.6630 - acc: 0.5768 - val_loss: 0.6922 - val_acc: 0.5294\n",
            "Epoch 28/50\n",
            "3589/3589 [==============================] - 56s 16ms/step - loss: 0.6623 - acc: 0.5787 - val_loss: 0.6933 - val_acc: 0.5357\n",
            "Epoch 29/50\n",
            "3589/3589 [==============================] - 56s 16ms/step - loss: 0.6617 - acc: 0.5780 - val_loss: 0.6934 - val_acc: 0.5491\n",
            "Epoch 30/50\n",
            "3589/3589 [==============================] - 57s 16ms/step - loss: 0.6603 - acc: 0.5804 - val_loss: 0.6933 - val_acc: 0.5365\n",
            "Epoch 31/50\n",
            "3589/3589 [==============================] - 57s 16ms/step - loss: 0.6600 - acc: 0.5823 - val_loss: 0.6915 - val_acc: 0.5326\n",
            "Epoch 32/50\n",
            "3589/3589 [==============================] - 57s 16ms/step - loss: 0.6591 - acc: 0.5807 - val_loss: 0.6959 - val_acc: 0.5292\n",
            "Epoch 33/50\n",
            "3589/3589 [==============================] - 56s 16ms/step - loss: 0.6589 - acc: 0.5822 - val_loss: 0.7026 - val_acc: 0.5034\n",
            "Epoch 34/50\n",
            "3589/3589 [==============================] - 57s 16ms/step - loss: 0.6581 - acc: 0.5828 - val_loss: 0.6988 - val_acc: 0.5282\n",
            "Epoch 35/50\n",
            "3589/3589 [==============================] - 56s 16ms/step - loss: 0.6577 - acc: 0.5837 - val_loss: 0.6933 - val_acc: 0.5283\n",
            "Epoch 36/50\n",
            "3589/3589 [==============================] - 57s 16ms/step - loss: 0.6572 - acc: 0.5840 - val_loss: 0.6947 - val_acc: 0.5360\n",
            "Epoch 37/50\n",
            "3589/3589 [==============================] - 58s 16ms/step - loss: 0.6566 - acc: 0.5851 - val_loss: 0.6890 - val_acc: 0.5502\n",
            "Epoch 38/50\n",
            "3589/3589 [==============================] - 57s 16ms/step - loss: 0.6561 - acc: 0.5861 - val_loss: 0.6966 - val_acc: 0.5149\n",
            "Epoch 39/50\n",
            "3589/3589 [==============================] - 57s 16ms/step - loss: 0.6555 - acc: 0.5866 - val_loss: 0.6939 - val_acc: 0.5375\n",
            "Epoch 40/50\n",
            "3589/3589 [==============================] - 56s 16ms/step - loss: 0.6553 - acc: 0.5871 - val_loss: 0.6977 - val_acc: 0.5241\n",
            "Epoch 41/50\n",
            "3589/3589 [==============================] - 57s 16ms/step - loss: 0.6538 - acc: 0.5897 - val_loss: 0.6989 - val_acc: 0.5250\n",
            "Epoch 42/50\n",
            "3589/3589 [==============================] - 56s 16ms/step - loss: 0.6530 - acc: 0.5900 - val_loss: 0.6995 - val_acc: 0.5290\n",
            "Epoch 43/50\n",
            "3589/3589 [==============================] - 56s 16ms/step - loss: 0.6530 - acc: 0.5901 - val_loss: 0.7024 - val_acc: 0.5173\n",
            "Epoch 44/50\n",
            "3589/3589 [==============================] - 57s 16ms/step - loss: 0.6533 - acc: 0.5892 - val_loss: 0.7010 - val_acc: 0.5255\n",
            "Epoch 45/50\n",
            "3589/3589 [==============================] - 56s 16ms/step - loss: 0.6515 - acc: 0.5918 - val_loss: 0.6972 - val_acc: 0.5309\n",
            "Epoch 46/50\n",
            "3589/3589 [==============================] - 56s 16ms/step - loss: 0.6511 - acc: 0.5936 - val_loss: 0.7013 - val_acc: 0.5271\n",
            "Epoch 47/50\n",
            "3589/3589 [==============================] - 56s 16ms/step - loss: 0.6504 - acc: 0.5920 - val_loss: 0.7019 - val_acc: 0.5251\n",
            "Epoch 48/50\n",
            "3589/3589 [==============================] - 57s 16ms/step - loss: 0.6498 - acc: 0.5939 - val_loss: 0.7043 - val_acc: 0.5403\n",
            "Epoch 49/50\n",
            "3589/3589 [==============================] - 57s 16ms/step - loss: 0.6499 - acc: 0.5934 - val_loss: 0.6988 - val_acc: 0.5354\n",
            "Epoch 50/50\n",
            "3589/3589 [==============================] - 57s 16ms/step - loss: 0.6496 - acc: 0.5924 - val_loss: 0.7009 - val_acc: 0.5354\n"
          ]
        }
      ]
    },
    {
      "cell_type": "code",
      "metadata": {
        "colab": {
          "base_uri": "https://localhost:8080/",
          "height": 283
        },
        "id": "oSJQJTcKzfLO",
        "outputId": "42feb99e-720c-4090-df51-ff90b919c352"
      },
      "source": [
        "pl.plot(log2.history['acc'])\n",
        "pl.plot(log2.history['val_acc'])\n",
        "pl.legend(['train acc', \"test acc\"])\n",
        "print(f\"Best test acc: {max(log2.history['val_acc'])}\")"
      ],
      "execution_count": 39,
      "outputs": [
        {
          "output_type": "stream",
          "name": "stdout",
          "text": [
            "Best test acc: 0.5740285515785217\n"
          ]
        },
        {
          "output_type": "display_data",
          "data": {
            "text/plain": "<Figure size 432x288 with 1 Axes>",
            "image/svg+xml": "<?xml version=\"1.0\" encoding=\"utf-8\" standalone=\"no\"?>\r\n<!DOCTYPE svg PUBLIC \"-//W3C//DTD SVG 1.1//EN\"\r\n  \"http://www.w3.org/Graphics/SVG/1.1/DTD/svg11.dtd\">\r\n<!-- Created with matplotlib (https://matplotlib.org/) -->\r\n<svg height=\"252.018125pt\" version=\"1.1\" viewBox=\"0 0 381.965625 252.018125\" width=\"381.965625pt\" xmlns=\"http://www.w3.org/2000/svg\" xmlns:xlink=\"http://www.w3.org/1999/xlink\">\r\n <defs>\r\n  <style type=\"text/css\">\r\n*{stroke-linecap:butt;stroke-linejoin:round;}\r\n  </style>\r\n </defs>\r\n <g id=\"figure_1\">\r\n  <g id=\"patch_1\">\r\n   <path d=\"M 0 252.018125 \r\nL 381.965625 252.018125 \r\nL 381.965625 0 \r\nL 0 0 \r\nz\r\n\" style=\"fill:none;\"/>\r\n  </g>\r\n  <g id=\"axes_1\">\r\n   <g id=\"patch_2\">\r\n    <path d=\"M 36.465625 228.14 \r\nL 371.265625 228.14 \r\nL 371.265625 10.7 \r\nL 36.465625 10.7 \r\nz\r\n\" style=\"fill:#ffffff;\"/>\r\n   </g>\r\n   <g id=\"matplotlib.axis_1\">\r\n    <g id=\"xtick_1\">\r\n     <g id=\"line2d_1\">\r\n      <defs>\r\n       <path d=\"M 0 0 \r\nL 0 3.5 \r\n\" id=\"m8767551412\" style=\"stroke:#000000;stroke-width:0.8;\"/>\r\n      </defs>\r\n      <g>\r\n       <use style=\"stroke:#000000;stroke-width:0.8;\" x=\"51.683807\" xlink:href=\"#m8767551412\" y=\"228.14\"/>\r\n      </g>\r\n     </g>\r\n     <g id=\"text_1\">\r\n      <!-- 0 -->\r\n      <defs>\r\n       <path d=\"M 31.78125 66.40625 \r\nQ 24.171875 66.40625 20.328125 58.90625 \r\nQ 16.5 51.421875 16.5 36.375 \r\nQ 16.5 21.390625 20.328125 13.890625 \r\nQ 24.171875 6.390625 31.78125 6.390625 \r\nQ 39.453125 6.390625 43.28125 13.890625 \r\nQ 47.125 21.390625 47.125 36.375 \r\nQ 47.125 51.421875 43.28125 58.90625 \r\nQ 39.453125 66.40625 31.78125 66.40625 \r\nz\r\nM 31.78125 74.21875 \r\nQ 44.046875 74.21875 50.515625 64.515625 \r\nQ 56.984375 54.828125 56.984375 36.375 \r\nQ 56.984375 17.96875 50.515625 8.265625 \r\nQ 44.046875 -1.421875 31.78125 -1.421875 \r\nQ 19.53125 -1.421875 13.0625 8.265625 \r\nQ 6.59375 17.96875 6.59375 36.375 \r\nQ 6.59375 54.828125 13.0625 64.515625 \r\nQ 19.53125 74.21875 31.78125 74.21875 \r\nz\r\n\" id=\"DejaVuSans-48\"/>\r\n      </defs>\r\n      <g transform=\"translate(48.502557 242.738437)scale(0.1 -0.1)\">\r\n       <use xlink:href=\"#DejaVuSans-48\"/>\r\n      </g>\r\n     </g>\r\n    </g>\r\n    <g id=\"xtick_2\">\r\n     <g id=\"line2d_2\">\r\n      <g>\r\n       <use style=\"stroke:#000000;stroke-width:0.8;\" x=\"113.798835\" xlink:href=\"#m8767551412\" y=\"228.14\"/>\r\n      </g>\r\n     </g>\r\n     <g id=\"text_2\">\r\n      <!-- 10 -->\r\n      <defs>\r\n       <path d=\"M 12.40625 8.296875 \r\nL 28.515625 8.296875 \r\nL 28.515625 63.921875 \r\nL 10.984375 60.40625 \r\nL 10.984375 69.390625 \r\nL 28.421875 72.90625 \r\nL 38.28125 72.90625 \r\nL 38.28125 8.296875 \r\nL 54.390625 8.296875 \r\nL 54.390625 0 \r\nL 12.40625 0 \r\nz\r\n\" id=\"DejaVuSans-49\"/>\r\n      </defs>\r\n      <g transform=\"translate(107.436335 242.738437)scale(0.1 -0.1)\">\r\n       <use xlink:href=\"#DejaVuSans-49\"/>\r\n       <use x=\"63.623047\" xlink:href=\"#DejaVuSans-48\"/>\r\n      </g>\r\n     </g>\r\n    </g>\r\n    <g id=\"xtick_3\">\r\n     <g id=\"line2d_3\">\r\n      <g>\r\n       <use style=\"stroke:#000000;stroke-width:0.8;\" x=\"175.913862\" xlink:href=\"#m8767551412\" y=\"228.14\"/>\r\n      </g>\r\n     </g>\r\n     <g id=\"text_3\">\r\n      <!-- 20 -->\r\n      <defs>\r\n       <path d=\"M 19.1875 8.296875 \r\nL 53.609375 8.296875 \r\nL 53.609375 0 \r\nL 7.328125 0 \r\nL 7.328125 8.296875 \r\nQ 12.9375 14.109375 22.625 23.890625 \r\nQ 32.328125 33.6875 34.8125 36.53125 \r\nQ 39.546875 41.84375 41.421875 45.53125 \r\nQ 43.3125 49.21875 43.3125 52.78125 \r\nQ 43.3125 58.59375 39.234375 62.25 \r\nQ 35.15625 65.921875 28.609375 65.921875 \r\nQ 23.96875 65.921875 18.8125 64.3125 \r\nQ 13.671875 62.703125 7.8125 59.421875 \r\nL 7.8125 69.390625 \r\nQ 13.765625 71.78125 18.9375 73 \r\nQ 24.125 74.21875 28.421875 74.21875 \r\nQ 39.75 74.21875 46.484375 68.546875 \r\nQ 53.21875 62.890625 53.21875 53.421875 \r\nQ 53.21875 48.921875 51.53125 44.890625 \r\nQ 49.859375 40.875 45.40625 35.40625 \r\nQ 44.1875 33.984375 37.640625 27.21875 \r\nQ 31.109375 20.453125 19.1875 8.296875 \r\nz\r\n\" id=\"DejaVuSans-50\"/>\r\n      </defs>\r\n      <g transform=\"translate(169.551362 242.738437)scale(0.1 -0.1)\">\r\n       <use xlink:href=\"#DejaVuSans-50\"/>\r\n       <use x=\"63.623047\" xlink:href=\"#DejaVuSans-48\"/>\r\n      </g>\r\n     </g>\r\n    </g>\r\n    <g id=\"xtick_4\">\r\n     <g id=\"line2d_4\">\r\n      <g>\r\n       <use style=\"stroke:#000000;stroke-width:0.8;\" x=\"238.02889\" xlink:href=\"#m8767551412\" y=\"228.14\"/>\r\n      </g>\r\n     </g>\r\n     <g id=\"text_4\">\r\n      <!-- 30 -->\r\n      <defs>\r\n       <path d=\"M 40.578125 39.3125 \r\nQ 47.65625 37.796875 51.625 33 \r\nQ 55.609375 28.21875 55.609375 21.1875 \r\nQ 55.609375 10.40625 48.1875 4.484375 \r\nQ 40.765625 -1.421875 27.09375 -1.421875 \r\nQ 22.515625 -1.421875 17.65625 -0.515625 \r\nQ 12.796875 0.390625 7.625 2.203125 \r\nL 7.625 11.71875 \r\nQ 11.71875 9.328125 16.59375 8.109375 \r\nQ 21.484375 6.890625 26.8125 6.890625 \r\nQ 36.078125 6.890625 40.9375 10.546875 \r\nQ 45.796875 14.203125 45.796875 21.1875 \r\nQ 45.796875 27.640625 41.28125 31.265625 \r\nQ 36.765625 34.90625 28.71875 34.90625 \r\nL 20.21875 34.90625 \r\nL 20.21875 43.015625 \r\nL 29.109375 43.015625 \r\nQ 36.375 43.015625 40.234375 45.921875 \r\nQ 44.09375 48.828125 44.09375 54.296875 \r\nQ 44.09375 59.90625 40.109375 62.90625 \r\nQ 36.140625 65.921875 28.71875 65.921875 \r\nQ 24.65625 65.921875 20.015625 65.03125 \r\nQ 15.375 64.15625 9.8125 62.3125 \r\nL 9.8125 71.09375 \r\nQ 15.4375 72.65625 20.34375 73.4375 \r\nQ 25.25 74.21875 29.59375 74.21875 \r\nQ 40.828125 74.21875 47.359375 69.109375 \r\nQ 53.90625 64.015625 53.90625 55.328125 \r\nQ 53.90625 49.265625 50.4375 45.09375 \r\nQ 46.96875 40.921875 40.578125 39.3125 \r\nz\r\n\" id=\"DejaVuSans-51\"/>\r\n      </defs>\r\n      <g transform=\"translate(231.66639 242.738437)scale(0.1 -0.1)\">\r\n       <use xlink:href=\"#DejaVuSans-51\"/>\r\n       <use x=\"63.623047\" xlink:href=\"#DejaVuSans-48\"/>\r\n      </g>\r\n     </g>\r\n    </g>\r\n    <g id=\"xtick_5\">\r\n     <g id=\"line2d_5\">\r\n      <g>\r\n       <use style=\"stroke:#000000;stroke-width:0.8;\" x=\"300.143918\" xlink:href=\"#m8767551412\" y=\"228.14\"/>\r\n      </g>\r\n     </g>\r\n     <g id=\"text_5\">\r\n      <!-- 40 -->\r\n      <defs>\r\n       <path d=\"M 37.796875 64.3125 \r\nL 12.890625 25.390625 \r\nL 37.796875 25.390625 \r\nz\r\nM 35.203125 72.90625 \r\nL 47.609375 72.90625 \r\nL 47.609375 25.390625 \r\nL 58.015625 25.390625 \r\nL 58.015625 17.1875 \r\nL 47.609375 17.1875 \r\nL 47.609375 0 \r\nL 37.796875 0 \r\nL 37.796875 17.1875 \r\nL 4.890625 17.1875 \r\nL 4.890625 26.703125 \r\nz\r\n\" id=\"DejaVuSans-52\"/>\r\n      </defs>\r\n      <g transform=\"translate(293.781418 242.738437)scale(0.1 -0.1)\">\r\n       <use xlink:href=\"#DejaVuSans-52\"/>\r\n       <use x=\"63.623047\" xlink:href=\"#DejaVuSans-48\"/>\r\n      </g>\r\n     </g>\r\n    </g>\r\n    <g id=\"xtick_6\">\r\n     <g id=\"line2d_6\">\r\n      <g>\r\n       <use style=\"stroke:#000000;stroke-width:0.8;\" x=\"362.258946\" xlink:href=\"#m8767551412\" y=\"228.14\"/>\r\n      </g>\r\n     </g>\r\n     <g id=\"text_6\">\r\n      <!-- 50 -->\r\n      <defs>\r\n       <path d=\"M 10.796875 72.90625 \r\nL 49.515625 72.90625 \r\nL 49.515625 64.59375 \r\nL 19.828125 64.59375 \r\nL 19.828125 46.734375 \r\nQ 21.96875 47.46875 24.109375 47.828125 \r\nQ 26.265625 48.1875 28.421875 48.1875 \r\nQ 40.625 48.1875 47.75 41.5 \r\nQ 54.890625 34.8125 54.890625 23.390625 \r\nQ 54.890625 11.625 47.5625 5.09375 \r\nQ 40.234375 -1.421875 26.90625 -1.421875 \r\nQ 22.3125 -1.421875 17.546875 -0.640625 \r\nQ 12.796875 0.140625 7.71875 1.703125 \r\nL 7.71875 11.625 \r\nQ 12.109375 9.234375 16.796875 8.0625 \r\nQ 21.484375 6.890625 26.703125 6.890625 \r\nQ 35.15625 6.890625 40.078125 11.328125 \r\nQ 45.015625 15.765625 45.015625 23.390625 \r\nQ 45.015625 31 40.078125 35.4375 \r\nQ 35.15625 39.890625 26.703125 39.890625 \r\nQ 22.75 39.890625 18.8125 39.015625 \r\nQ 14.890625 38.140625 10.796875 36.28125 \r\nz\r\n\" id=\"DejaVuSans-53\"/>\r\n      </defs>\r\n      <g transform=\"translate(355.896446 242.738437)scale(0.1 -0.1)\">\r\n       <use xlink:href=\"#DejaVuSans-53\"/>\r\n       <use x=\"63.623047\" xlink:href=\"#DejaVuSans-48\"/>\r\n      </g>\r\n     </g>\r\n    </g>\r\n   </g>\r\n   <g id=\"matplotlib.axis_2\">\r\n    <g id=\"ytick_1\">\r\n     <g id=\"line2d_7\">\r\n      <defs>\r\n       <path d=\"M 0 0 \r\nL -3.5 0 \r\n\" id=\"me0f676905e\" style=\"stroke:#000000;stroke-width:0.8;\"/>\r\n      </defs>\r\n      <g>\r\n       <use style=\"stroke:#000000;stroke-width:0.8;\" x=\"36.465625\" xlink:href=\"#me0f676905e\" y=\"204.745794\"/>\r\n      </g>\r\n     </g>\r\n     <g id=\"text_7\">\r\n      <!-- 0.50 -->\r\n      <defs>\r\n       <path d=\"M 10.6875 12.40625 \r\nL 21 12.40625 \r\nL 21 0 \r\nL 10.6875 0 \r\nz\r\n\" id=\"DejaVuSans-46\"/>\r\n      </defs>\r\n      <g transform=\"translate(7.2 208.545012)scale(0.1 -0.1)\">\r\n       <use xlink:href=\"#DejaVuSans-48\"/>\r\n       <use x=\"63.623047\" xlink:href=\"#DejaVuSans-46\"/>\r\n       <use x=\"95.410156\" xlink:href=\"#DejaVuSans-53\"/>\r\n       <use x=\"159.033203\" xlink:href=\"#DejaVuSans-48\"/>\r\n      </g>\r\n     </g>\r\n    </g>\r\n    <g id=\"ytick_2\">\r\n     <g id=\"line2d_8\">\r\n      <g>\r\n       <use style=\"stroke:#000000;stroke-width:0.8;\" x=\"36.465625\" xlink:href=\"#me0f676905e\" y=\"165.23409\"/>\r\n      </g>\r\n     </g>\r\n     <g id=\"text_8\">\r\n      <!-- 0.52 -->\r\n      <g transform=\"translate(7.2 169.033309)scale(0.1 -0.1)\">\r\n       <use xlink:href=\"#DejaVuSans-48\"/>\r\n       <use x=\"63.623047\" xlink:href=\"#DejaVuSans-46\"/>\r\n       <use x=\"95.410156\" xlink:href=\"#DejaVuSans-53\"/>\r\n       <use x=\"159.033203\" xlink:href=\"#DejaVuSans-50\"/>\r\n      </g>\r\n     </g>\r\n    </g>\r\n    <g id=\"ytick_3\">\r\n     <g id=\"line2d_9\">\r\n      <g>\r\n       <use style=\"stroke:#000000;stroke-width:0.8;\" x=\"36.465625\" xlink:href=\"#me0f676905e\" y=\"125.722386\"/>\r\n      </g>\r\n     </g>\r\n     <g id=\"text_9\">\r\n      <!-- 0.54 -->\r\n      <g transform=\"translate(7.2 129.521605)scale(0.1 -0.1)\">\r\n       <use xlink:href=\"#DejaVuSans-48\"/>\r\n       <use x=\"63.623047\" xlink:href=\"#DejaVuSans-46\"/>\r\n       <use x=\"95.410156\" xlink:href=\"#DejaVuSans-53\"/>\r\n       <use x=\"159.033203\" xlink:href=\"#DejaVuSans-52\"/>\r\n      </g>\r\n     </g>\r\n    </g>\r\n    <g id=\"ytick_4\">\r\n     <g id=\"line2d_10\">\r\n      <g>\r\n       <use style=\"stroke:#000000;stroke-width:0.8;\" x=\"36.465625\" xlink:href=\"#me0f676905e\" y=\"86.210683\"/>\r\n      </g>\r\n     </g>\r\n     <g id=\"text_10\">\r\n      <!-- 0.56 -->\r\n      <defs>\r\n       <path d=\"M 33.015625 40.375 \r\nQ 26.375 40.375 22.484375 35.828125 \r\nQ 18.609375 31.296875 18.609375 23.390625 \r\nQ 18.609375 15.53125 22.484375 10.953125 \r\nQ 26.375 6.390625 33.015625 6.390625 \r\nQ 39.65625 6.390625 43.53125 10.953125 \r\nQ 47.40625 15.53125 47.40625 23.390625 \r\nQ 47.40625 31.296875 43.53125 35.828125 \r\nQ 39.65625 40.375 33.015625 40.375 \r\nz\r\nM 52.59375 71.296875 \r\nL 52.59375 62.3125 \r\nQ 48.875 64.0625 45.09375 64.984375 \r\nQ 41.3125 65.921875 37.59375 65.921875 \r\nQ 27.828125 65.921875 22.671875 59.328125 \r\nQ 17.53125 52.734375 16.796875 39.40625 \r\nQ 19.671875 43.65625 24.015625 45.921875 \r\nQ 28.375 48.1875 33.59375 48.1875 \r\nQ 44.578125 48.1875 50.953125 41.515625 \r\nQ 57.328125 34.859375 57.328125 23.390625 \r\nQ 57.328125 12.15625 50.6875 5.359375 \r\nQ 44.046875 -1.421875 33.015625 -1.421875 \r\nQ 20.359375 -1.421875 13.671875 8.265625 \r\nQ 6.984375 17.96875 6.984375 36.375 \r\nQ 6.984375 53.65625 15.1875 63.9375 \r\nQ 23.390625 74.21875 37.203125 74.21875 \r\nQ 40.921875 74.21875 44.703125 73.484375 \r\nQ 48.484375 72.75 52.59375 71.296875 \r\nz\r\n\" id=\"DejaVuSans-54\"/>\r\n      </defs>\r\n      <g transform=\"translate(7.2 90.009902)scale(0.1 -0.1)\">\r\n       <use xlink:href=\"#DejaVuSans-48\"/>\r\n       <use x=\"63.623047\" xlink:href=\"#DejaVuSans-46\"/>\r\n       <use x=\"95.410156\" xlink:href=\"#DejaVuSans-53\"/>\r\n       <use x=\"159.033203\" xlink:href=\"#DejaVuSans-54\"/>\r\n      </g>\r\n     </g>\r\n    </g>\r\n    <g id=\"ytick_5\">\r\n     <g id=\"line2d_11\">\r\n      <g>\r\n       <use style=\"stroke:#000000;stroke-width:0.8;\" x=\"36.465625\" xlink:href=\"#me0f676905e\" y=\"46.698979\"/>\r\n      </g>\r\n     </g>\r\n     <g id=\"text_11\">\r\n      <!-- 0.58 -->\r\n      <defs>\r\n       <path d=\"M 31.78125 34.625 \r\nQ 24.75 34.625 20.71875 30.859375 \r\nQ 16.703125 27.09375 16.703125 20.515625 \r\nQ 16.703125 13.921875 20.71875 10.15625 \r\nQ 24.75 6.390625 31.78125 6.390625 \r\nQ 38.8125 6.390625 42.859375 10.171875 \r\nQ 46.921875 13.96875 46.921875 20.515625 \r\nQ 46.921875 27.09375 42.890625 30.859375 \r\nQ 38.875 34.625 31.78125 34.625 \r\nz\r\nM 21.921875 38.8125 \r\nQ 15.578125 40.375 12.03125 44.71875 \r\nQ 8.5 49.078125 8.5 55.328125 \r\nQ 8.5 64.0625 14.71875 69.140625 \r\nQ 20.953125 74.21875 31.78125 74.21875 \r\nQ 42.671875 74.21875 48.875 69.140625 \r\nQ 55.078125 64.0625 55.078125 55.328125 \r\nQ 55.078125 49.078125 51.53125 44.71875 \r\nQ 48 40.375 41.703125 38.8125 \r\nQ 48.828125 37.15625 52.796875 32.3125 \r\nQ 56.78125 27.484375 56.78125 20.515625 \r\nQ 56.78125 9.90625 50.3125 4.234375 \r\nQ 43.84375 -1.421875 31.78125 -1.421875 \r\nQ 19.734375 -1.421875 13.25 4.234375 \r\nQ 6.78125 9.90625 6.78125 20.515625 \r\nQ 6.78125 27.484375 10.78125 32.3125 \r\nQ 14.796875 37.15625 21.921875 38.8125 \r\nz\r\nM 18.3125 54.390625 \r\nQ 18.3125 48.734375 21.84375 45.5625 \r\nQ 25.390625 42.390625 31.78125 42.390625 \r\nQ 38.140625 42.390625 41.71875 45.5625 \r\nQ 45.3125 48.734375 45.3125 54.390625 \r\nQ 45.3125 60.0625 41.71875 63.234375 \r\nQ 38.140625 66.40625 31.78125 66.40625 \r\nQ 25.390625 66.40625 21.84375 63.234375 \r\nQ 18.3125 60.0625 18.3125 54.390625 \r\nz\r\n\" id=\"DejaVuSans-56\"/>\r\n      </defs>\r\n      <g transform=\"translate(7.2 50.498198)scale(0.1 -0.1)\">\r\n       <use xlink:href=\"#DejaVuSans-48\"/>\r\n       <use x=\"63.623047\" xlink:href=\"#DejaVuSans-46\"/>\r\n       <use x=\"95.410156\" xlink:href=\"#DejaVuSans-53\"/>\r\n       <use x=\"159.033203\" xlink:href=\"#DejaVuSans-56\"/>\r\n      </g>\r\n     </g>\r\n    </g>\r\n   </g>\r\n   <g id=\"line2d_12\">\r\n    <path clip-path=\"url(#pc05581fc73)\" d=\"M 51.683807 100.950542 \r\nL 57.89531 99.002065 \r\nL 64.106812 99.952694 \r\nL 70.318315 100.369897 \r\nL 76.529818 97.776246 \r\nL 82.741321 95.836483 \r\nL 88.952824 94.331115 \r\nL 95.164326 89.995529 \r\nL 101.375829 88.610506 \r\nL 107.587332 86.907311 \r\nL 113.798835 83.956748 \r\nL 120.010337 81.758869 \r\nL 126.22184 79.720075 \r\nL 132.433343 78.614718 \r\nL 138.644846 75.947942 \r\nL 144.856349 74.967286 \r\nL 151.067851 73.801756 \r\nL 157.279354 70.962941 \r\nL 163.490857 67.866128 \r\nL 169.70236 66.610163 \r\nL 175.913862 65.780115 \r\nL 182.125365 62.511144 \r\nL 188.336868 60.420892 \r\nL 194.548371 58.136935 \r\nL 200.759874 55.491708 \r\nL 206.971376 54.962639 \r\nL 213.182879 52.640058 \r\nL 219.394382 51.082996 \r\nL 225.605885 49.126041 \r\nL 231.817388 46.940997 \r\nL 238.02889 44.596867 \r\nL 244.240393 44.588271 \r\nL 250.451896 43.444173 \r\nL 256.663399 40.13234 \r\nL 262.874901 40.704389 \r\nL 269.086404 38.691501 \r\nL 275.297907 37.117247 \r\nL 281.50941 36.338775 \r\nL 287.720913 35.160175 \r\nL 293.932415 31.039725 \r\nL 300.143918 31.340822 \r\nL 306.355421 29.689204 \r\nL 312.566924 28.493412 \r\nL 318.778426 28.291228 \r\nL 324.989929 26.093348 \r\nL 331.201432 23.555749 \r\nL 337.412935 24.867529 \r\nL 343.624438 22.407293 \r\nL 349.83594 22.235255 \r\nL 356.047443 20.583636 \r\n\" style=\"fill:none;stroke:#1f77b4;stroke-linecap:square;stroke-width:1.5;\"/>\r\n   </g>\r\n   <g id=\"line2d_13\">\r\n    <path clip-path=\"url(#pc05581fc73)\" d=\"M 51.683807 145.428603 \r\nL 57.89531 218.256364 \r\nL 64.106812 91.344637 \r\nL 70.318315 123.630326 \r\nL 76.529818 58.496084 \r\nL 82.741321 141.717348 \r\nL 88.952824 109.317085 \r\nL 95.164326 92.397594 \r\nL 101.375829 95.326961 \r\nL 107.587332 130.542017 \r\nL 113.798835 104.594676 \r\nL 120.010337 160.992862 \r\nL 126.22184 173.627754 \r\nL 132.433343 90.698403 \r\nL 138.644846 145.77268 \r\nL 144.856349 104.010852 \r\nL 151.067851 201.566199 \r\nL 157.279354 151.443715 \r\nL 163.490857 109.692367 \r\nL 169.70236 114.8109 \r\nL 175.913862 100.643675 \r\nL 182.125365 185.553767 \r\nL 188.336868 173.638117 \r\nL 194.548371 122.358464 \r\nL 200.759874 149.608989 \r\nL 206.971376 113.288929 \r\nL 213.182879 146.575292 \r\nL 219.394382 134.305319 \r\nL 225.605885 107.669941 \r\nL 231.817388 132.626971 \r\nL 238.02889 140.310069 \r\nL 244.240393 147.002739 \r\nL 250.451896 198.011322 \r\nL 256.663399 148.941795 \r\nL 262.874901 148.764575 \r\nL 269.086404 133.59644 \r\nL 275.297907 105.668358 \r\nL 281.50941 175.28526 \r\nL 287.720913 130.56286 \r\nL 293.932415 157.114868 \r\nL 300.143918 155.446882 \r\nL 306.355421 147.451028 \r\nL 312.566924 170.656702 \r\nL 318.778426 154.393925 \r\nL 324.989929 143.666766 \r\nL 331.201432 151.151803 \r\nL 337.412935 155.15497 \r\nL 343.624438 125.162777 \r\nL 349.83594 134.878664 \r\nL 356.047443 134.764089 \r\n\" style=\"fill:none;stroke:#ff7f0e;stroke-linecap:square;stroke-width:1.5;\"/>\r\n   </g>\r\n   <g id=\"patch_3\">\r\n    <path d=\"M 36.465625 228.14 \r\nL 36.465625 10.7 \r\n\" style=\"fill:none;stroke:#000000;stroke-linecap:square;stroke-linejoin:miter;stroke-width:0.8;\"/>\r\n   </g>\r\n   <g id=\"patch_4\">\r\n    <path d=\"M 371.265625 228.14 \r\nL 371.265625 10.7 \r\n\" style=\"fill:none;stroke:#000000;stroke-linecap:square;stroke-linejoin:miter;stroke-width:0.8;\"/>\r\n   </g>\r\n   <g id=\"patch_5\">\r\n    <path d=\"M 36.465625 228.14 \r\nL 371.265625 228.14 \r\n\" style=\"fill:none;stroke:#000000;stroke-linecap:square;stroke-linejoin:miter;stroke-width:0.8;\"/>\r\n   </g>\r\n   <g id=\"patch_6\">\r\n    <path d=\"M 36.465625 10.7 \r\nL 371.265625 10.7 \r\n\" style=\"fill:none;stroke:#000000;stroke-linecap:square;stroke-linejoin:miter;stroke-width:0.8;\"/>\r\n   </g>\r\n   <g id=\"legend_1\">\r\n    <g id=\"patch_7\">\r\n     <path d=\"M 43.465625 48.05625 \r\nL 119.04375 48.05625 \r\nQ 121.04375 48.05625 121.04375 46.05625 \r\nL 121.04375 17.7 \r\nQ 121.04375 15.7 119.04375 15.7 \r\nL 43.465625 15.7 \r\nQ 41.465625 15.7 41.465625 17.7 \r\nL 41.465625 46.05625 \r\nQ 41.465625 48.05625 43.465625 48.05625 \r\nz\r\n\" style=\"fill:#ffffff;opacity:0.8;stroke:#cccccc;stroke-linejoin:miter;\"/>\r\n    </g>\r\n    <g id=\"line2d_14\">\r\n     <path d=\"M 45.465625 23.798437 \r\nL 65.465625 23.798437 \r\n\" style=\"fill:none;stroke:#1f77b4;stroke-linecap:square;stroke-width:1.5;\"/>\r\n    </g>\r\n    <g id=\"line2d_15\"/>\r\n    <g id=\"text_12\">\r\n     <!-- train acc -->\r\n     <defs>\r\n      <path d=\"M 18.3125 70.21875 \r\nL 18.3125 54.6875 \r\nL 36.8125 54.6875 \r\nL 36.8125 47.703125 \r\nL 18.3125 47.703125 \r\nL 18.3125 18.015625 \r\nQ 18.3125 11.328125 20.140625 9.421875 \r\nQ 21.96875 7.515625 27.59375 7.515625 \r\nL 36.8125 7.515625 \r\nL 36.8125 0 \r\nL 27.59375 0 \r\nQ 17.1875 0 13.234375 3.875 \r\nQ 9.28125 7.765625 9.28125 18.015625 \r\nL 9.28125 47.703125 \r\nL 2.6875 47.703125 \r\nL 2.6875 54.6875 \r\nL 9.28125 54.6875 \r\nL 9.28125 70.21875 \r\nz\r\n\" id=\"DejaVuSans-116\"/>\r\n      <path d=\"M 41.109375 46.296875 \r\nQ 39.59375 47.171875 37.8125 47.578125 \r\nQ 36.03125 48 33.890625 48 \r\nQ 26.265625 48 22.1875 43.046875 \r\nQ 18.109375 38.09375 18.109375 28.8125 \r\nL 18.109375 0 \r\nL 9.078125 0 \r\nL 9.078125 54.6875 \r\nL 18.109375 54.6875 \r\nL 18.109375 46.1875 \r\nQ 20.953125 51.171875 25.484375 53.578125 \r\nQ 30.03125 56 36.53125 56 \r\nQ 37.453125 56 38.578125 55.875 \r\nQ 39.703125 55.765625 41.0625 55.515625 \r\nz\r\n\" id=\"DejaVuSans-114\"/>\r\n      <path d=\"M 34.28125 27.484375 \r\nQ 23.390625 27.484375 19.1875 25 \r\nQ 14.984375 22.515625 14.984375 16.5 \r\nQ 14.984375 11.71875 18.140625 8.90625 \r\nQ 21.296875 6.109375 26.703125 6.109375 \r\nQ 34.1875 6.109375 38.703125 11.40625 \r\nQ 43.21875 16.703125 43.21875 25.484375 \r\nL 43.21875 27.484375 \r\nz\r\nM 52.203125 31.203125 \r\nL 52.203125 0 \r\nL 43.21875 0 \r\nL 43.21875 8.296875 \r\nQ 40.140625 3.328125 35.546875 0.953125 \r\nQ 30.953125 -1.421875 24.3125 -1.421875 \r\nQ 15.921875 -1.421875 10.953125 3.296875 \r\nQ 6 8.015625 6 15.921875 \r\nQ 6 25.140625 12.171875 29.828125 \r\nQ 18.359375 34.515625 30.609375 34.515625 \r\nL 43.21875 34.515625 \r\nL 43.21875 35.40625 \r\nQ 43.21875 41.609375 39.140625 45 \r\nQ 35.0625 48.390625 27.6875 48.390625 \r\nQ 23 48.390625 18.546875 47.265625 \r\nQ 14.109375 46.140625 10.015625 43.890625 \r\nL 10.015625 52.203125 \r\nQ 14.9375 54.109375 19.578125 55.046875 \r\nQ 24.21875 56 28.609375 56 \r\nQ 40.484375 56 46.34375 49.84375 \r\nQ 52.203125 43.703125 52.203125 31.203125 \r\nz\r\n\" id=\"DejaVuSans-97\"/>\r\n      <path d=\"M 9.421875 54.6875 \r\nL 18.40625 54.6875 \r\nL 18.40625 0 \r\nL 9.421875 0 \r\nz\r\nM 9.421875 75.984375 \r\nL 18.40625 75.984375 \r\nL 18.40625 64.59375 \r\nL 9.421875 64.59375 \r\nz\r\n\" id=\"DejaVuSans-105\"/>\r\n      <path d=\"M 54.890625 33.015625 \r\nL 54.890625 0 \r\nL 45.90625 0 \r\nL 45.90625 32.71875 \r\nQ 45.90625 40.484375 42.875 44.328125 \r\nQ 39.84375 48.1875 33.796875 48.1875 \r\nQ 26.515625 48.1875 22.3125 43.546875 \r\nQ 18.109375 38.921875 18.109375 30.90625 \r\nL 18.109375 0 \r\nL 9.078125 0 \r\nL 9.078125 54.6875 \r\nL 18.109375 54.6875 \r\nL 18.109375 46.1875 \r\nQ 21.34375 51.125 25.703125 53.5625 \r\nQ 30.078125 56 35.796875 56 \r\nQ 45.21875 56 50.046875 50.171875 \r\nQ 54.890625 44.34375 54.890625 33.015625 \r\nz\r\n\" id=\"DejaVuSans-110\"/>\r\n      <path id=\"DejaVuSans-32\"/>\r\n      <path d=\"M 48.78125 52.59375 \r\nL 48.78125 44.1875 \r\nQ 44.96875 46.296875 41.140625 47.34375 \r\nQ 37.3125 48.390625 33.40625 48.390625 \r\nQ 24.65625 48.390625 19.8125 42.84375 \r\nQ 14.984375 37.3125 14.984375 27.296875 \r\nQ 14.984375 17.28125 19.8125 11.734375 \r\nQ 24.65625 6.203125 33.40625 6.203125 \r\nQ 37.3125 6.203125 41.140625 7.25 \r\nQ 44.96875 8.296875 48.78125 10.40625 \r\nL 48.78125 2.09375 \r\nQ 45.015625 0.34375 40.984375 -0.53125 \r\nQ 36.96875 -1.421875 32.421875 -1.421875 \r\nQ 20.0625 -1.421875 12.78125 6.34375 \r\nQ 5.515625 14.109375 5.515625 27.296875 \r\nQ 5.515625 40.671875 12.859375 48.328125 \r\nQ 20.21875 56 33.015625 56 \r\nQ 37.15625 56 41.109375 55.140625 \r\nQ 45.0625 54.296875 48.78125 52.59375 \r\nz\r\n\" id=\"DejaVuSans-99\"/>\r\n     </defs>\r\n     <g transform=\"translate(73.465625 27.298437)scale(0.1 -0.1)\">\r\n      <use xlink:href=\"#DejaVuSans-116\"/>\r\n      <use x=\"39.208984\" xlink:href=\"#DejaVuSans-114\"/>\r\n      <use x=\"80.322266\" xlink:href=\"#DejaVuSans-97\"/>\r\n      <use x=\"141.601562\" xlink:href=\"#DejaVuSans-105\"/>\r\n      <use x=\"169.384766\" xlink:href=\"#DejaVuSans-110\"/>\r\n      <use x=\"232.763672\" xlink:href=\"#DejaVuSans-32\"/>\r\n      <use x=\"264.550781\" xlink:href=\"#DejaVuSans-97\"/>\r\n      <use x=\"325.830078\" xlink:href=\"#DejaVuSans-99\"/>\r\n      <use x=\"380.810547\" xlink:href=\"#DejaVuSans-99\"/>\r\n     </g>\r\n    </g>\r\n    <g id=\"line2d_16\">\r\n     <path d=\"M 45.465625 38.476562 \r\nL 65.465625 38.476562 \r\n\" style=\"fill:none;stroke:#ff7f0e;stroke-linecap:square;stroke-width:1.5;\"/>\r\n    </g>\r\n    <g id=\"line2d_17\"/>\r\n    <g id=\"text_13\">\r\n     <!-- test acc -->\r\n     <defs>\r\n      <path d=\"M 56.203125 29.59375 \r\nL 56.203125 25.203125 \r\nL 14.890625 25.203125 \r\nQ 15.484375 15.921875 20.484375 11.0625 \r\nQ 25.484375 6.203125 34.421875 6.203125 \r\nQ 39.59375 6.203125 44.453125 7.46875 \r\nQ 49.3125 8.734375 54.109375 11.28125 \r\nL 54.109375 2.78125 \r\nQ 49.265625 0.734375 44.1875 -0.34375 \r\nQ 39.109375 -1.421875 33.890625 -1.421875 \r\nQ 20.796875 -1.421875 13.15625 6.1875 \r\nQ 5.515625 13.8125 5.515625 26.8125 \r\nQ 5.515625 40.234375 12.765625 48.109375 \r\nQ 20.015625 56 32.328125 56 \r\nQ 43.359375 56 49.78125 48.890625 \r\nQ 56.203125 41.796875 56.203125 29.59375 \r\nz\r\nM 47.21875 32.234375 \r\nQ 47.125 39.59375 43.09375 43.984375 \r\nQ 39.0625 48.390625 32.421875 48.390625 \r\nQ 24.90625 48.390625 20.390625 44.140625 \r\nQ 15.875 39.890625 15.1875 32.171875 \r\nz\r\n\" id=\"DejaVuSans-101\"/>\r\n      <path d=\"M 44.28125 53.078125 \r\nL 44.28125 44.578125 \r\nQ 40.484375 46.53125 36.375 47.5 \r\nQ 32.28125 48.484375 27.875 48.484375 \r\nQ 21.1875 48.484375 17.84375 46.4375 \r\nQ 14.5 44.390625 14.5 40.28125 \r\nQ 14.5 37.15625 16.890625 35.375 \r\nQ 19.28125 33.59375 26.515625 31.984375 \r\nL 29.59375 31.296875 \r\nQ 39.15625 29.25 43.1875 25.515625 \r\nQ 47.21875 21.78125 47.21875 15.09375 \r\nQ 47.21875 7.46875 41.1875 3.015625 \r\nQ 35.15625 -1.421875 24.609375 -1.421875 \r\nQ 20.21875 -1.421875 15.453125 -0.5625 \r\nQ 10.6875 0.296875 5.421875 2 \r\nL 5.421875 11.28125 \r\nQ 10.40625 8.6875 15.234375 7.390625 \r\nQ 20.0625 6.109375 24.8125 6.109375 \r\nQ 31.15625 6.109375 34.5625 8.28125 \r\nQ 37.984375 10.453125 37.984375 14.40625 \r\nQ 37.984375 18.0625 35.515625 20.015625 \r\nQ 33.0625 21.96875 24.703125 23.78125 \r\nL 21.578125 24.515625 \r\nQ 13.234375 26.265625 9.515625 29.90625 \r\nQ 5.8125 33.546875 5.8125 39.890625 \r\nQ 5.8125 47.609375 11.28125 51.796875 \r\nQ 16.75 56 26.8125 56 \r\nQ 31.78125 56 36.171875 55.265625 \r\nQ 40.578125 54.546875 44.28125 53.078125 \r\nz\r\n\" id=\"DejaVuSans-115\"/>\r\n     </defs>\r\n     <g transform=\"translate(73.465625 41.976562)scale(0.1 -0.1)\">\r\n      <use xlink:href=\"#DejaVuSans-116\"/>\r\n      <use x=\"39.208984\" xlink:href=\"#DejaVuSans-101\"/>\r\n      <use x=\"100.732422\" xlink:href=\"#DejaVuSans-115\"/>\r\n      <use x=\"152.832031\" xlink:href=\"#DejaVuSans-116\"/>\r\n      <use x=\"192.041016\" xlink:href=\"#DejaVuSans-32\"/>\r\n      <use x=\"223.828125\" xlink:href=\"#DejaVuSans-97\"/>\r\n      <use x=\"285.107422\" xlink:href=\"#DejaVuSans-99\"/>\r\n      <use x=\"340.087891\" xlink:href=\"#DejaVuSans-99\"/>\r\n     </g>\r\n    </g>\r\n   </g>\r\n  </g>\r\n </g>\r\n <defs>\r\n  <clipPath id=\"pc05581fc73\">\r\n   <rect height=\"217.44\" width=\"334.8\" x=\"36.465625\" y=\"10.7\"/>\r\n  </clipPath>\r\n </defs>\r\n</svg>\r\n",
            "image/png": "[encoded data removed]"
          },
          "metadata": {
            "needs_background": "light"
          }
        }
      ]
    },
    {
      "cell_type": "markdown",
      "metadata": {
        "id": "UyYUo6FWzfLP"
      },
      "source": [
        "The same phenomenon happens with the LSTM model as with the linear model."
      ]
    },
    {
      "cell_type": "markdown",
      "metadata": {
        "id": "KeQ8DIHHzfLP"
      },
      "source": [
        "## Different parameters"
      ]
    },
    {
      "cell_type": "code",
      "metadata": {
        "colab": {
          "base_uri": "https://localhost:8080/",
          "height": 0
        },
        "id": "bPyct9BczfLP",
        "outputId": "8eaefbe1-e48d-4bdf-ac33-1cdfe33d92e2"
      },
      "source": [
        "SEQ_LEN = 30\n",
        "N_FUTURE = 10\n",
        "(X_train, y_train), (X_test, y_test) = processData(data, SEQ_LEN, N_FUTURE)\n",
        "\n",
        "model2 = models.Sequential([\n",
        "    layers.Input(shape=(SEQ_LEN,)),\n",
        "    layers.Reshape((SEQ_LEN, 1)),\n",
        "    layers.LSTM(64, return_sequences=True),\n",
        "    layers.LSTM(64),\n",
        "    layers.Dropout(0.2),\n",
        "    layers.Dense(10, activation='relu'),\n",
        "    layers.Dense(1, activation='sigmoid')\n",
        "])\n",
        "model2.compile(optimizer='adam', loss='binary_crossentropy', metrics=['acc'])\n",
        "log2_1 = model2.fit(X_train, y_train, validation_data=(X_test, y_test), epochs=50, batch_size=128)"
      ],
      "execution_count": 40,
      "outputs": [
        {
          "output_type": "stream",
          "name": "stdout",
          "text": [
            "Epoch 1/50\n",
            "3501/3501 [==============================] - 61s 17ms/step - loss: 0.6852 - acc: 0.5515 - val_loss: 0.6864 - val_acc: 0.5517\n",
            "Epoch 2/50\n",
            "3501/3501 [==============================] - 58s 17ms/step - loss: 0.6824 - acc: 0.5562 - val_loss: 0.6961 - val_acc: 0.4986\n",
            "Epoch 3/50\n",
            "3501/3501 [==============================] - 59s 17ms/step - loss: 0.6788 - acc: 0.5582 - val_loss: 0.6988 - val_acc: 0.5042\n",
            "Epoch 4/50\n",
            "3501/3501 [==============================] - 58s 16ms/step - loss: 0.6766 - acc: 0.5616 - val_loss: 0.6923 - val_acc: 0.5384\n",
            "Epoch 5/50\n",
            "3501/3501 [==============================] - 58s 17ms/step - loss: 0.6730 - acc: 0.5692 - val_loss: 0.6972 - val_acc: 0.5280\n",
            "Epoch 6/50\n",
            "3501/3501 [==============================] - 58s 17ms/step - loss: 0.6698 - acc: 0.5741 - val_loss: 0.6959 - val_acc: 0.5182\n",
            "Epoch 7/50\n",
            "3501/3501 [==============================] - 58s 17ms/step - loss: 0.6681 - acc: 0.5769 - val_loss: 0.6950 - val_acc: 0.5235\n",
            "Epoch 8/50\n",
            "3501/3501 [==============================] - 58s 17ms/step - loss: 0.6654 - acc: 0.5798 - val_loss: 0.6974 - val_acc: 0.5296\n",
            "Epoch 9/50\n",
            "3501/3501 [==============================] - 57s 16ms/step - loss: 0.6623 - acc: 0.5831 - val_loss: 0.7009 - val_acc: 0.5343\n",
            "Epoch 10/50\n",
            "3501/3501 [==============================] - 58s 17ms/step - loss: 0.6602 - acc: 0.5863 - val_loss: 0.6975 - val_acc: 0.5308\n",
            "Epoch 11/50\n",
            "3501/3501 [==============================] - 57s 16ms/step - loss: 0.6562 - acc: 0.5899 - val_loss: 0.6982 - val_acc: 0.5343\n",
            "Epoch 12/50\n",
            "3501/3501 [==============================] - 57s 16ms/step - loss: 0.6526 - acc: 0.5949 - val_loss: 0.7065 - val_acc: 0.5264\n",
            "Epoch 13/50\n",
            "3501/3501 [==============================] - 58s 17ms/step - loss: 0.6480 - acc: 0.6010 - val_loss: 0.7088 - val_acc: 0.5310\n",
            "Epoch 14/50\n",
            "3501/3501 [==============================] - 58s 17ms/step - loss: 0.6442 - acc: 0.6035 - val_loss: 0.7142 - val_acc: 0.5032\n",
            "Epoch 15/50\n",
            "3501/3501 [==============================] - 58s 17ms/step - loss: 0.6408 - acc: 0.6100 - val_loss: 0.7094 - val_acc: 0.5307\n",
            "Epoch 16/50\n",
            "3501/3501 [==============================] - 58s 17ms/step - loss: 0.6355 - acc: 0.6167 - val_loss: 0.7165 - val_acc: 0.5328\n",
            "Epoch 17/50\n",
            "3501/3501 [==============================] - 58s 16ms/step - loss: 0.6322 - acc: 0.6183 - val_loss: 0.7032 - val_acc: 0.5400\n",
            "Epoch 18/50\n",
            "3501/3501 [==============================] - 58s 16ms/step - loss: 0.6287 - acc: 0.6245 - val_loss: 0.7157 - val_acc: 0.5314\n",
            "Epoch 19/50\n",
            "3501/3501 [==============================] - 57s 16ms/step - loss: 0.6247 - acc: 0.6282 - val_loss: 0.7209 - val_acc: 0.5204\n",
            "Epoch 20/50\n",
            "3501/3501 [==============================] - 58s 17ms/step - loss: 0.6202 - acc: 0.6324 - val_loss: 0.7267 - val_acc: 0.5220\n",
            "Epoch 21/50\n",
            "3501/3501 [==============================] - 58s 16ms/step - loss: 0.6155 - acc: 0.6375 - val_loss: 0.7368 - val_acc: 0.5132\n",
            "Epoch 22/50\n",
            "3501/3501 [==============================] - 57s 16ms/step - loss: 0.6106 - acc: 0.6426 - val_loss: 0.7370 - val_acc: 0.5198\n",
            "Epoch 23/50\n",
            "3501/3501 [==============================] - 57s 16ms/step - loss: 0.6079 - acc: 0.6459 - val_loss: 0.7391 - val_acc: 0.5233\n",
            "Epoch 24/50\n",
            "3501/3501 [==============================] - 58s 17ms/step - loss: 0.6036 - acc: 0.6500 - val_loss: 0.7602 - val_acc: 0.5163\n",
            "Epoch 25/50\n",
            "3501/3501 [==============================] - 58s 16ms/step - loss: 0.6012 - acc: 0.6531 - val_loss: 0.7345 - val_acc: 0.5144\n",
            "Epoch 26/50\n",
            "3501/3501 [==============================] - 58s 17ms/step - loss: 0.5969 - acc: 0.6577 - val_loss: 0.7457 - val_acc: 0.5232\n",
            "Epoch 27/50\n",
            "3501/3501 [==============================] - 58s 17ms/step - loss: 0.5921 - acc: 0.6626 - val_loss: 0.7614 - val_acc: 0.5126\n",
            "Epoch 28/50\n",
            "3501/3501 [==============================] - 57s 16ms/step - loss: 0.5896 - acc: 0.6651 - val_loss: 0.7591 - val_acc: 0.5209\n",
            "Epoch 29/50\n",
            "3501/3501 [==============================] - 57s 16ms/step - loss: 0.5862 - acc: 0.6680 - val_loss: 0.7548 - val_acc: 0.5226\n",
            "Epoch 30/50\n",
            "3501/3501 [==============================] - 57s 16ms/step - loss: 0.5824 - acc: 0.6713 - val_loss: 0.7613 - val_acc: 0.5292\n",
            "Epoch 31/50\n",
            "3501/3501 [==============================] - 58s 17ms/step - loss: 0.5803 - acc: 0.6732 - val_loss: 0.7662 - val_acc: 0.5255\n",
            "Epoch 32/50\n",
            "3501/3501 [==============================] - 57s 16ms/step - loss: 0.5768 - acc: 0.6770 - val_loss: 0.7992 - val_acc: 0.5118\n",
            "Epoch 33/50\n",
            "3501/3501 [==============================] - 58s 17ms/step - loss: 0.5728 - acc: 0.6821 - val_loss: 0.7925 - val_acc: 0.5188\n",
            "Epoch 34/50\n",
            "3501/3501 [==============================] - 57s 16ms/step - loss: 0.5708 - acc: 0.6830 - val_loss: 0.7803 - val_acc: 0.5156\n",
            "Epoch 35/50\n",
            "3501/3501 [==============================] - 57s 16ms/step - loss: 0.5671 - acc: 0.6865 - val_loss: 0.7830 - val_acc: 0.5222\n",
            "Epoch 36/50\n",
            "3501/3501 [==============================] - 58s 17ms/step - loss: 0.5637 - acc: 0.6905 - val_loss: 0.7911 - val_acc: 0.5202\n",
            "Epoch 37/50\n",
            "3501/3501 [==============================] - 57s 16ms/step - loss: 0.5606 - acc: 0.6915 - val_loss: 0.8184 - val_acc: 0.5127\n",
            "Epoch 38/50\n",
            "3501/3501 [==============================] - 57s 16ms/step - loss: 0.5580 - acc: 0.6943 - val_loss: 0.8175 - val_acc: 0.5200\n",
            "Epoch 39/50\n",
            "3501/3501 [==============================] - 58s 17ms/step - loss: 0.5546 - acc: 0.6987 - val_loss: 0.8342 - val_acc: 0.5112\n",
            "Epoch 40/50\n",
            "3501/3501 [==============================] - 58s 16ms/step - loss: 0.5523 - acc: 0.6997 - val_loss: 0.8059 - val_acc: 0.5248\n",
            "Epoch 41/50\n",
            "3501/3501 [==============================] - 56s 16ms/step - loss: 0.5498 - acc: 0.7026 - val_loss: 0.8248 - val_acc: 0.5217\n",
            "Epoch 42/50\n",
            "3501/3501 [==============================] - 58s 17ms/step - loss: 0.5465 - acc: 0.7042 - val_loss: 0.8301 - val_acc: 0.5153\n",
            "Epoch 43/50\n",
            "3501/3501 [==============================] - 56s 16ms/step - loss: 0.5431 - acc: 0.7073 - val_loss: 0.8368 - val_acc: 0.5097\n",
            "Epoch 44/50\n",
            "3501/3501 [==============================] - 56s 16ms/step - loss: 0.5413 - acc: 0.7096 - val_loss: 0.8418 - val_acc: 0.5143\n",
            "Epoch 45/50\n",
            "3501/3501 [==============================] - 55s 16ms/step - loss: 0.5386 - acc: 0.7118 - val_loss: 0.8474 - val_acc: 0.5226\n",
            "Epoch 46/50\n",
            "3501/3501 [==============================] - 56s 16ms/step - loss: 0.5379 - acc: 0.7116 - val_loss: 0.8458 - val_acc: 0.5162\n",
            "Epoch 47/50\n",
            "3501/3501 [==============================] - 55s 16ms/step - loss: 0.5341 - acc: 0.7146 - val_loss: 0.8456 - val_acc: 0.5198\n",
            "Epoch 48/50\n",
            "3501/3501 [==============================] - 55s 16ms/step - loss: 0.5328 - acc: 0.7163 - val_loss: 0.8467 - val_acc: 0.5198\n",
            "Epoch 49/50\n",
            "3501/3501 [==============================] - 55s 16ms/step - loss: 0.5291 - acc: 0.7198 - val_loss: 0.8585 - val_acc: 0.5146\n",
            "Epoch 50/50\n",
            "3501/3501 [==============================] - 55s 16ms/step - loss: 0.5262 - acc: 0.7222 - val_loss: 0.8636 - val_acc: 0.5165\n"
          ]
        }
      ]
    },
    {
      "cell_type": "code",
      "metadata": {
        "colab": {
          "base_uri": "https://localhost:8080/",
          "height": 0
        },
        "id": "X5QjI0mOzfLQ",
        "outputId": "fb0477e5-2e09-4cde-9f2f-d2de73139334"
      },
      "source": [
        "SEQ_LEN = 10\n",
        "N_FUTURE = 30\n",
        "(X_train, y_train), (X_test, y_test) = processData(data, SEQ_LEN, N_FUTURE)\n",
        "\n",
        "model2 = models.Sequential([\n",
        "    layers.Input(shape=(SEQ_LEN,)),\n",
        "    layers.Reshape((SEQ_LEN, 1)),\n",
        "    layers.LSTM(64, return_sequences=True),\n",
        "    layers.LSTM(64),\n",
        "    layers.Dropout(0.2),\n",
        "    layers.Dense(10, activation='relu'),\n",
        "    layers.Dense(1, activation='sigmoid')\n",
        "])\n",
        "model2.compile(optimizer='adam', loss='binary_crossentropy', metrics=['acc'])\n",
        "log2_2 = model2.fit(X_train, y_train, validation_data=(X_test, y_test), epochs=50, batch_size=128)"
      ],
      "execution_count": 41,
      "outputs": [
        {
          "output_type": "stream",
          "name": "stdout",
          "text": [
            "Epoch 1/50\n",
            "3501/3501 [==============================] - 58s 16ms/step - loss: 0.6703 - acc: 0.5855 - val_loss: 0.6633 - val_acc: 0.5724\n",
            "Epoch 2/50\n",
            "3501/3501 [==============================] - 55s 16ms/step - loss: 0.6670 - acc: 0.5869 - val_loss: 0.6686 - val_acc: 0.5620\n",
            "Epoch 3/50\n",
            "3501/3501 [==============================] - 55s 16ms/step - loss: 0.6649 - acc: 0.5874 - val_loss: 0.6616 - val_acc: 0.5868\n",
            "Epoch 4/50\n",
            "3501/3501 [==============================] - 55s 16ms/step - loss: 0.6636 - acc: 0.5879 - val_loss: 0.6646 - val_acc: 0.5584\n",
            "Epoch 5/50\n",
            "3501/3501 [==============================] - 55s 16ms/step - loss: 0.6632 - acc: 0.5883 - val_loss: 0.6731 - val_acc: 0.5745\n",
            "Epoch 6/50\n",
            "3501/3501 [==============================] - 55s 16ms/step - loss: 0.6617 - acc: 0.5891 - val_loss: 0.6745 - val_acc: 0.5234\n",
            "Epoch 7/50\n",
            "3501/3501 [==============================] - 55s 16ms/step - loss: 0.6616 - acc: 0.5876 - val_loss: 0.6598 - val_acc: 0.5697\n",
            "Epoch 8/50\n",
            "3501/3501 [==============================] - 55s 16ms/step - loss: 0.6614 - acc: 0.5886 - val_loss: 0.6659 - val_acc: 0.5618\n",
            "Epoch 9/50\n",
            "3501/3501 [==============================] - 54s 16ms/step - loss: 0.6605 - acc: 0.5886 - val_loss: 0.6578 - val_acc: 0.5687\n",
            "Epoch 10/50\n",
            "3501/3501 [==============================] - 55s 16ms/step - loss: 0.6594 - acc: 0.5894 - val_loss: 0.6658 - val_acc: 0.5559\n",
            "Epoch 11/50\n",
            "3501/3501 [==============================] - 55s 16ms/step - loss: 0.6595 - acc: 0.5890 - val_loss: 0.6625 - val_acc: 0.5537\n",
            "Epoch 12/50\n",
            "3501/3501 [==============================] - 55s 16ms/step - loss: 0.6579 - acc: 0.5905 - val_loss: 0.6748 - val_acc: 0.5402\n",
            "Epoch 13/50\n",
            "3501/3501 [==============================] - 55s 16ms/step - loss: 0.6569 - acc: 0.5919 - val_loss: 0.6725 - val_acc: 0.5542\n",
            "Epoch 14/50\n",
            "3501/3501 [==============================] - 54s 16ms/step - loss: 0.6566 - acc: 0.5910 - val_loss: 0.6837 - val_acc: 0.5081\n",
            "Epoch 15/50\n",
            "3501/3501 [==============================] - 55s 16ms/step - loss: 0.6556 - acc: 0.5913 - val_loss: 0.6714 - val_acc: 0.5616\n",
            "Epoch 16/50\n",
            "3501/3501 [==============================] - 55s 16ms/step - loss: 0.6542 - acc: 0.5931 - val_loss: 0.6596 - val_acc: 0.5784\n",
            "Epoch 17/50\n",
            "3501/3501 [==============================] - 55s 16ms/step - loss: 0.6541 - acc: 0.5935 - val_loss: 0.6781 - val_acc: 0.5187\n",
            "Epoch 18/50\n",
            "3501/3501 [==============================] - 55s 16ms/step - loss: 0.6529 - acc: 0.5941 - val_loss: 0.6726 - val_acc: 0.5392\n",
            "Epoch 19/50\n",
            "3501/3501 [==============================] - 55s 16ms/step - loss: 0.6526 - acc: 0.5939 - val_loss: 0.6712 - val_acc: 0.5371\n",
            "Epoch 20/50\n",
            "3501/3501 [==============================] - 55s 16ms/step - loss: 0.6520 - acc: 0.5947 - val_loss: 0.6777 - val_acc: 0.5228\n",
            "Epoch 21/50\n",
            "3501/3501 [==============================] - 55s 16ms/step - loss: 0.6512 - acc: 0.5948 - val_loss: 0.6796 - val_acc: 0.5164\n",
            "Epoch 22/50\n",
            "3501/3501 [==============================] - 55s 16ms/step - loss: 0.6498 - acc: 0.5979 - val_loss: 0.6948 - val_acc: 0.4865\n",
            "Epoch 23/50\n",
            "3501/3501 [==============================] - 55s 16ms/step - loss: 0.6499 - acc: 0.5962 - val_loss: 0.6703 - val_acc: 0.5454\n",
            "Epoch 24/50\n",
            "3501/3501 [==============================] - 55s 16ms/step - loss: 0.6491 - acc: 0.5979 - val_loss: 0.6836 - val_acc: 0.5223\n",
            "Epoch 25/50\n",
            "3501/3501 [==============================] - 55s 16ms/step - loss: 0.6489 - acc: 0.5986 - val_loss: 0.6687 - val_acc: 0.5652\n",
            "Epoch 26/50\n",
            "3501/3501 [==============================] - 55s 16ms/step - loss: 0.6481 - acc: 0.5988 - val_loss: 0.6798 - val_acc: 0.5186\n",
            "Epoch 27/50\n",
            "3501/3501 [==============================] - 55s 16ms/step - loss: 0.6468 - acc: 0.6004 - val_loss: 0.6797 - val_acc: 0.5126\n",
            "Epoch 28/50\n",
            "3501/3501 [==============================] - 55s 16ms/step - loss: 0.6465 - acc: 0.5989 - val_loss: 0.6857 - val_acc: 0.5348\n",
            "Epoch 29/50\n",
            "3501/3501 [==============================] - 55s 16ms/step - loss: 0.6467 - acc: 0.6006 - val_loss: 0.6710 - val_acc: 0.5539\n",
            "Epoch 30/50\n",
            "3501/3501 [==============================] - 54s 15ms/step - loss: 0.6456 - acc: 0.6013 - val_loss: 0.6969 - val_acc: 0.5042\n",
            "Epoch 31/50\n",
            "3501/3501 [==============================] - 55s 16ms/step - loss: 0.6448 - acc: 0.6024 - val_loss: 0.6830 - val_acc: 0.5426\n",
            "Epoch 32/50\n",
            "3501/3501 [==============================] - 55s 16ms/step - loss: 0.6443 - acc: 0.6027 - val_loss: 0.6755 - val_acc: 0.5400\n",
            "Epoch 33/50\n",
            "3501/3501 [==============================] - 55s 16ms/step - loss: 0.6431 - acc: 0.6033 - val_loss: 0.6804 - val_acc: 0.5239\n",
            "Epoch 34/50\n",
            "3501/3501 [==============================] - 55s 16ms/step - loss: 0.6432 - acc: 0.6038 - val_loss: 0.6936 - val_acc: 0.5138\n",
            "Epoch 35/50\n",
            "3501/3501 [==============================] - 55s 16ms/step - loss: 0.6427 - acc: 0.6035 - val_loss: 0.6797 - val_acc: 0.5259\n",
            "Epoch 36/50\n",
            "3501/3501 [==============================] - 55s 16ms/step - loss: 0.6421 - acc: 0.6058 - val_loss: 0.6805 - val_acc: 0.5331\n",
            "Epoch 37/50\n",
            "3501/3501 [==============================] - 55s 16ms/step - loss: 0.6423 - acc: 0.6042 - val_loss: 0.6971 - val_acc: 0.4881\n",
            "Epoch 38/50\n",
            "3501/3501 [==============================] - 55s 16ms/step - loss: 0.6405 - acc: 0.6053 - val_loss: 0.6886 - val_acc: 0.5201\n",
            "Epoch 39/50\n",
            "3501/3501 [==============================] - 55s 16ms/step - loss: 0.6405 - acc: 0.6072 - val_loss: 0.6888 - val_acc: 0.5282\n",
            "Epoch 40/50\n",
            "3501/3501 [==============================] - 55s 16ms/step - loss: 0.6397 - acc: 0.6065 - val_loss: 0.6932 - val_acc: 0.5079\n",
            "Epoch 41/50\n",
            "3501/3501 [==============================] - 55s 16ms/step - loss: 0.6392 - acc: 0.6073 - val_loss: 0.6901 - val_acc: 0.5149\n",
            "Epoch 42/50\n",
            "3501/3501 [==============================] - 55s 16ms/step - loss: 0.6382 - acc: 0.6088 - val_loss: 0.6886 - val_acc: 0.5167\n",
            "Epoch 43/50\n",
            "3501/3501 [==============================] - 54s 16ms/step - loss: 0.6379 - acc: 0.6083 - val_loss: 0.6992 - val_acc: 0.5077\n",
            "Epoch 44/50\n",
            "3501/3501 [==============================] - 55s 16ms/step - loss: 0.6377 - acc: 0.6086 - val_loss: 0.6786 - val_acc: 0.5487\n",
            "Epoch 45/50\n",
            "3501/3501 [==============================] - 54s 16ms/step - loss: 0.6366 - acc: 0.6102 - val_loss: 0.6878 - val_acc: 0.5305\n",
            "Epoch 46/50\n",
            "3501/3501 [==============================] - 55s 16ms/step - loss: 0.6364 - acc: 0.6102 - val_loss: 0.6848 - val_acc: 0.5377\n",
            "Epoch 47/50\n",
            "3501/3501 [==============================] - 55s 16ms/step - loss: 0.6349 - acc: 0.6113 - val_loss: 0.6940 - val_acc: 0.5255\n",
            "Epoch 48/50\n",
            "3501/3501 [==============================] - 55s 16ms/step - loss: 0.6346 - acc: 0.6124 - val_loss: 0.6782 - val_acc: 0.5485\n",
            "Epoch 49/50\n",
            "3501/3501 [==============================] - 55s 16ms/step - loss: 0.6350 - acc: 0.6106 - val_loss: 0.6898 - val_acc: 0.5314\n",
            "Epoch 50/50\n",
            "3501/3501 [==============================] - 55s 16ms/step - loss: 0.6337 - acc: 0.6116 - val_loss: 0.6920 - val_acc: 0.5230\n"
          ]
        }
      ]
    },
    {
      "cell_type": "code",
      "metadata": {
        "colab": {
          "base_uri": "https://localhost:8080/",
          "height": 0
        },
        "id": "n2OsOQIazfLR",
        "outputId": "45fa4467-89ed-48bd-83c6-d97f50aa0c50"
      },
      "source": [
        "SEQ_LEN = 30\n",
        "N_FUTURE = 30\n",
        "(X_train, y_train), (X_test, y_test) = processData(data, SEQ_LEN, N_FUTURE)\n",
        "\n",
        "model2 = models.Sequential([\n",
        "    layers.Input(shape=(SEQ_LEN,)),\n",
        "    layers.Reshape((SEQ_LEN, 1)),\n",
        "    layers.LSTM(64, return_sequences=True),\n",
        "    layers.LSTM(64),\n",
        "    layers.Dropout(0.2),\n",
        "    layers.Dense(10, activation='relu'),\n",
        "    layers.Dense(1, activation='sigmoid')\n",
        "])\n",
        "model2.compile(optimizer='adam', loss='binary_crossentropy', metrics=['acc'])\n",
        "log2_3 = model2.fit(X_train, y_train, validation_data=(X_test, y_test), epochs=50, batch_size=128)"
      ],
      "execution_count": 42,
      "outputs": [
        {
          "output_type": "stream",
          "name": "stdout",
          "text": [
            "Epoch 1/50\n",
            "3413/3413 [==============================] - 59s 17ms/step - loss: 0.6686 - acc: 0.5882 - val_loss: 0.6785 - val_acc: 0.5272\n",
            "Epoch 2/50\n",
            "3413/3413 [==============================] - 56s 16ms/step - loss: 0.6642 - acc: 0.5903 - val_loss: 0.6738 - val_acc: 0.5617\n",
            "Epoch 3/50\n",
            "3413/3413 [==============================] - 56s 16ms/step - loss: 0.6626 - acc: 0.5907 - val_loss: 0.6857 - val_acc: 0.5230\n",
            "Epoch 4/50\n",
            "3413/3413 [==============================] - 57s 17ms/step - loss: 0.6614 - acc: 0.5907 - val_loss: 0.6893 - val_acc: 0.5510\n",
            "Epoch 5/50\n",
            "3413/3413 [==============================] - 57s 17ms/step - loss: 0.6600 - acc: 0.5919 - val_loss: 0.6762 - val_acc: 0.5802\n",
            "Epoch 6/50\n",
            "3413/3413 [==============================] - 56s 16ms/step - loss: 0.6579 - acc: 0.5946 - val_loss: 0.6838 - val_acc: 0.5246\n",
            "Epoch 7/50\n",
            "3413/3413 [==============================] - 57s 17ms/step - loss: 0.6550 - acc: 0.5974 - val_loss: 0.6806 - val_acc: 0.5475\n",
            "Epoch 8/50\n",
            "3413/3413 [==============================] - 56s 17ms/step - loss: 0.6515 - acc: 0.6028 - val_loss: 0.6765 - val_acc: 0.5499\n",
            "Epoch 9/50\n",
            "3413/3413 [==============================] - 56s 17ms/step - loss: 0.6486 - acc: 0.6055 - val_loss: 0.6849 - val_acc: 0.5407\n",
            "Epoch 10/50\n",
            "3413/3413 [==============================] - 56s 17ms/step - loss: 0.6451 - acc: 0.6100 - val_loss: 0.6973 - val_acc: 0.5213\n",
            "Epoch 11/50\n",
            "3413/3413 [==============================] - 56s 17ms/step - loss: 0.6403 - acc: 0.6163 - val_loss: 0.6735 - val_acc: 0.5753\n",
            "Epoch 12/50\n",
            "3413/3413 [==============================] - 56s 17ms/step - loss: 0.6348 - acc: 0.6218 - val_loss: 0.6886 - val_acc: 0.5412\n",
            "Epoch 13/50\n",
            "3413/3413 [==============================] - 57s 17ms/step - loss: 0.6304 - acc: 0.6254 - val_loss: 0.6931 - val_acc: 0.5660\n",
            "Epoch 14/50\n",
            "3413/3413 [==============================] - 56s 16ms/step - loss: 0.6241 - acc: 0.6333 - val_loss: 0.7038 - val_acc: 0.5677\n",
            "Epoch 15/50\n",
            "3413/3413 [==============================] - 56s 16ms/step - loss: 0.6179 - acc: 0.6389 - val_loss: 0.6931 - val_acc: 0.5677\n",
            "Epoch 16/50\n",
            "3413/3413 [==============================] - 56s 16ms/step - loss: 0.6131 - acc: 0.6435 - val_loss: 0.6957 - val_acc: 0.5670\n",
            "Epoch 17/50\n",
            "3413/3413 [==============================] - 56s 16ms/step - loss: 0.6072 - acc: 0.6501 - val_loss: 0.7146 - val_acc: 0.5572\n",
            "Epoch 18/50\n",
            "3413/3413 [==============================] - 58s 17ms/step - loss: 0.6008 - acc: 0.6560 - val_loss: 0.7264 - val_acc: 0.5328\n",
            "Epoch 19/50\n",
            "3413/3413 [==============================] - 57s 17ms/step - loss: 0.5944 - acc: 0.6618 - val_loss: 0.7522 - val_acc: 0.5303\n",
            "Epoch 20/50\n",
            "3413/3413 [==============================] - 56s 16ms/step - loss: 0.5888 - acc: 0.6666 - val_loss: 0.7731 - val_acc: 0.5157\n",
            "Epoch 21/50\n",
            "3413/3413 [==============================] - 56s 16ms/step - loss: 0.5828 - acc: 0.6717 - val_loss: 0.7585 - val_acc: 0.5307\n",
            "Epoch 22/50\n",
            "3413/3413 [==============================] - 56s 17ms/step - loss: 0.5764 - acc: 0.6781 - val_loss: 0.7483 - val_acc: 0.5425\n",
            "Epoch 23/50\n",
            "3413/3413 [==============================] - 56s 16ms/step - loss: 0.5717 - acc: 0.6818 - val_loss: 0.7821 - val_acc: 0.5300\n",
            "Epoch 24/50\n",
            "3413/3413 [==============================] - 56s 16ms/step - loss: 0.5649 - acc: 0.6889 - val_loss: 0.7928 - val_acc: 0.5359\n",
            "Epoch 25/50\n",
            "3413/3413 [==============================] - 56s 16ms/step - loss: 0.5603 - acc: 0.6924 - val_loss: 0.7880 - val_acc: 0.5369\n",
            "Epoch 26/50\n",
            "3413/3413 [==============================] - 57s 17ms/step - loss: 0.5554 - acc: 0.6980 - val_loss: 0.7918 - val_acc: 0.5218\n",
            "Epoch 27/50\n",
            "3413/3413 [==============================] - 56s 16ms/step - loss: 0.5494 - acc: 0.7034 - val_loss: 0.8530 - val_acc: 0.5207\n",
            "Epoch 28/50\n",
            "3413/3413 [==============================] - 57s 17ms/step - loss: 0.5428 - acc: 0.7084 - val_loss: 0.8187 - val_acc: 0.5308\n",
            "Epoch 29/50\n",
            "3413/3413 [==============================] - 56s 17ms/step - loss: 0.5372 - acc: 0.7124 - val_loss: 0.8301 - val_acc: 0.5297\n",
            "Epoch 30/50\n",
            "3413/3413 [==============================] - 57s 17ms/step - loss: 0.5334 - acc: 0.7160 - val_loss: 0.8498 - val_acc: 0.5286\n",
            "Epoch 31/50\n",
            "3413/3413 [==============================] - 57s 17ms/step - loss: 0.5283 - acc: 0.7206 - val_loss: 0.8943 - val_acc: 0.5143\n",
            "Epoch 32/50\n",
            "3413/3413 [==============================] - 56s 16ms/step - loss: 0.5238 - acc: 0.7238 - val_loss: 0.8851 - val_acc: 0.5191\n",
            "Epoch 33/50\n",
            "3413/3413 [==============================] - 56s 16ms/step - loss: 0.5170 - acc: 0.7285 - val_loss: 0.8943 - val_acc: 0.5270\n",
            "Epoch 34/50\n",
            "3413/3413 [==============================] - 56s 17ms/step - loss: 0.5106 - acc: 0.7331 - val_loss: 0.8842 - val_acc: 0.5274\n",
            "Epoch 35/50\n",
            "3413/3413 [==============================] - 57s 17ms/step - loss: 0.5066 - acc: 0.7375 - val_loss: 0.9456 - val_acc: 0.5232\n",
            "Epoch 36/50\n",
            "3413/3413 [==============================] - 56s 16ms/step - loss: 0.5022 - acc: 0.7405 - val_loss: 0.9592 - val_acc: 0.5098\n",
            "Epoch 37/50\n",
            "3413/3413 [==============================] - 56s 17ms/step - loss: 0.4964 - acc: 0.7446 - val_loss: 0.9576 - val_acc: 0.5275\n",
            "Epoch 38/50\n",
            "3413/3413 [==============================] - 56s 16ms/step - loss: 0.4919 - acc: 0.7484 - val_loss: 1.0418 - val_acc: 0.4982\n",
            "Epoch 39/50\n",
            "3413/3413 [==============================] - 56s 16ms/step - loss: 0.4884 - acc: 0.7508 - val_loss: 0.9482 - val_acc: 0.5322\n",
            "Epoch 40/50\n",
            "3413/3413 [==============================] - 56s 16ms/step - loss: 0.4823 - acc: 0.7557 - val_loss: 0.9726 - val_acc: 0.5245\n",
            "Epoch 41/50\n",
            "3413/3413 [==============================] - 56s 16ms/step - loss: 0.4777 - acc: 0.7592 - val_loss: 0.9568 - val_acc: 0.5284\n",
            "Epoch 42/50\n",
            "3413/3413 [==============================] - 56s 16ms/step - loss: 0.4730 - acc: 0.7619 - val_loss: 0.9820 - val_acc: 0.5230\n",
            "Epoch 43/50\n",
            "3413/3413 [==============================] - 56s 16ms/step - loss: 0.4685 - acc: 0.7653 - val_loss: 0.9601 - val_acc: 0.5409\n",
            "Epoch 44/50\n",
            "3413/3413 [==============================] - 56s 16ms/step - loss: 0.4661 - acc: 0.7673 - val_loss: 1.0930 - val_acc: 0.4942\n",
            "Epoch 45/50\n",
            "3413/3413 [==============================] - 57s 17ms/step - loss: 0.4602 - acc: 0.7710 - val_loss: 1.0122 - val_acc: 0.5191\n",
            "Epoch 46/50\n",
            "3413/3413 [==============================] - 56s 16ms/step - loss: 0.4584 - acc: 0.7716 - val_loss: 1.0031 - val_acc: 0.5263\n",
            "Epoch 47/50\n",
            "3413/3413 [==============================] - 56s 16ms/step - loss: 0.4537 - acc: 0.7762 - val_loss: 1.0449 - val_acc: 0.5232\n",
            "Epoch 48/50\n",
            "3413/3413 [==============================] - 56s 16ms/step - loss: 0.4493 - acc: 0.7784 - val_loss: 1.0270 - val_acc: 0.5313\n",
            "Epoch 49/50\n",
            "3413/3413 [==============================] - 56s 16ms/step - loss: 0.4451 - acc: 0.7818 - val_loss: 1.0536 - val_acc: 0.5195\n",
            "Epoch 50/50\n",
            "3413/3413 [==============================] - 57s 17ms/step - loss: 0.4421 - acc: 0.7827 - val_loss: 1.0797 - val_acc: 0.5190\n"
          ]
        }
      ]
    },
    {
      "cell_type": "code",
      "metadata": {
        "colab": {
          "base_uri": "https://localhost:8080/",
          "height": 0
        },
        "id": "l-B5Ucm083AC",
        "outputId": "808d26ef-0e43-4058-9415-21c3050763e5"
      },
      "source": [
        "SEQ_LEN = 30\n",
        "N_FUTURE = 60\n",
        "(X_train, y_train), (X_test, y_test) = processData(data, SEQ_LEN, N_FUTURE)\n",
        "\n",
        "model2 = models.Sequential([\n",
        "    layers.Input(shape=(SEQ_LEN,)),\n",
        "    layers.Reshape((SEQ_LEN, 1)),\n",
        "    layers.LSTM(64, return_sequences=True),\n",
        "    layers.LSTM(64),\n",
        "    layers.Dropout(0.2),\n",
        "    layers.Dense(10, activation='relu'),\n",
        "    layers.Dense(1, activation='sigmoid')\n",
        "])\n",
        "model2.compile(optimizer='adam', loss='binary_crossentropy', metrics=['acc'])\n",
        "log2_4 = model2.fit(X_train, y_train, validation_data=(X_test, y_test), epochs=50, batch_size=128)"
      ],
      "execution_count": 43,
      "outputs": [
        {
          "output_type": "stream",
          "name": "stdout",
          "text": [
            "Epoch 1/50\n",
            "3282/3282 [==============================] - 57s 16ms/step - loss: 0.6502 - acc: 0.6172 - val_loss: 0.6866 - val_acc: 0.4937\n",
            "Epoch 2/50\n",
            "3282/3282 [==============================] - 53s 16ms/step - loss: 0.6454 - acc: 0.6212 - val_loss: 0.6807 - val_acc: 0.4943\n",
            "Epoch 3/50\n",
            "3282/3282 [==============================] - 53s 16ms/step - loss: 0.6447 - acc: 0.6204 - val_loss: 0.6716 - val_acc: 0.5256\n",
            "Epoch 4/50\n",
            "3282/3282 [==============================] - 54s 16ms/step - loss: 0.6434 - acc: 0.6202 - val_loss: 0.6516 - val_acc: 0.5865\n",
            "Epoch 5/50\n",
            "3282/3282 [==============================] - 53s 16ms/step - loss: 0.6428 - acc: 0.6209 - val_loss: 0.6566 - val_acc: 0.5654\n",
            "Epoch 6/50\n",
            "3282/3282 [==============================] - 53s 16ms/step - loss: 0.6420 - acc: 0.6214 - val_loss: 0.6874 - val_acc: 0.5366\n",
            "Epoch 7/50\n",
            "3282/3282 [==============================] - 53s 16ms/step - loss: 0.6408 - acc: 0.6205 - val_loss: 0.6629 - val_acc: 0.5333\n",
            "Epoch 8/50\n",
            "3282/3282 [==============================] - 54s 16ms/step - loss: 0.6397 - acc: 0.6227 - val_loss: 0.6635 - val_acc: 0.5302\n",
            "Epoch 9/50\n",
            "3282/3282 [==============================] - 53s 16ms/step - loss: 0.6383 - acc: 0.6232 - val_loss: 0.6815 - val_acc: 0.5184\n",
            "Epoch 10/50\n",
            "3282/3282 [==============================] - 53s 16ms/step - loss: 0.6385 - acc: 0.6229 - val_loss: 0.6618 - val_acc: 0.5404\n",
            "Epoch 11/50\n",
            "3282/3282 [==============================] - 53s 16ms/step - loss: 0.6374 - acc: 0.6238 - val_loss: 0.6585 - val_acc: 0.5499\n",
            "Epoch 12/50\n",
            "3282/3282 [==============================] - 54s 16ms/step - loss: 0.6362 - acc: 0.6254 - val_loss: 0.6715 - val_acc: 0.5204\n",
            "Epoch 13/50\n",
            "3282/3282 [==============================] - 54s 16ms/step - loss: 0.6335 - acc: 0.6274 - val_loss: 0.6737 - val_acc: 0.5358\n",
            "Epoch 14/50\n",
            "3282/3282 [==============================] - 53s 16ms/step - loss: 0.6331 - acc: 0.6278 - val_loss: 0.6555 - val_acc: 0.5697\n",
            "Epoch 15/50\n",
            "3282/3282 [==============================] - 53s 16ms/step - loss: 0.6318 - acc: 0.6280 - val_loss: 0.6682 - val_acc: 0.5547\n",
            "Epoch 16/50\n",
            "3282/3282 [==============================] - 53s 16ms/step - loss: 0.6298 - acc: 0.6316 - val_loss: 0.6590 - val_acc: 0.5898\n",
            "Epoch 17/50\n",
            "3282/3282 [==============================] - 53s 16ms/step - loss: 0.6286 - acc: 0.6329 - val_loss: 0.6567 - val_acc: 0.5838\n",
            "Epoch 18/50\n",
            "3282/3282 [==============================] - 53s 16ms/step - loss: 0.6266 - acc: 0.6338 - val_loss: 0.6534 - val_acc: 0.5946\n",
            "Epoch 19/50\n",
            "3282/3282 [==============================] - 53s 16ms/step - loss: 0.6250 - acc: 0.6353 - val_loss: 0.6905 - val_acc: 0.5388\n",
            "Epoch 20/50\n",
            "3282/3282 [==============================] - 53s 16ms/step - loss: 0.6217 - acc: 0.6384 - val_loss: 0.6585 - val_acc: 0.6036\n",
            "Epoch 21/50\n",
            "3282/3282 [==============================] - 53s 16ms/step - loss: 0.6171 - acc: 0.6433 - val_loss: 0.6554 - val_acc: 0.6043\n",
            "Epoch 22/50\n",
            "3282/3282 [==============================] - 53s 16ms/step - loss: 0.6121 - acc: 0.6490 - val_loss: 0.6477 - val_acc: 0.6321\n",
            "Epoch 23/50\n",
            "3282/3282 [==============================] - 53s 16ms/step - loss: 0.6126 - acc: 0.6474 - val_loss: 0.6794 - val_acc: 0.5708\n",
            "Epoch 24/50\n",
            "3282/3282 [==============================] - 53s 16ms/step - loss: 0.6034 - acc: 0.6575 - val_loss: 0.6591 - val_acc: 0.6221\n",
            "Epoch 25/50\n",
            "3282/3282 [==============================] - 54s 16ms/step - loss: 0.5996 - acc: 0.6607 - val_loss: 0.6595 - val_acc: 0.6141\n",
            "Epoch 26/50\n",
            "3282/3282 [==============================] - 54s 17ms/step - loss: 0.5936 - acc: 0.6673 - val_loss: 0.6500 - val_acc: 0.6364\n",
            "Epoch 27/50\n",
            " 458/3282 [===>..........................] - ETA: 40s - loss: 0.5900 - acc: 0.6680"
          ]
        },
        {
          "output_type": "error",
          "ename": "KeyboardInterrupt",
          "evalue": "",
          "traceback": [
            "\u001b[1;31m---------------------------------------------------------------------------\u001b[0m",
            "\u001b[1;31mKeyboardInterrupt\u001b[0m                         Traceback (most recent call last)",
            "\u001b[1;32m<ipython-input-43-ec0dac4cdd19>\u001b[0m in \u001b[0;36m<module>\u001b[1;34m\u001b[0m\n\u001b[0;32m     13\u001b[0m ])\n\u001b[0;32m     14\u001b[0m \u001b[0mmodel2\u001b[0m\u001b[1;33m.\u001b[0m\u001b[0mcompile\u001b[0m\u001b[1;33m(\u001b[0m\u001b[0moptimizer\u001b[0m\u001b[1;33m=\u001b[0m\u001b[1;34m'adam'\u001b[0m\u001b[1;33m,\u001b[0m \u001b[0mloss\u001b[0m\u001b[1;33m=\u001b[0m\u001b[1;34m'binary_crossentropy'\u001b[0m\u001b[1;33m,\u001b[0m \u001b[0mmetrics\u001b[0m\u001b[1;33m=\u001b[0m\u001b[1;33m[\u001b[0m\u001b[1;34m'acc'\u001b[0m\u001b[1;33m]\u001b[0m\u001b[1;33m)\u001b[0m\u001b[1;33m\u001b[0m\u001b[1;33m\u001b[0m\u001b[0m\n\u001b[1;32m---> 15\u001b[1;33m \u001b[0mlog2_4\u001b[0m \u001b[1;33m=\u001b[0m \u001b[0mmodel2\u001b[0m\u001b[1;33m.\u001b[0m\u001b[0mfit\u001b[0m\u001b[1;33m(\u001b[0m\u001b[0mX_train\u001b[0m\u001b[1;33m,\u001b[0m \u001b[0my_train\u001b[0m\u001b[1;33m,\u001b[0m \u001b[0mvalidation_data\u001b[0m\u001b[1;33m=\u001b[0m\u001b[1;33m(\u001b[0m\u001b[0mX_test\u001b[0m\u001b[1;33m,\u001b[0m \u001b[0my_test\u001b[0m\u001b[1;33m)\u001b[0m\u001b[1;33m,\u001b[0m \u001b[0mepochs\u001b[0m\u001b[1;33m=\u001b[0m\u001b[1;36m50\u001b[0m\u001b[1;33m,\u001b[0m \u001b[0mbatch_size\u001b[0m\u001b[1;33m=\u001b[0m\u001b[1;36m128\u001b[0m\u001b[1;33m)\u001b[0m\u001b[1;33m\u001b[0m\u001b[1;33m\u001b[0m\u001b[0m\n\u001b[0m",
            "\u001b[1;32m~\\AppData\\Local\\Programs\\Python\\Python37\\lib\\site-packages\\tensorflow\\python\\keras\\engine\\training.py\u001b[0m in \u001b[0;36mfit\u001b[1;34m(self, x, y, batch_size, epochs, verbose, callbacks, validation_split, validation_data, shuffle, class_weight, sample_weight, initial_epoch, steps_per_epoch, validation_steps, validation_batch_size, validation_freq, max_queue_size, workers, use_multiprocessing)\u001b[0m\n\u001b[0;32m   1103\u001b[0m               \u001b[0mlogs\u001b[0m \u001b[1;33m=\u001b[0m \u001b[0mtmp_logs\u001b[0m  \u001b[1;31m# No error, now safe to assign to logs.\u001b[0m\u001b[1;33m\u001b[0m\u001b[1;33m\u001b[0m\u001b[0m\n\u001b[0;32m   1104\u001b[0m               \u001b[0mend_step\u001b[0m \u001b[1;33m=\u001b[0m \u001b[0mstep\u001b[0m \u001b[1;33m+\u001b[0m \u001b[0mdata_handler\u001b[0m\u001b[1;33m.\u001b[0m\u001b[0mstep_increment\u001b[0m\u001b[1;33m\u001b[0m\u001b[1;33m\u001b[0m\u001b[0m\n\u001b[1;32m-> 1105\u001b[1;33m               \u001b[0mcallbacks\u001b[0m\u001b[1;33m.\u001b[0m\u001b[0mon_train_batch_end\u001b[0m\u001b[1;33m(\u001b[0m\u001b[0mend_step\u001b[0m\u001b[1;33m,\u001b[0m \u001b[0mlogs\u001b[0m\u001b[1;33m)\u001b[0m\u001b[1;33m\u001b[0m\u001b[1;33m\u001b[0m\u001b[0m\n\u001b[0m\u001b[0;32m   1106\u001b[0m               \u001b[1;32mif\u001b[0m \u001b[0mself\u001b[0m\u001b[1;33m.\u001b[0m\u001b[0mstop_training\u001b[0m\u001b[1;33m:\u001b[0m\u001b[1;33m\u001b[0m\u001b[1;33m\u001b[0m\u001b[0m\n\u001b[0;32m   1107\u001b[0m                 \u001b[1;32mbreak\u001b[0m\u001b[1;33m\u001b[0m\u001b[1;33m\u001b[0m\u001b[0m\n",
            "\u001b[1;32m~\\AppData\\Local\\Programs\\Python\\Python37\\lib\\site-packages\\tensorflow\\python\\keras\\callbacks.py\u001b[0m in \u001b[0;36mon_train_batch_end\u001b[1;34m(self, batch, logs)\u001b[0m\n\u001b[0;32m    452\u001b[0m     \"\"\"\n\u001b[0;32m    453\u001b[0m     \u001b[1;32mif\u001b[0m \u001b[0mself\u001b[0m\u001b[1;33m.\u001b[0m\u001b[0m_should_call_train_batch_hooks\u001b[0m\u001b[1;33m:\u001b[0m\u001b[1;33m\u001b[0m\u001b[1;33m\u001b[0m\u001b[0m\n\u001b[1;32m--> 454\u001b[1;33m       \u001b[0mself\u001b[0m\u001b[1;33m.\u001b[0m\u001b[0m_call_batch_hook\u001b[0m\u001b[1;33m(\u001b[0m\u001b[0mModeKeys\u001b[0m\u001b[1;33m.\u001b[0m\u001b[0mTRAIN\u001b[0m\u001b[1;33m,\u001b[0m \u001b[1;34m'end'\u001b[0m\u001b[1;33m,\u001b[0m \u001b[0mbatch\u001b[0m\u001b[1;33m,\u001b[0m \u001b[0mlogs\u001b[0m\u001b[1;33m=\u001b[0m\u001b[0mlogs\u001b[0m\u001b[1;33m)\u001b[0m\u001b[1;33m\u001b[0m\u001b[1;33m\u001b[0m\u001b[0m\n\u001b[0m\u001b[0;32m    455\u001b[0m \u001b[1;33m\u001b[0m\u001b[0m\n\u001b[0;32m    456\u001b[0m   \u001b[1;32mdef\u001b[0m \u001b[0mon_test_batch_begin\u001b[0m\u001b[1;33m(\u001b[0m\u001b[0mself\u001b[0m\u001b[1;33m,\u001b[0m \u001b[0mbatch\u001b[0m\u001b[1;33m,\u001b[0m \u001b[0mlogs\u001b[0m\u001b[1;33m=\u001b[0m\u001b[1;32mNone\u001b[0m\u001b[1;33m)\u001b[0m\u001b[1;33m:\u001b[0m\u001b[1;33m\u001b[0m\u001b[1;33m\u001b[0m\u001b[0m\n",
            "\u001b[1;32m~\\AppData\\Local\\Programs\\Python\\Python37\\lib\\site-packages\\tensorflow\\python\\keras\\callbacks.py\u001b[0m in \u001b[0;36m_call_batch_hook\u001b[1;34m(self, mode, hook, batch, logs)\u001b[0m\n\u001b[0;32m    294\u001b[0m       \u001b[0mself\u001b[0m\u001b[1;33m.\u001b[0m\u001b[0m_call_batch_begin_hook\u001b[0m\u001b[1;33m(\u001b[0m\u001b[0mmode\u001b[0m\u001b[1;33m,\u001b[0m \u001b[0mbatch\u001b[0m\u001b[1;33m,\u001b[0m \u001b[0mlogs\u001b[0m\u001b[1;33m)\u001b[0m\u001b[1;33m\u001b[0m\u001b[1;33m\u001b[0m\u001b[0m\n\u001b[0;32m    295\u001b[0m     \u001b[1;32melif\u001b[0m \u001b[0mhook\u001b[0m \u001b[1;33m==\u001b[0m \u001b[1;34m'end'\u001b[0m\u001b[1;33m:\u001b[0m\u001b[1;33m\u001b[0m\u001b[1;33m\u001b[0m\u001b[0m\n\u001b[1;32m--> 296\u001b[1;33m       \u001b[0mself\u001b[0m\u001b[1;33m.\u001b[0m\u001b[0m_call_batch_end_hook\u001b[0m\u001b[1;33m(\u001b[0m\u001b[0mmode\u001b[0m\u001b[1;33m,\u001b[0m \u001b[0mbatch\u001b[0m\u001b[1;33m,\u001b[0m \u001b[0mlogs\u001b[0m\u001b[1;33m)\u001b[0m\u001b[1;33m\u001b[0m\u001b[1;33m\u001b[0m\u001b[0m\n\u001b[0m\u001b[0;32m    297\u001b[0m     \u001b[1;32melse\u001b[0m\u001b[1;33m:\u001b[0m\u001b[1;33m\u001b[0m\u001b[1;33m\u001b[0m\u001b[0m\n\u001b[0;32m    298\u001b[0m       \u001b[1;32mraise\u001b[0m \u001b[0mValueError\u001b[0m\u001b[1;33m(\u001b[0m\u001b[1;34m'Unrecognized hook: {}'\u001b[0m\u001b[1;33m.\u001b[0m\u001b[0mformat\u001b[0m\u001b[1;33m(\u001b[0m\u001b[0mhook\u001b[0m\u001b[1;33m)\u001b[0m\u001b[1;33m)\u001b[0m\u001b[1;33m\u001b[0m\u001b[1;33m\u001b[0m\u001b[0m\n",
            "\u001b[1;32m~\\AppData\\Local\\Programs\\Python\\Python37\\lib\\site-packages\\tensorflow\\python\\keras\\callbacks.py\u001b[0m in \u001b[0;36m_call_batch_end_hook\u001b[1;34m(self, mode, batch, logs)\u001b[0m\n\u001b[0;32m    314\u001b[0m       \u001b[0mself\u001b[0m\u001b[1;33m.\u001b[0m\u001b[0m_batch_times\u001b[0m\u001b[1;33m.\u001b[0m\u001b[0mappend\u001b[0m\u001b[1;33m(\u001b[0m\u001b[0mbatch_time\u001b[0m\u001b[1;33m)\u001b[0m\u001b[1;33m\u001b[0m\u001b[1;33m\u001b[0m\u001b[0m\n\u001b[0;32m    315\u001b[0m \u001b[1;33m\u001b[0m\u001b[0m\n\u001b[1;32m--> 316\u001b[1;33m     \u001b[0mself\u001b[0m\u001b[1;33m.\u001b[0m\u001b[0m_call_batch_hook_helper\u001b[0m\u001b[1;33m(\u001b[0m\u001b[0mhook_name\u001b[0m\u001b[1;33m,\u001b[0m \u001b[0mbatch\u001b[0m\u001b[1;33m,\u001b[0m \u001b[0mlogs\u001b[0m\u001b[1;33m)\u001b[0m\u001b[1;33m\u001b[0m\u001b[1;33m\u001b[0m\u001b[0m\n\u001b[0m\u001b[0;32m    317\u001b[0m \u001b[1;33m\u001b[0m\u001b[0m\n\u001b[0;32m    318\u001b[0m     \u001b[1;32mif\u001b[0m \u001b[0mlen\u001b[0m\u001b[1;33m(\u001b[0m\u001b[0mself\u001b[0m\u001b[1;33m.\u001b[0m\u001b[0m_batch_times\u001b[0m\u001b[1;33m)\u001b[0m \u001b[1;33m>=\u001b[0m \u001b[0mself\u001b[0m\u001b[1;33m.\u001b[0m\u001b[0m_num_batches_for_timing_check\u001b[0m\u001b[1;33m:\u001b[0m\u001b[1;33m\u001b[0m\u001b[1;33m\u001b[0m\u001b[0m\n",
            "\u001b[1;32m~\\AppData\\Local\\Programs\\Python\\Python37\\lib\\site-packages\\tensorflow\\python\\keras\\callbacks.py\u001b[0m in \u001b[0;36m_call_batch_hook_helper\u001b[1;34m(self, hook_name, batch, logs)\u001b[0m\n\u001b[0;32m    354\u001b[0m       \u001b[0mhook\u001b[0m \u001b[1;33m=\u001b[0m \u001b[0mgetattr\u001b[0m\u001b[1;33m(\u001b[0m\u001b[0mcallback\u001b[0m\u001b[1;33m,\u001b[0m \u001b[0mhook_name\u001b[0m\u001b[1;33m)\u001b[0m\u001b[1;33m\u001b[0m\u001b[1;33m\u001b[0m\u001b[0m\n\u001b[0;32m    355\u001b[0m       \u001b[1;32mif\u001b[0m \u001b[0mgetattr\u001b[0m\u001b[1;33m(\u001b[0m\u001b[0mcallback\u001b[0m\u001b[1;33m,\u001b[0m \u001b[1;34m'_supports_tf_logs'\u001b[0m\u001b[1;33m,\u001b[0m \u001b[1;32mFalse\u001b[0m\u001b[1;33m)\u001b[0m\u001b[1;33m:\u001b[0m\u001b[1;33m\u001b[0m\u001b[1;33m\u001b[0m\u001b[0m\n\u001b[1;32m--> 356\u001b[1;33m         \u001b[0mhook\u001b[0m\u001b[1;33m(\u001b[0m\u001b[0mbatch\u001b[0m\u001b[1;33m,\u001b[0m \u001b[0mlogs\u001b[0m\u001b[1;33m)\u001b[0m\u001b[1;33m\u001b[0m\u001b[1;33m\u001b[0m\u001b[0m\n\u001b[0m\u001b[0;32m    357\u001b[0m       \u001b[1;32melse\u001b[0m\u001b[1;33m:\u001b[0m\u001b[1;33m\u001b[0m\u001b[1;33m\u001b[0m\u001b[0m\n\u001b[0;32m    358\u001b[0m         \u001b[1;32mif\u001b[0m \u001b[0mnumpy_logs\u001b[0m \u001b[1;32mis\u001b[0m \u001b[1;32mNone\u001b[0m\u001b[1;33m:\u001b[0m  \u001b[1;31m# Only convert once.\u001b[0m\u001b[1;33m\u001b[0m\u001b[1;33m\u001b[0m\u001b[0m\n",
            "\u001b[1;32m~\\AppData\\Local\\Programs\\Python\\Python37\\lib\\site-packages\\tensorflow\\python\\keras\\callbacks.py\u001b[0m in \u001b[0;36mon_train_batch_end\u001b[1;34m(self, batch, logs)\u001b[0m\n\u001b[0;32m   1018\u001b[0m \u001b[1;33m\u001b[0m\u001b[0m\n\u001b[0;32m   1019\u001b[0m   \u001b[1;32mdef\u001b[0m \u001b[0mon_train_batch_end\u001b[0m\u001b[1;33m(\u001b[0m\u001b[0mself\u001b[0m\u001b[1;33m,\u001b[0m \u001b[0mbatch\u001b[0m\u001b[1;33m,\u001b[0m \u001b[0mlogs\u001b[0m\u001b[1;33m=\u001b[0m\u001b[1;32mNone\u001b[0m\u001b[1;33m)\u001b[0m\u001b[1;33m:\u001b[0m\u001b[1;33m\u001b[0m\u001b[1;33m\u001b[0m\u001b[0m\n\u001b[1;32m-> 1020\u001b[1;33m     \u001b[0mself\u001b[0m\u001b[1;33m.\u001b[0m\u001b[0m_batch_update_progbar\u001b[0m\u001b[1;33m(\u001b[0m\u001b[0mbatch\u001b[0m\u001b[1;33m,\u001b[0m \u001b[0mlogs\u001b[0m\u001b[1;33m)\u001b[0m\u001b[1;33m\u001b[0m\u001b[1;33m\u001b[0m\u001b[0m\n\u001b[0m\u001b[0;32m   1021\u001b[0m \u001b[1;33m\u001b[0m\u001b[0m\n\u001b[0;32m   1022\u001b[0m   \u001b[1;32mdef\u001b[0m \u001b[0mon_test_batch_end\u001b[0m\u001b[1;33m(\u001b[0m\u001b[0mself\u001b[0m\u001b[1;33m,\u001b[0m \u001b[0mbatch\u001b[0m\u001b[1;33m,\u001b[0m \u001b[0mlogs\u001b[0m\u001b[1;33m=\u001b[0m\u001b[1;32mNone\u001b[0m\u001b[1;33m)\u001b[0m\u001b[1;33m:\u001b[0m\u001b[1;33m\u001b[0m\u001b[1;33m\u001b[0m\u001b[0m\n",
            "\u001b[1;32m~\\AppData\\Local\\Programs\\Python\\Python37\\lib\\site-packages\\tensorflow\\python\\keras\\callbacks.py\u001b[0m in \u001b[0;36m_batch_update_progbar\u001b[1;34m(self, batch, logs)\u001b[0m\n\u001b[0;32m   1083\u001b[0m       \u001b[1;31m# Only block async when verbose = 1.\u001b[0m\u001b[1;33m\u001b[0m\u001b[1;33m\u001b[0m\u001b[1;33m\u001b[0m\u001b[0m\n\u001b[0;32m   1084\u001b[0m       \u001b[0mlogs\u001b[0m \u001b[1;33m=\u001b[0m \u001b[0mtf_utils\u001b[0m\u001b[1;33m.\u001b[0m\u001b[0mto_numpy_or_python_type\u001b[0m\u001b[1;33m(\u001b[0m\u001b[0mlogs\u001b[0m\u001b[1;33m)\u001b[0m\u001b[1;33m\u001b[0m\u001b[1;33m\u001b[0m\u001b[0m\n\u001b[1;32m-> 1085\u001b[1;33m       \u001b[0mself\u001b[0m\u001b[1;33m.\u001b[0m\u001b[0mprogbar\u001b[0m\u001b[1;33m.\u001b[0m\u001b[0mupdate\u001b[0m\u001b[1;33m(\u001b[0m\u001b[0mself\u001b[0m\u001b[1;33m.\u001b[0m\u001b[0mseen\u001b[0m\u001b[1;33m,\u001b[0m \u001b[0mlist\u001b[0m\u001b[1;33m(\u001b[0m\u001b[0mlogs\u001b[0m\u001b[1;33m.\u001b[0m\u001b[0mitems\u001b[0m\u001b[1;33m(\u001b[0m\u001b[1;33m)\u001b[0m\u001b[1;33m)\u001b[0m\u001b[1;33m,\u001b[0m \u001b[0mfinalize\u001b[0m\u001b[1;33m=\u001b[0m\u001b[1;32mFalse\u001b[0m\u001b[1;33m)\u001b[0m\u001b[1;33m\u001b[0m\u001b[1;33m\u001b[0m\u001b[0m\n\u001b[0m\u001b[0;32m   1086\u001b[0m \u001b[1;33m\u001b[0m\u001b[0m\n\u001b[0;32m   1087\u001b[0m   \u001b[1;32mdef\u001b[0m \u001b[0m_finalize_progbar\u001b[0m\u001b[1;33m(\u001b[0m\u001b[0mself\u001b[0m\u001b[1;33m,\u001b[0m \u001b[0mlogs\u001b[0m\u001b[1;33m,\u001b[0m \u001b[0mcounter\u001b[0m\u001b[1;33m)\u001b[0m\u001b[1;33m:\u001b[0m\u001b[1;33m\u001b[0m\u001b[1;33m\u001b[0m\u001b[0m\n",
            "\u001b[1;32m~\\AppData\\Local\\Programs\\Python\\Python37\\lib\\site-packages\\tensorflow\\python\\keras\\utils\\generic_utils.py\u001b[0m in \u001b[0;36mupdate\u001b[1;34m(self, current, values, finalize)\u001b[0m\n\u001b[0;32m    639\u001b[0m \u001b[1;33m\u001b[0m\u001b[0m\n\u001b[0;32m    640\u001b[0m       \u001b[0msys\u001b[0m\u001b[1;33m.\u001b[0m\u001b[0mstdout\u001b[0m\u001b[1;33m.\u001b[0m\u001b[0mwrite\u001b[0m\u001b[1;33m(\u001b[0m\u001b[0minfo\u001b[0m\u001b[1;33m)\u001b[0m\u001b[1;33m\u001b[0m\u001b[1;33m\u001b[0m\u001b[0m\n\u001b[1;32m--> 641\u001b[1;33m       \u001b[0msys\u001b[0m\u001b[1;33m.\u001b[0m\u001b[0mstdout\u001b[0m\u001b[1;33m.\u001b[0m\u001b[0mflush\u001b[0m\u001b[1;33m(\u001b[0m\u001b[1;33m)\u001b[0m\u001b[1;33m\u001b[0m\u001b[1;33m\u001b[0m\u001b[0m\n\u001b[0m\u001b[0;32m    642\u001b[0m \u001b[1;33m\u001b[0m\u001b[0m\n\u001b[0;32m    643\u001b[0m     \u001b[1;32melif\u001b[0m \u001b[0mself\u001b[0m\u001b[1;33m.\u001b[0m\u001b[0mverbose\u001b[0m \u001b[1;33m==\u001b[0m \u001b[1;36m2\u001b[0m\u001b[1;33m:\u001b[0m\u001b[1;33m\u001b[0m\u001b[1;33m\u001b[0m\u001b[0m\n",
            "\u001b[1;32m~\\AppData\\Local\\Programs\\Python\\Python37\\lib\\site-packages\\ipykernel\\iostream.py\u001b[0m in \u001b[0;36mflush\u001b[1;34m(self)\u001b[0m\n\u001b[0;32m    349\u001b[0m                 \u001b[0mself\u001b[0m\u001b[1;33m.\u001b[0m\u001b[0mpub_thread\u001b[0m\u001b[1;33m.\u001b[0m\u001b[0mschedule\u001b[0m\u001b[1;33m(\u001b[0m\u001b[0mevt\u001b[0m\u001b[1;33m.\u001b[0m\u001b[0mset\u001b[0m\u001b[1;33m)\u001b[0m\u001b[1;33m\u001b[0m\u001b[1;33m\u001b[0m\u001b[0m\n\u001b[0;32m    350\u001b[0m                 \u001b[1;31m# and give a timeout to avoid\u001b[0m\u001b[1;33m\u001b[0m\u001b[1;33m\u001b[0m\u001b[1;33m\u001b[0m\u001b[0m\n\u001b[1;32m--> 351\u001b[1;33m                 \u001b[1;32mif\u001b[0m \u001b[1;32mnot\u001b[0m \u001b[0mevt\u001b[0m\u001b[1;33m.\u001b[0m\u001b[0mwait\u001b[0m\u001b[1;33m(\u001b[0m\u001b[0mself\u001b[0m\u001b[1;33m.\u001b[0m\u001b[0mflush_timeout\u001b[0m\u001b[1;33m)\u001b[0m\u001b[1;33m:\u001b[0m\u001b[1;33m\u001b[0m\u001b[1;33m\u001b[0m\u001b[0m\n\u001b[0m\u001b[0;32m    352\u001b[0m                     \u001b[1;31m# write directly to __stderr__ instead of warning because\u001b[0m\u001b[1;33m\u001b[0m\u001b[1;33m\u001b[0m\u001b[1;33m\u001b[0m\u001b[0m\n\u001b[0;32m    353\u001b[0m                     \u001b[1;31m# if this is happening sys.stderr may be the problem.\u001b[0m\u001b[1;33m\u001b[0m\u001b[1;33m\u001b[0m\u001b[1;33m\u001b[0m\u001b[0m\n",
            "\u001b[1;32m~\\AppData\\Local\\Programs\\Python\\Python37\\lib\\threading.py\u001b[0m in \u001b[0;36mwait\u001b[1;34m(self, timeout)\u001b[0m\n\u001b[0;32m    550\u001b[0m             \u001b[0msignaled\u001b[0m \u001b[1;33m=\u001b[0m \u001b[0mself\u001b[0m\u001b[1;33m.\u001b[0m\u001b[0m_flag\u001b[0m\u001b[1;33m\u001b[0m\u001b[1;33m\u001b[0m\u001b[0m\n\u001b[0;32m    551\u001b[0m             \u001b[1;32mif\u001b[0m \u001b[1;32mnot\u001b[0m \u001b[0msignaled\u001b[0m\u001b[1;33m:\u001b[0m\u001b[1;33m\u001b[0m\u001b[1;33m\u001b[0m\u001b[0m\n\u001b[1;32m--> 552\u001b[1;33m                 \u001b[0msignaled\u001b[0m \u001b[1;33m=\u001b[0m \u001b[0mself\u001b[0m\u001b[1;33m.\u001b[0m\u001b[0m_cond\u001b[0m\u001b[1;33m.\u001b[0m\u001b[0mwait\u001b[0m\u001b[1;33m(\u001b[0m\u001b[0mtimeout\u001b[0m\u001b[1;33m)\u001b[0m\u001b[1;33m\u001b[0m\u001b[1;33m\u001b[0m\u001b[0m\n\u001b[0m\u001b[0;32m    553\u001b[0m             \u001b[1;32mreturn\u001b[0m \u001b[0msignaled\u001b[0m\u001b[1;33m\u001b[0m\u001b[1;33m\u001b[0m\u001b[0m\n\u001b[0;32m    554\u001b[0m \u001b[1;33m\u001b[0m\u001b[0m\n",
            "\u001b[1;32m~\\AppData\\Local\\Programs\\Python\\Python37\\lib\\threading.py\u001b[0m in \u001b[0;36mwait\u001b[1;34m(self, timeout)\u001b[0m\n\u001b[0;32m    298\u001b[0m             \u001b[1;32melse\u001b[0m\u001b[1;33m:\u001b[0m\u001b[1;33m\u001b[0m\u001b[1;33m\u001b[0m\u001b[0m\n\u001b[0;32m    299\u001b[0m                 \u001b[1;32mif\u001b[0m \u001b[0mtimeout\u001b[0m \u001b[1;33m>\u001b[0m \u001b[1;36m0\u001b[0m\u001b[1;33m:\u001b[0m\u001b[1;33m\u001b[0m\u001b[1;33m\u001b[0m\u001b[0m\n\u001b[1;32m--> 300\u001b[1;33m                     \u001b[0mgotit\u001b[0m \u001b[1;33m=\u001b[0m \u001b[0mwaiter\u001b[0m\u001b[1;33m.\u001b[0m\u001b[0macquire\u001b[0m\u001b[1;33m(\u001b[0m\u001b[1;32mTrue\u001b[0m\u001b[1;33m,\u001b[0m \u001b[0mtimeout\u001b[0m\u001b[1;33m)\u001b[0m\u001b[1;33m\u001b[0m\u001b[1;33m\u001b[0m\u001b[0m\n\u001b[0m\u001b[0;32m    301\u001b[0m                 \u001b[1;32melse\u001b[0m\u001b[1;33m:\u001b[0m\u001b[1;33m\u001b[0m\u001b[1;33m\u001b[0m\u001b[0m\n\u001b[0;32m    302\u001b[0m                     \u001b[0mgotit\u001b[0m \u001b[1;33m=\u001b[0m \u001b[0mwaiter\u001b[0m\u001b[1;33m.\u001b[0m\u001b[0macquire\u001b[0m\u001b[1;33m(\u001b[0m\u001b[1;32mFalse\u001b[0m\u001b[1;33m)\u001b[0m\u001b[1;33m\u001b[0m\u001b[1;33m\u001b[0m\u001b[0m\n",
            "\u001b[1;31mKeyboardInterrupt\u001b[0m: "
          ]
        }
      ]
    },
    {
      "cell_type": "code",
      "metadata": {
        "colab": {
          "base_uri": "https://localhost:8080/",
          "height": 0
        },
        "id": "tX5E17BfZ_S4",
        "outputId": "ac6b6797-3efc-4cc5-9a76-c0f89d59532d"
      },
      "source": [
        "SEQ_LEN = 60\n",
        "N_FUTURE = 30\n",
        "(X_train, y_train), (X_test, y_test) = processData(data, SEQ_LEN, N_FUTURE)\n",
        "\n",
        "model2 = models.Sequential([\n",
        "    layers.Input(shape=(SEQ_LEN,)),\n",
        "    layers.Reshape((SEQ_LEN, 1)),\n",
        "    layers.LSTM(64, return_sequences=True),\n",
        "    layers.LSTM(64),\n",
        "    layers.Dropout(0.2),\n",
        "    layers.Dense(10, activation='relu'),\n",
        "    layers.Dense(1, activation='sigmoid')\n",
        "])\n",
        "model2.compile(optimizer='adam', loss='binary_crossentropy', metrics=['acc'])\n",
        "log2_5 = model2.fit(X_train, y_train, validation_data=(X_test, y_test), epochs=50, batch_size=128)"
      ],
      "execution_count": null,
      "outputs": []
    },
    {
      "cell_type": "code",
      "metadata": {
        "colab": {
          "base_uri": "https://localhost:8080/",
          "height": 0
        },
        "id": "Bhk_XbePoZ5L",
        "outputId": "f2a99c48-23cc-41a7-b558-a825d01d8869"
      },
      "source": [
        "SEQ_LEN = 60\n",
        "N_FUTURE = 60\n",
        "(X_train, y_train), (X_test, y_test) = processData(data, SEQ_LEN, N_FUTURE)\n",
        "\n",
        "model2 = models.Sequential([\n",
        "    layers.Input(shape=(SEQ_LEN,)),\n",
        "    layers.Reshape((SEQ_LEN, 1)),\n",
        "    layers.LSTM(64, return_sequences=True),\n",
        "    layers.LSTM(64),\n",
        "    layers.Dropout(0.2),\n",
        "    layers.Dense(10, activation='relu'),\n",
        "    layers.Dense(1, activation='sigmoid')\n",
        "])\n",
        "model2.compile(optimizer='adam', loss='binary_crossentropy', metrics=['acc'])\n",
        "log2_6 = model2.fit(X_train, y_train, validation_data=(X_test, y_test), epochs=50, batch_size=128)"
      ],
      "execution_count": null,
      "outputs": []
    },
    {
      "cell_type": "code",
      "metadata": {
        "colab": {
          "base_uri": "https://localhost:8080/",
          "height": 281
        },
        "id": "3dwUN4A6slX0",
        "outputId": "f45b153c-2096-4f30-f7bb-5ab42f24f559"
      },
      "source": [
        "pl.plot(log2.history['acc'])\n",
        "pl.plot(log2_1.history['acc'])\n",
        "pl.plot(log2_2.history['acc'])\n",
        "pl.plot(log2_3.history['acc'])\n",
        "pl.plot(log2_4.history['acc'])\n",
        "pl.plot(log2_5.history['acc'])\n",
        "pl.plot(log2_6.history['acc'])\n",
        "pl.legend([\"10-10\", \"30-10\", \"10-30\", \"30-30\", \"30-60\", \"60-30\", \"60-60\"])\n",
        "pl.title(\"SEQ_LEN - N_FUTURE parameters\");"
      ],
      "execution_count": null,
      "outputs": []
    },
    {
      "cell_type": "markdown",
      "metadata": {
        "id": "4SiOUICQuSJj"
      },
      "source": [
        "In terms of training accuracy, SEQ_LEN = 60 and N_FUTURE = 60 produces the best results over epochs.\n",
        "\n",
        "We observe that as we increase both parameters the model performs better."
      ]
    },
    {
      "cell_type": "code",
      "metadata": {
        "colab": {
          "base_uri": "https://localhost:8080/",
          "height": 265
        },
        "id": "m3_SZ_kiuf_T",
        "outputId": "7c884fa0-2eee-436e-c417-6742d3be3b23"
      },
      "source": [
        "max_val_acc = [max(log2.history['val_acc']), max(log2_1.history['val_acc']), max(log2_2.history['val_acc']), \n",
        "               max(log2_3.history['val_acc']), max(log2_4.history['val_acc']), max(log2_5.history['val_acc']), max(log2_6.history['val_acc'])]\n",
        "pl.bar([\"10-10\", \"30-10\", \"10-30\", \"30-30\", \"30-60\", \"60-30\", \"60-60\"], max_val_acc);"
      ],
      "execution_count": null,
      "outputs": []
    },
    {
      "cell_type": "markdown",
      "metadata": {
        "id": "yienxcBRufNw"
      },
      "source": [
        "In terms of testing accuracy, SEQ_LEN = 60 and N_FUTURE = 60 produces the best results."
      ]
    },
    {
      "cell_type": "markdown",
      "metadata": {
        "id": "FTCseviRUBWQ"
      },
      "source": [
        "Furthermore, we observe that the model is overfitting even with Dropout layers. We suppose the reason is due to the nature of the stock market: \"Past data cannot accurately predict future data.\"\n",
        "\n",
        "Nonetheless, we see some promising results with these high test accuracies at certain epochs."
      ]
    },
    {
      "cell_type": "markdown",
      "metadata": {
        "id": "OzGkCcyVCAxC"
      },
      "source": [
        "Different sequence lengths can represent different trends and technical patterns in the stock price. Thus, we decide to make a model with multiple inputs corresponding to sequences with different lengths. We fix the N_FUTURE parameter to 60, and vary the SEQ_LEN between 10, 20, and 30."
      ]
    },
    {
      "cell_type": "markdown",
      "metadata": {
        "id": "ENyGxZJRnSHY"
      },
      "source": [
        "## Multi Input model"
      ]
    },
    {
      "cell_type": "code",
      "metadata": {
        "id": "Nc_PMmgTu20X"
      },
      "source": [
        "SEQS_LEN = [10, 20, 30]        # Previous 10, 20, 30 days\n",
        "N_FUTURE = 60                  # Next 60 days\n",
        "SPLIT = 0.3"
      ],
      "execution_count": null,
      "outputs": []
    },
    {
      "cell_type": "code",
      "metadata": {
        "id": "2f0fPbQP3yJy"
      },
      "source": [
        "train_data, test_data = [[] for _ in range(len(SEQS_LEN) + 1)], [[] for _ in range(len(SEQS_LEN) + 1)]\n",
        "\n",
        "for ticker in data.columns:\n",
        "    prices = data[ticker].values\n",
        "    seqs = [[] for _ in range(len(SEQS_LEN) + 1)]   # +1 for labels\n",
        "    \n",
        "    for i in range(max(SEQS_LEN), len(prices)-N_FUTURE):     # Starting from the largest sequence length size\n",
        "\n",
        "        # We want to compute the price direction from the current index.\n",
        "        future_price_avg = np.mean(prices[i:i+N_FUTURE])\n",
        "        # direction is 0 (negative) if the future price average is below the current price, otherwise direction is 1 (positive)\n",
        "        price_dir = 0 if future_price_avg < prices[i] else 1 \n",
        "    \n",
        "        for j in range(len(SEQS_LEN)):          # For each sequence size\n",
        "            seqs[j].append( prices[i - SEQS_LEN[j] : i] )\n",
        "\n",
        "        seqs[-1].append(price_dir)      # append labels\n",
        "\n",
        "    for j in range(len(train_data)):\n",
        "        split_index = int(len(seqs[j]) * (1 - SPLIT))\n",
        "        train_data[j].extend(np.array(seqs[j])[:split_index])\n",
        "        # We ignore the overlap of sequences between the train data and the test data\n",
        "        test_data[j].extend(np.array(seqs[j])[split_index + max(SEQS_LEN):])"
      ],
      "execution_count": null,
      "outputs": []
    },
    {
      "cell_type": "code",
      "metadata": {
        "id": "oB4u4XIN4eoZ"
      },
      "source": [
        "np.random.seed(0)\n",
        "\n",
        "indices = np.arange(len(train_data[0]))\n",
        "np.random.shuffle(indices)\n",
        "for j in range(len(train_data)):\n",
        "    train_data[j] = np.array(train_data[j])[indices]\n",
        "\n",
        "indices = np.arange(len(test_data[0]))\n",
        "np.random.shuffle(indices)\n",
        "for j in range(len(test_data)):\n",
        "    test_data[j] = np.array(test_data[j])[indices]"
      ],
      "execution_count": null,
      "outputs": []
    },
    {
      "cell_type": "code",
      "metadata": {
        "colab": {
          "base_uri": "https://localhost:8080/",
          "height": 0
        },
        "id": "pkfItRhhEJRy",
        "outputId": "3aed2811-ad36-47e9-d2af-6ec688f420e7"
      },
      "source": [
        "# Make sure the data shapes are fine\n",
        "for j in range(len(test_data)):\n",
        "    print(train_data[j].shape, test_data[j].shape)"
      ],
      "execution_count": null,
      "outputs": []
    },
    {
      "cell_type": "markdown",
      "metadata": {
        "id": "UAhFWYscFk5_"
      },
      "source": [
        "### Model"
      ]
    },
    {
      "cell_type": "code",
      "metadata": {
        "id": "L1wLsnjuELyw"
      },
      "source": [
        "input1 = layers.Input(shape=(10,))\n",
        "input2 = layers.Input(shape=(20,))\n",
        "input3 = layers.Input(shape=(30,))\n",
        "\n",
        "x = layers.Reshape((10, 1))(input1)\n",
        "x = layers.LSTM(16)(x)\n",
        "x = layers.Dense(16, activation=\"relu\")(x)\n",
        "x = layers.Dense(10, activation=\"relu\")(x)\n",
        "x = Model(inputs=input1, outputs=x)\n",
        "\n",
        "y = layers.Reshape((20, 1))(input2)\n",
        "y = layers.LSTM(32)(y)\n",
        "y = layers.Dense(32, activation=\"relu\")(y)\n",
        "y = layers.Dense(10, activation=\"relu\")(y)\n",
        "y = Model(inputs=input2, outputs=y)\n",
        "\n",
        "z = layers.Reshape((30, 1))(input3)\n",
        "z = layers.LSTM(64)(z)\n",
        "z = layers.Dense(64, activation=\"relu\")(z)\n",
        "z = layers.Dense(10, activation=\"relu\")(z)\n",
        "z = Model(inputs=input3, outputs=z)\n",
        "\n",
        "combined = layers.concatenate([x.output, y.output, z.output])\n",
        "\n",
        "c = layers.Dense(3, activation=\"relu\")(combined)\n",
        "c = layers.Dense(1, activation=\"sigmoid\")(c)\n",
        "\n",
        "model3 = Model(inputs=[x.input, y.input, z.input], outputs=c)"
      ],
      "execution_count": null,
      "outputs": []
    },
    {
      "cell_type": "code",
      "metadata": {
        "colab": {
          "base_uri": "https://localhost:8080/",
          "height": 0
        },
        "id": "CCTsr5hLIkT0",
        "outputId": "55506bea-5565-4e7c-b490-51a96bc96b10"
      },
      "source": [
        "model3.summary()"
      ],
      "execution_count": null,
      "outputs": []
    },
    {
      "cell_type": "code",
      "metadata": {
        "colab": {
          "base_uri": "https://localhost:8080/",
          "height": 0
        },
        "id": "JdDBYoE3GGWZ",
        "outputId": "f4d1b93b-0e7d-46c7-85dc-42918a795cd4"
      },
      "source": [
        "model3.compile(optimizer='adam', loss='binary_crossentropy', metrics=['acc'])\n",
        "log3 = model3.fit(train_data[:-1], train_data[-1], validation_data=(test_data[:-1], test_data[-1]), epochs=50, batch_size=64)"
      ],
      "execution_count": null,
      "outputs": []
    },
    {
      "cell_type": "code",
      "metadata": {
        "colab": {
          "base_uri": "https://localhost:8080/",
          "height": 282
        },
        "id": "s4uu3JKbIJ9S",
        "outputId": "c7569a83-70f2-40df-d98f-79d888c892f0"
      },
      "source": [
        "pl.plot(log3.history['acc'])\n",
        "pl.plot(log3.history['val_acc'])\n",
        "pl.legend(['train acc', \"test acc\"])\n",
        "print(f\"Best test acc: {max(log3.history['val_acc'])}\")"
      ],
      "execution_count": null,
      "outputs": []
    },
    {
      "cell_type": "markdown",
      "metadata": {
        "id": "LTB80ip0M1iZ"
      },
      "source": [
        "We observe that the multi sequence model does not solve the overfitting problem."
      ]
    },
    {
      "cell_type": "code",
      "metadata": {
        "colab": {
          "base_uri": "https://localhost:8080/",
          "height": 281
        },
        "id": "Oun9AoTzJic0",
        "outputId": "d92d9caf-e266-4764-810d-dec44bf82ed1"
      },
      "source": [
        "pl.plot(log2_6.history['acc'])\n",
        "pl.plot(log3.history['acc'])\n",
        "pl.legend([\"60-60\", \"[10,20,30]-60\"])\n",
        "pl.title(\"SEQ_LEN - N_FUTURE parameters\");"
      ],
      "execution_count": null,
      "outputs": []
    },
    {
      "cell_type": "markdown",
      "metadata": {
        "id": "UgeXZKYRLYMz"
      },
      "source": [
        "In terms of training accuracy, when comparing the best parameters (SEQ_LEN=60, N_FUTURE=60) found earlier against the multi sequence model, we observe that the simple sequence model with one input performs significantly better (it converges faster over epochs)."
      ]
    },
    {
      "cell_type": "code",
      "metadata": {
        "colab": {
          "base_uri": "https://localhost:8080/",
          "height": 282
        },
        "id": "x6I8Fpb6LXam",
        "outputId": "7e066d24-a6e9-4ccc-a3f9-6c2af696712e"
      },
      "source": [
        "max_val_acc = [max(log2_6.history['val_acc']), max(log3.history['val_acc'])]\n",
        "pl.bar([\"60-60\", \"[10,20,30]-60\"], max_val_acc);\n",
        "print([max(log2_6.history['val_acc']), max(log3.history['val_acc'])])"
      ],
      "execution_count": null,
      "outputs": []
    },
    {
      "cell_type": "markdown",
      "metadata": {
        "id": "Q7rbx3wXL6g7"
      },
      "source": [
        "In terms of test accuracy, when comparing the best parameters (SEQ_LEN=60, N_FUTURE=60) found earlier against the multi sequence model, we observe that the simple model outperforms once again the multi sequence model by a significant margin."
      ]
    }
  ]
}